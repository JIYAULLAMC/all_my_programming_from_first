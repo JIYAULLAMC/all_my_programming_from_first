{
 "cells": [
  {
   "cell_type": "code",
   "execution_count": 1,
   "id": "0c201284",
   "metadata": {},
   "outputs": [
    {
     "name": "stdout",
     "output_type": "stream",
     "text": [
      "jiyaulla m chiadadi here is the what i am suppose to tell\n"
     ]
    }
   ],
   "source": [
    "print('jiyaulla m chiadadi here is the what i am suppose to tell')"
   ]
  },
  {
   "cell_type": "code",
   "execution_count": 2,
   "id": "fd0c8723",
   "metadata": {},
   "outputs": [],
   "source": [
    "import matplotlib as mt"
   ]
  },
  {
   "cell_type": "code",
   "execution_count": null,
   "id": "aaa21117",
   "metadata": {},
   "outputs": [],
   "source": [
    "list = [1,23,34,5,6,23,54,3]\n"
   ]
  }
 ],
 "metadata": {
  "kernelspec": {
   "display_name": "Python 3 (ipykernel)",
   "language": "python",
   "name": "python3"
  },
  "language_info": {
   "codemirror_mode": {
    "name": "ipython",
    "version": 3
   },
   "file_extension": ".py",
   "mimetype": "text/x-python",
   "name": "python",
   "nbconvert_exporter": "python",
   "pygments_lexer": "ipython3",
   "version": "3.9.7"
  }
 },
 "nbformat": 4,
 "nbformat_minor": 5
}
