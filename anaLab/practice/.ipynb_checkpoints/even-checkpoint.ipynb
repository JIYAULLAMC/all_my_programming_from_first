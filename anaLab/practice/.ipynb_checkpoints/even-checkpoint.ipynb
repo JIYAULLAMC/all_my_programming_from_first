{
 "cells": [
  {
   "cell_type": "code",
   "execution_count": 1,
   "id": "81fba383-a21f-4569-ba07-fe53ef0a0f09",
   "metadata": {
    "tags": []
   },
   "outputs": [
    {
     "name": "stdout",
     "output_type": "stream",
     "text": [
      "6\n"
     ]
    }
   ],
   "source": [
    "nums = [1,2,3,4,5,6,1,2,3]\n",
    "largest = nums[0]\n",
    "for i in nums:\n",
    "    if largest< i:\n",
    "        largest = i\n",
    "print(largest)"
   ]
  },
  {
   "cell_type": "code",
   "execution_count": null,
   "id": "3f7fe6c7-7390-46c5-bf1d-4371d426e6d9",
   "metadata": {},
   "outputs": [],
   "source": [
    "slargest = nums[0]\n",
    "for i in nums:\n",
    "    if slargest< i and slargest != largest:\n",
    "        slargest = i\n",
    "print(slargest)"
   ]
  }
 ],
 "metadata": {
  "kernelspec": {
   "display_name": "Python 3 (ipykernel)",
   "language": "python",
   "name": "python3"
  },
  "language_info": {
   "codemirror_mode": {
    "name": "ipython",
    "version": 3
   },
   "file_extension": ".py",
   "mimetype": "text/x-python",
   "name": "python",
   "nbconvert_exporter": "python",
   "pygments_lexer": "ipython3",
   "version": "3.9.7"
  }
 },
 "nbformat": 4,
 "nbformat_minor": 5
}
