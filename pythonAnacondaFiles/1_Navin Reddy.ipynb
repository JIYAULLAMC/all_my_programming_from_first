{
 "cells": [
  {
   "cell_type": "markdown",
   "metadata": {},
   "source": [
    "navin\n"
   ]
  },
  {
   "cell_type": "code",
   "execution_count": 1,
   "metadata": {},
   "outputs": [
    {
     "name": "stdout",
     "output_type": "stream",
     "text": [
      "5\n"
     ]
    }
   ],
   "source": [
    "print(2+3)"
   ]
  },
  {
   "cell_type": "code",
   "execution_count": 2,
   "metadata": {},
   "outputs": [
    {
     "data": {
      "text/plain": [
       "1"
      ]
     },
     "execution_count": 2,
     "metadata": {},
     "output_type": "execute_result"
    }
   ],
   "source": [
    "9-8"
   ]
  },
  {
   "cell_type": "code",
   "execution_count": 3,
   "metadata": {},
   "outputs": [
    {
     "data": {
      "text/plain": [
       "24"
      ]
     },
     "execution_count": 3,
     "metadata": {},
     "output_type": "execute_result"
    }
   ],
   "source": [
    "4*6"
   ]
  },
  {
   "cell_type": "code",
   "execution_count": 4,
   "metadata": {},
   "outputs": [
    {
     "data": {
      "text/plain": [
       "4.0"
      ]
     },
     "execution_count": 4,
     "metadata": {},
     "output_type": "execute_result"
    }
   ],
   "source": [
    "8/2"
   ]
  },
  {
   "cell_type": "code",
   "execution_count": 5,
   "metadata": {},
   "outputs": [
    {
     "data": {
      "text/plain": [
       "2.5"
      ]
     },
     "execution_count": 5,
     "metadata": {},
     "output_type": "execute_result"
    }
   ],
   "source": [
    "5/2"
   ]
  },
  {
   "cell_type": "code",
   "execution_count": 6,
   "metadata": {},
   "outputs": [
    {
     "data": {
      "text/plain": [
       "2"
      ]
     },
     "execution_count": 6,
     "metadata": {},
     "output_type": "execute_result"
    }
   ],
   "source": [
    "5//2\n"
   ]
  },
  {
   "cell_type": "code",
   "execution_count": 7,
   "metadata": {},
   "outputs": [
    {
     "data": {
      "text/plain": [
       "4"
      ]
     },
     "execution_count": 7,
     "metadata": {},
     "output_type": "execute_result"
    }
   ],
   "source": [
    "5+9-10"
   ]
  },
  {
   "cell_type": "code",
   "execution_count": 8,
   "metadata": {},
   "outputs": [
    {
     "data": {
      "text/plain": [
       "14"
      ]
     },
     "execution_count": 8,
     "metadata": {},
     "output_type": "execute_result"
    }
   ],
   "source": [
    "8+(2*3)"
   ]
  },
  {
   "cell_type": "code",
   "execution_count": 9,
   "metadata": {},
   "outputs": [
    {
     "data": {
      "text/plain": [
       "100"
      ]
     },
     "execution_count": 9,
     "metadata": {},
     "output_type": "execute_result"
    }
   ],
   "source": [
    "(8+2)*10"
   ]
  },
  {
   "cell_type": "code",
   "execution_count": 10,
   "metadata": {},
   "outputs": [
    {
     "data": {
      "text/plain": [
       "8"
      ]
     },
     "execution_count": 10,
     "metadata": {},
     "output_type": "execute_result"
    }
   ],
   "source": [
    "2*2*2"
   ]
  },
  {
   "cell_type": "code",
   "execution_count": 11,
   "metadata": {},
   "outputs": [
    {
     "data": {
      "text/plain": [
       "8"
      ]
     },
     "execution_count": 11,
     "metadata": {},
     "output_type": "execute_result"
    }
   ],
   "source": [
    "2**3"
   ]
  },
  {
   "cell_type": "code",
   "execution_count": 12,
   "metadata": {},
   "outputs": [
    {
     "data": {
      "text/plain": [
       "1"
      ]
     },
     "execution_count": 12,
     "metadata": {},
     "output_type": "execute_result"
    }
   ],
   "source": [
    "2^3"
   ]
  },
  {
   "cell_type": "code",
   "execution_count": 13,
   "metadata": {},
   "outputs": [
    {
     "data": {
      "text/plain": [
       "3"
      ]
     },
     "execution_count": 13,
     "metadata": {},
     "output_type": "execute_result"
    }
   ],
   "source": [
    "10//3"
   ]
  },
  {
   "cell_type": "code",
   "execution_count": 14,
   "metadata": {},
   "outputs": [
    {
     "data": {
      "text/plain": [
       "1"
      ]
     },
     "execution_count": 14,
     "metadata": {},
     "output_type": "execute_result"
    }
   ],
   "source": [
    "10%3"
   ]
  },
  {
   "cell_type": "code",
   "execution_count": 15,
   "metadata": {},
   "outputs": [
    {
     "data": {
      "text/plain": [
       "2"
      ]
     },
     "execution_count": 15,
     "metadata": {},
     "output_type": "execute_result"
    }
   ],
   "source": [
    "2%3"
   ]
  },
  {
   "cell_type": "code",
   "execution_count": 16,
   "metadata": {},
   "outputs": [
    {
     "data": {
      "text/plain": [
       "'navin'"
      ]
     },
     "execution_count": 16,
     "metadata": {},
     "output_type": "execute_result"
    }
   ],
   "source": [
    "'navin'"
   ]
  },
  {
   "cell_type": "code",
   "execution_count": 17,
   "metadata": {},
   "outputs": [
    {
     "name": "stdout",
     "output_type": "stream",
     "text": [
      "navin\n"
     ]
    }
   ],
   "source": [
    "print('navin')"
   ]
  },
  {
   "cell_type": "code",
   "execution_count": 18,
   "metadata": {},
   "outputs": [
    {
     "ename": "SyntaxError",
     "evalue": "invalid syntax (<ipython-input-18-c97dd56a485d>, line 1)",
     "output_type": "error",
     "traceback": [
      "\u001b[1;36m  File \u001b[1;32m\"<ipython-input-18-c97dd56a485d>\"\u001b[1;36m, line \u001b[1;32m1\u001b[0m\n\u001b[1;33m    print('navin's laptop')\u001b[0m\n\u001b[1;37m                 ^\u001b[0m\n\u001b[1;31mSyntaxError\u001b[0m\u001b[1;31m:\u001b[0m invalid syntax\n"
     ]
    }
   ],
   "source": [
    "print('navin's laptop')"
   ]
  },
  {
   "cell_type": "code",
   "execution_count": 159,
   "metadata": {},
   "outputs": [
    {
     "name": "stdout",
     "output_type": "stream",
     "text": [
      "navin's laptop\n"
     ]
    }
   ],
   "source": [
    "print(\"navin's laptop\")"
   ]
  },
  {
   "cell_type": "code",
   "execution_count": 160,
   "metadata": {},
   "outputs": [
    {
     "name": "stdout",
     "output_type": "stream",
     "text": [
      "navin \"laptop\"\n"
     ]
    }
   ],
   "source": [
    "print('navin \"laptop\"')"
   ]
  },
  {
   "cell_type": "code",
   "execution_count": 161,
   "metadata": {},
   "outputs": [
    {
     "name": "stdout",
     "output_type": "stream",
     "text": [
      "navin's \"laptop\"\n"
     ]
    }
   ],
   "source": [
    "# note here slash will help to change the meaning of the coat\n",
    "print('navin\\'s \"laptop\"')"
   ]
  },
  {
   "cell_type": "code",
   "execution_count": 162,
   "metadata": {},
   "outputs": [
    {
     "data": {
      "text/plain": [
       "'navin navin'"
      ]
     },
     "execution_count": 162,
     "metadata": {},
     "output_type": "execute_result"
    }
   ],
   "source": [
    "'navin' + ' navin'"
   ]
  },
  {
   "cell_type": "code",
   "execution_count": 163,
   "metadata": {},
   "outputs": [
    {
     "data": {
      "text/plain": [
       "'navin navin navin navin navin navin navin navin navin navin '"
      ]
     },
     "execution_count": 163,
     "metadata": {},
     "output_type": "execute_result"
    }
   ],
   "source": [
    "'navin '*10\n"
   ]
  },
  {
   "cell_type": "code",
   "execution_count": 164,
   "metadata": {},
   "outputs": [
    {
     "data": {
      "text/plain": [
       "'c:\\\\docs\\navin'"
      ]
     },
     "execution_count": 164,
     "metadata": {},
     "output_type": "execute_result"
    }
   ],
   "source": [
    "'c:\\docs\\navin'"
   ]
  },
  {
   "cell_type": "code",
   "execution_count": 165,
   "metadata": {},
   "outputs": [
    {
     "name": "stdout",
     "output_type": "stream",
     "text": [
      "c:\\docs\n",
      "avin\n"
     ]
    }
   ],
   "source": [
    "print('c:\\docs\\navin')"
   ]
  },
  {
   "cell_type": "code",
   "execution_count": 166,
   "metadata": {},
   "outputs": [
    {
     "name": "stdout",
     "output_type": "stream",
     "text": [
      "c:\\docs\\navin\n"
     ]
    }
   ],
   "source": [
    "# printing the row string\n",
    "print(r'c:\\docs\\navin')"
   ]
  },
  {
   "cell_type": "code",
   "execution_count": 167,
   "metadata": {},
   "outputs": [
    {
     "data": {
      "text/plain": [
       "5"
      ]
     },
     "execution_count": 167,
     "metadata": {},
     "output_type": "execute_result"
    }
   ],
   "source": [
    "# variables\n",
    "x=2\n",
    "x+3"
   ]
  },
  {
   "cell_type": "code",
   "execution_count": 168,
   "metadata": {},
   "outputs": [
    {
     "data": {
      "text/plain": [
       "5"
      ]
     },
     "execution_count": 168,
     "metadata": {},
     "output_type": "execute_result"
    }
   ],
   "source": [
    "y=3\n",
    "x+y"
   ]
  },
  {
   "cell_type": "code",
   "execution_count": 169,
   "metadata": {},
   "outputs": [
    {
     "data": {
      "text/plain": [
       "9"
      ]
     },
     "execution_count": 169,
     "metadata": {},
     "output_type": "execute_result"
    }
   ],
   "source": [
    "x = 9\n",
    "x"
   ]
  },
  {
   "cell_type": "code",
   "execution_count": 170,
   "metadata": {},
   "outputs": [
    {
     "data": {
      "text/plain": [
       "12"
      ]
     },
     "execution_count": 170,
     "metadata": {},
     "output_type": "execute_result"
    }
   ],
   "source": [
    "x + y"
   ]
  },
  {
   "cell_type": "code",
   "execution_count": 171,
   "metadata": {},
   "outputs": [
    {
     "ename": "NameError",
     "evalue": "name 'abc' is not defined",
     "output_type": "error",
     "traceback": [
      "\u001b[1;31m---------------------------------------------------------------------------\u001b[0m",
      "\u001b[1;31mNameError\u001b[0m                                 Traceback (most recent call last)",
      "\u001b[1;32m<ipython-input-171-03cfd743661f>\u001b[0m in \u001b[0;36m<module>\u001b[1;34m\u001b[0m\n\u001b[1;32m----> 1\u001b[1;33m \u001b[0mabc\u001b[0m\u001b[1;33m\u001b[0m\u001b[1;33m\u001b[0m\u001b[0m\n\u001b[0m",
      "\u001b[1;31mNameError\u001b[0m: name 'abc' is not defined"
     ]
    }
   ],
   "source": [
    "abc\n"
   ]
  },
  {
   "cell_type": "code",
   "execution_count": 172,
   "metadata": {},
   "outputs": [
    {
     "data": {
      "text/plain": [
       "15"
      ]
     },
     "execution_count": 172,
     "metadata": {},
     "output_type": "execute_result"
    }
   ],
   "source": [
    "# how to use the output of the privious operation it is by underscore as below\n",
    "_+y\n"
   ]
  },
  {
   "cell_type": "code",
   "execution_count": 173,
   "metadata": {},
   "outputs": [
    {
     "data": {
      "text/plain": [
       "'youtube'"
      ]
     },
     "execution_count": 173,
     "metadata": {},
     "output_type": "execute_result"
    }
   ],
   "source": [
    "# variables with the strings\n",
    "name = 'youtube'\n",
    "name"
   ]
  },
  {
   "cell_type": "code",
   "execution_count": 174,
   "metadata": {},
   "outputs": [
    {
     "data": {
      "text/plain": [
       "'youtube rocks'"
      ]
     },
     "execution_count": 174,
     "metadata": {},
     "output_type": "execute_result"
    }
   ],
   "source": [
    "name + ' rocks'"
   ]
  },
  {
   "cell_type": "code",
   "execution_count": 175,
   "metadata": {},
   "outputs": [
    {
     "data": {
      "text/plain": [
       "'y'"
      ]
     },
     "execution_count": 175,
     "metadata": {},
     "output_type": "execute_result"
    }
   ],
   "source": [
    "name [0]"
   ]
  },
  {
   "cell_type": "code",
   "execution_count": 176,
   "metadata": {},
   "outputs": [
    {
     "data": {
      "text/plain": [
       "'e'"
      ]
     },
     "execution_count": 176,
     "metadata": {},
     "output_type": "execute_result"
    }
   ],
   "source": [
    "name[6]"
   ]
  },
  {
   "cell_type": "code",
   "execution_count": 177,
   "metadata": {},
   "outputs": [
    {
     "ename": "IndexError",
     "evalue": "string index out of range",
     "output_type": "error",
     "traceback": [
      "\u001b[1;31m---------------------------------------------------------------------------\u001b[0m",
      "\u001b[1;31mIndexError\u001b[0m                                Traceback (most recent call last)",
      "\u001b[1;32m<ipython-input-177-c87ccbc6d317>\u001b[0m in \u001b[0;36m<module>\u001b[1;34m\u001b[0m\n\u001b[1;32m----> 1\u001b[1;33m \u001b[0mname\u001b[0m\u001b[1;33m[\u001b[0m\u001b[1;36m8\u001b[0m\u001b[1;33m]\u001b[0m\u001b[1;33m\u001b[0m\u001b[1;33m\u001b[0m\u001b[0m\n\u001b[0m",
      "\u001b[1;31mIndexError\u001b[0m: string index out of range"
     ]
    }
   ],
   "source": [
    "name[8]"
   ]
  },
  {
   "cell_type": "code",
   "execution_count": 178,
   "metadata": {},
   "outputs": [
    {
     "data": {
      "text/plain": [
       "'e'"
      ]
     },
     "execution_count": 178,
     "metadata": {},
     "output_type": "execute_result"
    }
   ],
   "source": [
    "name[-1]"
   ]
  },
  {
   "cell_type": "code",
   "execution_count": 179,
   "metadata": {},
   "outputs": [
    {
     "data": {
      "text/plain": [
       "'y'"
      ]
     },
     "execution_count": 179,
     "metadata": {},
     "output_type": "execute_result"
    }
   ],
   "source": [
    "name[-7]"
   ]
  },
  {
   "cell_type": "code",
   "execution_count": 180,
   "metadata": {},
   "outputs": [
    {
     "data": {
      "text/plain": [
       "'yo'"
      ]
     },
     "execution_count": 180,
     "metadata": {},
     "output_type": "execute_result"
    }
   ],
   "source": [
    "name[0:2]"
   ]
  },
  {
   "cell_type": "code",
   "execution_count": 181,
   "metadata": {},
   "outputs": [
    {
     "data": {
      "text/plain": [
       "'out'"
      ]
     },
     "execution_count": 181,
     "metadata": {},
     "output_type": "execute_result"
    }
   ],
   "source": [
    "name[1:4]"
   ]
  },
  {
   "cell_type": "code",
   "execution_count": 182,
   "metadata": {},
   "outputs": [
    {
     "data": {
      "text/plain": [
       "'outube'"
      ]
     },
     "execution_count": 182,
     "metadata": {},
     "output_type": "execute_result"
    }
   ],
   "source": [
    "name[1:]"
   ]
  },
  {
   "cell_type": "code",
   "execution_count": 183,
   "metadata": {},
   "outputs": [
    {
     "data": {
      "text/plain": [
       "'yout'"
      ]
     },
     "execution_count": 183,
     "metadata": {},
     "output_type": "execute_result"
    }
   ],
   "source": [
    "name[:4]"
   ]
  },
  {
   "cell_type": "code",
   "execution_count": 184,
   "metadata": {},
   "outputs": [
    {
     "data": {
      "text/plain": [
       "'tube'"
      ]
     },
     "execution_count": 184,
     "metadata": {},
     "output_type": "execute_result"
    }
   ],
   "source": [
    "name[3:10]"
   ]
  },
  {
   "cell_type": "code",
   "execution_count": 185,
   "metadata": {},
   "outputs": [
    {
     "ename": "TypeError",
     "evalue": "'str' object does not support item assignment",
     "output_type": "error",
     "traceback": [
      "\u001b[1;31m---------------------------------------------------------------------------\u001b[0m",
      "\u001b[1;31mTypeError\u001b[0m                                 Traceback (most recent call last)",
      "\u001b[1;32m<ipython-input-185-a44ebbfb794a>\u001b[0m in \u001b[0;36m<module>\u001b[1;34m\u001b[0m\n\u001b[1;32m----> 1\u001b[1;33m \u001b[0mname\u001b[0m\u001b[1;33m[\u001b[0m\u001b[1;36m0\u001b[0m\u001b[1;33m:\u001b[0m\u001b[1;36m3\u001b[0m\u001b[1;33m]\u001b[0m\u001b[1;33m=\u001b[0m\u001b[1;34m'my'\u001b[0m\u001b[1;33m\u001b[0m\u001b[1;33m\u001b[0m\u001b[0m\n\u001b[0m",
      "\u001b[1;31mTypeError\u001b[0m: 'str' object does not support item assignment"
     ]
    }
   ],
   "source": [
    "name[0:3]='my'"
   ]
  },
  {
   "cell_type": "code",
   "execution_count": 186,
   "metadata": {},
   "outputs": [
    {
     "ename": "TypeError",
     "evalue": "'str' object does not support item assignment",
     "output_type": "error",
     "traceback": [
      "\u001b[1;31m---------------------------------------------------------------------------\u001b[0m",
      "\u001b[1;31mTypeError\u001b[0m                                 Traceback (most recent call last)",
      "\u001b[1;32m<ipython-input-186-5eeffd6c5732>\u001b[0m in \u001b[0;36m<module>\u001b[1;34m\u001b[0m\n\u001b[1;32m----> 1\u001b[1;33m \u001b[0mname\u001b[0m\u001b[1;33m[\u001b[0m\u001b[1;36m0\u001b[0m\u001b[1;33m]\u001b[0m\u001b[1;33m=\u001b[0m\u001b[1;34m\"R\"\u001b[0m\u001b[1;33m\u001b[0m\u001b[1;33m\u001b[0m\u001b[0m\n\u001b[0m",
      "\u001b[1;31mTypeError\u001b[0m: 'str' object does not support item assignment"
     ]
    }
   ],
   "source": [
    "name[0]=\"R\""
   ]
  },
  {
   "cell_type": "code",
   "execution_count": 187,
   "metadata": {},
   "outputs": [
    {
     "data": {
      "text/plain": [
       "'mytube'"
      ]
     },
     "execution_count": 187,
     "metadata": {},
     "output_type": "execute_result"
    }
   ],
   "source": [
    "\"my\"+name[3:]"
   ]
  },
  {
   "cell_type": "code",
   "execution_count": 188,
   "metadata": {},
   "outputs": [
    {
     "data": {
      "text/plain": [
       "11"
      ]
     },
     "execution_count": 188,
     "metadata": {},
     "output_type": "execute_result"
    }
   ],
   "source": [
    "myname='Navin Reddy'\n",
    "len(myname)\n"
   ]
  },
  {
   "cell_type": "code",
   "execution_count": 189,
   "metadata": {},
   "outputs": [
    {
     "data": {
      "text/plain": [
       "[25, 12, 95, 36, 14]"
      ]
     },
     "execution_count": 189,
     "metadata": {},
     "output_type": "execute_result"
    }
   ],
   "source": [
    "#list\n",
    "nums=[25,12,95,36,14]\n",
    "nums"
   ]
  },
  {
   "cell_type": "code",
   "execution_count": 190,
   "metadata": {},
   "outputs": [
    {
     "data": {
      "text/plain": [
       "25"
      ]
     },
     "execution_count": 190,
     "metadata": {},
     "output_type": "execute_result"
    }
   ],
   "source": [
    "nums[0]\n"
   ]
  },
  {
   "cell_type": "code",
   "execution_count": 191,
   "metadata": {},
   "outputs": [
    {
     "data": {
      "text/plain": [
       "14"
      ]
     },
     "execution_count": 191,
     "metadata": {},
     "output_type": "execute_result"
    }
   ],
   "source": [
    "nums[4]"
   ]
  },
  {
   "cell_type": "code",
   "execution_count": 192,
   "metadata": {},
   "outputs": [
    {
     "data": {
      "text/plain": [
       "[95, 36, 14]"
      ]
     },
     "execution_count": 192,
     "metadata": {},
     "output_type": "execute_result"
    }
   ],
   "source": [
    "nums[2:]"
   ]
  },
  {
   "cell_type": "code",
   "execution_count": 193,
   "metadata": {},
   "outputs": [
    {
     "data": {
      "text/plain": [
       "[95, 36]"
      ]
     },
     "execution_count": 193,
     "metadata": {},
     "output_type": "execute_result"
    }
   ],
   "source": [
    "nums[2:-1]"
   ]
  },
  {
   "cell_type": "code",
   "execution_count": 194,
   "metadata": {},
   "outputs": [
    {
     "data": {
      "text/plain": [
       "[95, 36]"
      ]
     },
     "execution_count": 194,
     "metadata": {},
     "output_type": "execute_result"
    }
   ],
   "source": [
    "nums[-3:-1]"
   ]
  },
  {
   "cell_type": "code",
   "execution_count": 195,
   "metadata": {},
   "outputs": [
    {
     "data": {
      "text/plain": [
       "[]"
      ]
     },
     "execution_count": 195,
     "metadata": {},
     "output_type": "execute_result"
    }
   ],
   "source": [
    "# we can not flow right to left to access the variables\n",
    "nums[-1:-3]"
   ]
  },
  {
   "cell_type": "code",
   "execution_count": 196,
   "metadata": {},
   "outputs": [
    {
     "data": {
      "text/plain": [
       "['navin', 'kiran', 'john']"
      ]
     },
     "execution_count": 196,
     "metadata": {},
     "output_type": "execute_result"
    }
   ],
   "source": [
    "names=['navin','kiran','john']\n",
    "names"
   ]
  },
  {
   "cell_type": "code",
   "execution_count": 197,
   "metadata": {},
   "outputs": [
    {
     "data": {
      "text/plain": [
       "[9.5, 'Navin', 25]"
      ]
     },
     "execution_count": 197,
     "metadata": {},
     "output_type": "execute_result"
    }
   ],
   "source": [
    "values=[9.5,'Navin',25]\n",
    "values"
   ]
  },
  {
   "cell_type": "code",
   "execution_count": 198,
   "metadata": {},
   "outputs": [
    {
     "data": {
      "text/plain": [
       "[[25, 12, 95, 36, 14], ['navin', 'kiran', 'john']]"
      ]
     },
     "execution_count": 198,
     "metadata": {},
     "output_type": "execute_result"
    }
   ],
   "source": [
    "mil=[nums,names]\n",
    "mil"
   ]
  },
  {
   "cell_type": "code",
   "execution_count": 199,
   "metadata": {},
   "outputs": [
    {
     "data": {
      "text/plain": [
       "[34, 25, 12, 95, 36, 14, 10]"
      ]
     },
     "execution_count": 199,
     "metadata": {},
     "output_type": "execute_result"
    }
   ],
   "source": [
    "#list operation\n",
    "nums.append(10)\n",
    "nums.insert(0,34)\n",
    "nums"
   ]
  },
  {
   "cell_type": "code",
   "execution_count": 200,
   "metadata": {},
   "outputs": [
    {
     "data": {
      "text/plain": [
       "[34, 25, 12, 95, 36, 10]"
      ]
     },
     "execution_count": 200,
     "metadata": {},
     "output_type": "execute_result"
    }
   ],
   "source": [
    "nums.remove(14)\n",
    "nums"
   ]
  },
  {
   "cell_type": "code",
   "execution_count": 201,
   "metadata": {},
   "outputs": [],
   "source": [
    "\n",
    "nums.remove(10)"
   ]
  },
  {
   "cell_type": "code",
   "execution_count": 202,
   "metadata": {},
   "outputs": [
    {
     "data": {
      "text/plain": [
       "[34, 25, 12, 95, 36]"
      ]
     },
     "execution_count": 202,
     "metadata": {},
     "output_type": "execute_result"
    }
   ],
   "source": [
    "nums"
   ]
  },
  {
   "cell_type": "code",
   "execution_count": 203,
   "metadata": {},
   "outputs": [
    {
     "data": {
      "text/plain": [
       "[25, 12, 95, 36]"
      ]
     },
     "execution_count": 203,
     "metadata": {},
     "output_type": "execute_result"
    }
   ],
   "source": [
    "# pop will help to remove the  number by the help of the index value\n",
    "nums.pop(0)\n",
    "nums"
   ]
  },
  {
   "cell_type": "code",
   "execution_count": 204,
   "metadata": {},
   "outputs": [
    {
     "data": {
      "text/plain": [
       "36"
      ]
     },
     "execution_count": 204,
     "metadata": {},
     "output_type": "execute_result"
    }
   ],
   "source": [
    "nums.pop()"
   ]
  },
  {
   "cell_type": "code",
   "execution_count": 205,
   "metadata": {},
   "outputs": [
    {
     "data": {
      "text/plain": [
       "[25, 12]"
      ]
     },
     "execution_count": 205,
     "metadata": {},
     "output_type": "execute_result"
    }
   ],
   "source": [
    "del nums[2:]\n",
    "nums"
   ]
  },
  {
   "cell_type": "code",
   "execution_count": 206,
   "metadata": {},
   "outputs": [
    {
     "data": {
      "text/plain": [
       "[25, 12, 25, 12, 14, 36]"
      ]
     },
     "execution_count": 206,
     "metadata": {},
     "output_type": "execute_result"
    }
   ],
   "source": [
    "# to add the multiple values\n",
    "nums.extend([25,12,14,36])\n",
    "nums"
   ]
  },
  {
   "cell_type": "code",
   "execution_count": 207,
   "metadata": {},
   "outputs": [
    {
     "data": {
      "text/plain": [
       "12"
      ]
     },
     "execution_count": 207,
     "metadata": {},
     "output_type": "execute_result"
    }
   ],
   "source": [
    "# inbuildt functions\n",
    "min(nums)"
   ]
  },
  {
   "cell_type": "code",
   "execution_count": 208,
   "metadata": {},
   "outputs": [
    {
     "data": {
      "text/plain": [
       "36"
      ]
     },
     "execution_count": 208,
     "metadata": {},
     "output_type": "execute_result"
    }
   ],
   "source": [
    "max(nums)\n"
   ]
  },
  {
   "cell_type": "code",
   "execution_count": 209,
   "metadata": {},
   "outputs": [
    {
     "ename": "TypeError",
     "evalue": "sum() takes 0 positional arguments but 1 was given",
     "output_type": "error",
     "traceback": [
      "\u001b[1;31m---------------------------------------------------------------------------\u001b[0m",
      "\u001b[1;31mTypeError\u001b[0m                                 Traceback (most recent call last)",
      "\u001b[1;32m<ipython-input-209-c806b7c0fbb4>\u001b[0m in \u001b[0;36m<module>\u001b[1;34m\u001b[0m\n\u001b[1;32m----> 1\u001b[1;33m \u001b[0msum\u001b[0m\u001b[1;33m(\u001b[0m\u001b[0mnums\u001b[0m\u001b[1;33m)\u001b[0m\u001b[1;33m\u001b[0m\u001b[1;33m\u001b[0m\u001b[0m\n\u001b[0m",
      "\u001b[1;31mTypeError\u001b[0m: sum() takes 0 positional arguments but 1 was given"
     ]
    }
   ],
   "source": [
    "sum(nums)"
   ]
  },
  {
   "cell_type": "code",
   "execution_count": 210,
   "metadata": {},
   "outputs": [
    {
     "data": {
      "text/plain": [
       "[12, 12, 14, 25, 25, 36]"
      ]
     },
     "execution_count": 210,
     "metadata": {},
     "output_type": "execute_result"
    }
   ],
   "source": [
    "nums.sort()\n",
    "nums"
   ]
  },
  {
   "cell_type": "code",
   "execution_count": 211,
   "metadata": {},
   "outputs": [
    {
     "data": {
      "text/plain": [
       "[36, 25, 25, 14, 12, 12]"
      ]
     },
     "execution_count": 211,
     "metadata": {},
     "output_type": "execute_result"
    }
   ],
   "source": [
    "nums.reverse()\n",
    "nums\n"
   ]
  },
  {
   "cell_type": "code",
   "execution_count": 212,
   "metadata": {},
   "outputs": [
    {
     "ename": "TypeError",
     "evalue": "sum() takes 0 positional arguments but 1 was given",
     "output_type": "error",
     "traceback": [
      "\u001b[1;31m---------------------------------------------------------------------------\u001b[0m",
      "\u001b[1;31mTypeError\u001b[0m                                 Traceback (most recent call last)",
      "\u001b[1;32m<ipython-input-212-3adc5a1ea0d8>\u001b[0m in \u001b[0;36m<module>\u001b[1;34m\u001b[0m\n\u001b[0;32m      2\u001b[0m \u001b[0mtup\u001b[0m \u001b[1;33m=\u001b[0m \u001b[1;33m(\u001b[0m\u001b[1;36m21\u001b[0m\u001b[1;33m,\u001b[0m\u001b[1;36m36\u001b[0m\u001b[1;33m,\u001b[0m\u001b[1;36m25\u001b[0m\u001b[1;33m)\u001b[0m\u001b[1;33m\u001b[0m\u001b[1;33m\u001b[0m\u001b[0m\n\u001b[0;32m      3\u001b[0m \u001b[0mtup\u001b[0m\u001b[1;33m\u001b[0m\u001b[1;33m\u001b[0m\u001b[0m\n\u001b[1;32m----> 4\u001b[1;33m \u001b[0msum\u001b[0m\u001b[1;33m(\u001b[0m\u001b[0mtup\u001b[0m\u001b[1;33m)\u001b[0m\u001b[1;33m\u001b[0m\u001b[1;33m\u001b[0m\u001b[0m\n\u001b[0m",
      "\u001b[1;31mTypeError\u001b[0m: sum() takes 0 positional arguments but 1 was given"
     ]
    }
   ],
   "source": [
    "# tuples\n",
    "tup = (21,36,25)\n",
    "tup\n",
    "sum(tup)"
   ]
  },
  {
   "cell_type": "code",
   "execution_count": 213,
   "metadata": {},
   "outputs": [
    {
     "data": {
      "text/plain": [
       "36"
      ]
     },
     "execution_count": 213,
     "metadata": {},
     "output_type": "execute_result"
    }
   ],
   "source": [
    "tup[1]"
   ]
  },
  {
   "cell_type": "code",
   "execution_count": 214,
   "metadata": {},
   "outputs": [
    {
     "ename": "TypeError",
     "evalue": "'tuple' object does not support item assignment",
     "output_type": "error",
     "traceback": [
      "\u001b[1;31m---------------------------------------------------------------------------\u001b[0m",
      "\u001b[1;31mTypeError\u001b[0m                                 Traceback (most recent call last)",
      "\u001b[1;32m<ipython-input-214-f89d8550aaa3>\u001b[0m in \u001b[0;36m<module>\u001b[1;34m\u001b[0m\n\u001b[1;32m----> 1\u001b[1;33m \u001b[0mtup\u001b[0m\u001b[1;33m[\u001b[0m\u001b[1;36m1\u001b[0m\u001b[1;33m]\u001b[0m \u001b[1;33m=\u001b[0m \u001b[1;36m34\u001b[0m\u001b[1;33m\u001b[0m\u001b[1;33m\u001b[0m\u001b[0m\n\u001b[0m",
      "\u001b[1;31mTypeError\u001b[0m: 'tuple' object does not support item assignment"
     ]
    }
   ],
   "source": [
    "tup[1] = 34\n"
   ]
  },
  {
   "cell_type": "code",
   "execution_count": 215,
   "metadata": {},
   "outputs": [
    {
     "data": {
      "text/plain": [
       "{5, 14, 21, 45, 61}"
      ]
     },
     "execution_count": 215,
     "metadata": {},
     "output_type": "execute_result"
    }
   ],
   "source": [
    "# set ar the data type which are homogeneous\n",
    "s ={61,45,14,21,5}\n",
    "s"
   ]
  },
  {
   "cell_type": "code",
   "execution_count": 216,
   "metadata": {},
   "outputs": [
    {
     "data": {
      "text/plain": [
       "{12, 45, 56, 78}"
      ]
     },
     "execution_count": 216,
     "metadata": {},
     "output_type": "execute_result"
    }
   ],
   "source": [
    "s = {12,45,56,78,12,45}\n",
    "s"
   ]
  },
  {
   "cell_type": "code",
   "execution_count": 217,
   "metadata": {},
   "outputs": [
    {
     "ename": "TypeError",
     "evalue": "'set' object is not subscriptable",
     "output_type": "error",
     "traceback": [
      "\u001b[1;31m---------------------------------------------------------------------------\u001b[0m",
      "\u001b[1;31mTypeError\u001b[0m                                 Traceback (most recent call last)",
      "\u001b[1;32m<ipython-input-217-e87556d2a12c>\u001b[0m in \u001b[0;36m<module>\u001b[1;34m\u001b[0m\n\u001b[1;32m----> 1\u001b[1;33m \u001b[0ms\u001b[0m\u001b[1;33m[\u001b[0m\u001b[1;36m1\u001b[0m\u001b[1;33m]\u001b[0m\u001b[1;33m\u001b[0m\u001b[1;33m\u001b[0m\u001b[0m\n\u001b[0m\u001b[0;32m      2\u001b[0m \u001b[1;31m#we do not have any indexing in the sets\u001b[0m\u001b[1;33m\u001b[0m\u001b[1;33m\u001b[0m\u001b[1;33m\u001b[0m\u001b[0m\n",
      "\u001b[1;31mTypeError\u001b[0m: 'set' object is not subscriptable"
     ]
    }
   ],
   "source": [
    "s[1]\n",
    "#we do not have any indexing in the sets"
   ]
  },
  {
   "cell_type": "code",
   "execution_count": 218,
   "metadata": {},
   "outputs": [
    {
     "data": {
      "text/plain": [
       "{1: 'Navin', 2: 'kiran', 4: 'harash'}"
      ]
     },
     "execution_count": 218,
     "metadata": {},
     "output_type": "execute_result"
    }
   ],
   "source": [
    "# dictionaries\n",
    "data = {1:'Navin',2:'kiran',4:'harash'}\n",
    "data"
   ]
  },
  {
   "cell_type": "code",
   "execution_count": 219,
   "metadata": {},
   "outputs": [
    {
     "data": {
      "text/plain": [
       "'harash'"
      ]
     },
     "execution_count": 219,
     "metadata": {},
     "output_type": "execute_result"
    }
   ],
   "source": [
    "data[4]"
   ]
  },
  {
   "cell_type": "code",
   "execution_count": 220,
   "metadata": {},
   "outputs": [
    {
     "data": {
      "text/plain": [
       "'Navin'"
      ]
     },
     "execution_count": 220,
     "metadata": {},
     "output_type": "execute_result"
    }
   ],
   "source": [
    "data[1]"
   ]
  },
  {
   "cell_type": "code",
   "execution_count": 221,
   "metadata": {},
   "outputs": [
    {
     "ename": "KeyError",
     "evalue": "3",
     "output_type": "error",
     "traceback": [
      "\u001b[1;31m---------------------------------------------------------------------------\u001b[0m",
      "\u001b[1;31mKeyError\u001b[0m                                  Traceback (most recent call last)",
      "\u001b[1;32m<ipython-input-221-71770fc9596b>\u001b[0m in \u001b[0;36m<module>\u001b[1;34m\u001b[0m\n\u001b[1;32m----> 1\u001b[1;33m \u001b[0mdata\u001b[0m\u001b[1;33m[\u001b[0m\u001b[1;36m3\u001b[0m\u001b[1;33m]\u001b[0m\u001b[1;33m\u001b[0m\u001b[1;33m\u001b[0m\u001b[0m\n\u001b[0m",
      "\u001b[1;31mKeyError\u001b[0m: 3"
     ]
    }
   ],
   "source": [
    "data[3]"
   ]
  },
  {
   "cell_type": "code",
   "execution_count": 222,
   "metadata": {},
   "outputs": [
    {
     "data": {
      "text/plain": [
       "'Navin'"
      ]
     },
     "execution_count": 222,
     "metadata": {},
     "output_type": "execute_result"
    }
   ],
   "source": [
    "data.get(1)"
   ]
  },
  {
   "cell_type": "code",
   "execution_count": 223,
   "metadata": {},
   "outputs": [],
   "source": [
    "data.get(3)"
   ]
  },
  {
   "cell_type": "code",
   "execution_count": 224,
   "metadata": {},
   "outputs": [
    {
     "name": "stdout",
     "output_type": "stream",
     "text": [
      "None\n"
     ]
    }
   ],
   "source": [
    "print(data.get(3))"
   ]
  },
  {
   "cell_type": "code",
   "execution_count": 225,
   "metadata": {},
   "outputs": [
    {
     "data": {
      "text/plain": [
       "'Navin'"
      ]
     },
     "execution_count": 225,
     "metadata": {},
     "output_type": "execute_result"
    }
   ],
   "source": [
    "data.get(1,'Net Found')\n"
   ]
  },
  {
   "cell_type": "code",
   "execution_count": 226,
   "metadata": {},
   "outputs": [
    {
     "data": {
      "text/plain": [
       "'Net found'"
      ]
     },
     "execution_count": 226,
     "metadata": {},
     "output_type": "execute_result"
    }
   ],
   "source": [
    "data.get(3,'Net found')"
   ]
  },
  {
   "cell_type": "code",
   "execution_count": 227,
   "metadata": {},
   "outputs": [
    {
     "name": "stdout",
     "output_type": "stream",
     "text": [
      "{1: 'Navin', 2: 'kiran', 4: 'harash'}\n"
     ]
    }
   ],
   "source": [
    "print(data)"
   ]
  },
  {
   "cell_type": "code",
   "execution_count": 228,
   "metadata": {},
   "outputs": [
    {
     "name": "stdout",
     "output_type": "stream",
     "text": [
      "['Navin', 'kiran', 'harash']\n",
      "['python', 'java', 'c++']\n"
     ]
    }
   ],
   "source": [
    "keys=['Navin','kiran','harash']\n",
    "value = ['python','java','c++']\n",
    "print(keys)\n",
    "print(value)"
   ]
  },
  {
   "cell_type": "code",
   "execution_count": 229,
   "metadata": {},
   "outputs": [
    {
     "data": {
      "text/plain": [
       "{'Navin': 'python', 'kiran': 'java', 'harash': 'c++'}"
      ]
     },
     "execution_count": 229,
     "metadata": {},
     "output_type": "execute_result"
    }
   ],
   "source": [
    "# creating dictionary with help of the two lists\n",
    "info=dict(zip(keys,value))\n",
    "info"
   ]
  },
  {
   "cell_type": "code",
   "execution_count": 230,
   "metadata": {},
   "outputs": [
    {
     "data": {
      "text/plain": [
       "'java'"
      ]
     },
     "execution_count": 230,
     "metadata": {},
     "output_type": "execute_result"
    }
   ],
   "source": [
    "info['kiran']"
   ]
  },
  {
   "cell_type": "code",
   "execution_count": 231,
   "metadata": {},
   "outputs": [
    {
     "ename": "KeyError",
     "evalue": "'monika'",
     "output_type": "error",
     "traceback": [
      "\u001b[1;31m---------------------------------------------------------------------------\u001b[0m",
      "\u001b[1;31mKeyError\u001b[0m                                  Traceback (most recent call last)",
      "\u001b[1;32m<ipython-input-231-004b25222288>\u001b[0m in \u001b[0;36m<module>\u001b[1;34m\u001b[0m\n\u001b[1;32m----> 1\u001b[1;33m \u001b[0minfo\u001b[0m\u001b[1;33m[\u001b[0m\u001b[1;34m'monika'\u001b[0m\u001b[1;33m]\u001b[0m\u001b[1;33m\u001b[0m\u001b[1;33m\u001b[0m\u001b[0m\n\u001b[0m",
      "\u001b[1;31mKeyError\u001b[0m: 'monika'"
     ]
    }
   ],
   "source": [
    "info['monika']"
   ]
  },
  {
   "cell_type": "code",
   "execution_count": 232,
   "metadata": {},
   "outputs": [
    {
     "data": {
      "text/plain": [
       "{'Navin': 'python', 'kiran': 'java', 'harash': 'c++', 'monika': 'cs'}"
      ]
     },
     "execution_count": 232,
     "metadata": {},
     "output_type": "execute_result"
    }
   ],
   "source": [
    "info['monika'] = 'cs'\n",
    "info"
   ]
  },
  {
   "cell_type": "code",
   "execution_count": 233,
   "metadata": {},
   "outputs": [
    {
     "data": {
      "text/plain": [
       "{'Navin': 'python', 'kiran': 'java', 'monika': 'cs'}"
      ]
     },
     "execution_count": 233,
     "metadata": {},
     "output_type": "execute_result"
    }
   ],
   "source": [
    "del info['harash']\n",
    "info"
   ]
  },
  {
   "cell_type": "code",
   "execution_count": 234,
   "metadata": {},
   "outputs": [
    {
     "data": {
      "text/plain": [
       "{'js': 'atom',\n",
       " 'cs': 'vs',\n",
       " 'python': ['pycharm', 'sublime'],\n",
       " 'java': {'jse': 'netveans', 'jee': 'eclipse'}}"
      ]
     },
     "execution_count": 234,
     "metadata": {},
     "output_type": "execute_result"
    }
   ],
   "source": [
    "prog = {'js':'atom','cs':\"vs\",\"python\":['pycharm','sublime'],'java':{'jse':'netveans','jee':'eclipse'}}\n",
    "prog"
   ]
  },
  {
   "cell_type": "code",
   "execution_count": 235,
   "metadata": {},
   "outputs": [
    {
     "data": {
      "text/plain": [
       "['pycharm', 'sublime']"
      ]
     },
     "execution_count": 235,
     "metadata": {},
     "output_type": "execute_result"
    }
   ],
   "source": [
    "prog['python']"
   ]
  },
  {
   "cell_type": "code",
   "execution_count": 236,
   "metadata": {},
   "outputs": [
    {
     "data": {
      "text/plain": [
       "'sublime'"
      ]
     },
     "execution_count": 236,
     "metadata": {},
     "output_type": "execute_result"
    }
   ],
   "source": [
    "prog['python'][1]"
   ]
  },
  {
   "cell_type": "code",
   "execution_count": 237,
   "metadata": {},
   "outputs": [
    {
     "data": {
      "text/plain": [
       "{'jse': 'netveans', 'jee': 'eclipse'}"
      ]
     },
     "execution_count": 237,
     "metadata": {},
     "output_type": "execute_result"
    }
   ],
   "source": [
    "prog['java']"
   ]
  },
  {
   "cell_type": "code",
   "execution_count": 238,
   "metadata": {},
   "outputs": [
    {
     "data": {
      "text/plain": [
       "'eclipse'"
      ]
     },
     "execution_count": 238,
     "metadata": {},
     "output_type": "execute_result"
    }
   ],
   "source": [
    "prog['java']['jee']"
   ]
  },
  {
   "cell_type": "code",
   "execution_count": 239,
   "metadata": {},
   "outputs": [
    {
     "data": {
      "text/plain": [
       "140727911331744"
      ]
     },
     "execution_count": 239,
     "metadata": {},
     "output_type": "execute_result"
    }
   ],
   "source": [
    "#more vriables\n",
    "num = 5\n",
    "# to know the address id funtion will help us\n",
    "id(num)"
   ]
  },
  {
   "cell_type": "code",
   "execution_count": 240,
   "metadata": {},
   "outputs": [
    {
     "name": "stdout",
     "output_type": "stream",
     "text": [
      "navin\n"
     ]
    },
    {
     "data": {
      "text/plain": [
       "2737874070064"
      ]
     },
     "execution_count": 240,
     "metadata": {},
     "output_type": "execute_result"
    }
   ],
   "source": [
    "name = 'navin'\n",
    "print(name)\n",
    "id(name)"
   ]
  },
  {
   "cell_type": "code",
   "execution_count": 241,
   "metadata": {},
   "outputs": [
    {
     "data": {
      "text/plain": [
       "10"
      ]
     },
     "execution_count": 241,
     "metadata": {},
     "output_type": "execute_result"
    }
   ],
   "source": [
    "a=10\n",
    "b=a\n",
    "a\n"
   ]
  },
  {
   "cell_type": "code",
   "execution_count": 242,
   "metadata": {},
   "outputs": [
    {
     "data": {
      "text/plain": [
       "10"
      ]
     },
     "execution_count": 242,
     "metadata": {},
     "output_type": "execute_result"
    }
   ],
   "source": [
    "b\n"
   ]
  },
  {
   "cell_type": "code",
   "execution_count": 243,
   "metadata": {},
   "outputs": [
    {
     "data": {
      "text/plain": [
       "140727911331904"
      ]
     },
     "execution_count": 243,
     "metadata": {},
     "output_type": "execute_result"
    }
   ],
   "source": [
    "id(a)"
   ]
  },
  {
   "cell_type": "code",
   "execution_count": 244,
   "metadata": {},
   "outputs": [
    {
     "data": {
      "text/plain": [
       "140727911331904"
      ]
     },
     "execution_count": 244,
     "metadata": {},
     "output_type": "execute_result"
    }
   ],
   "source": [
    "id(b)"
   ]
  },
  {
   "cell_type": "code",
   "execution_count": 245,
   "metadata": {},
   "outputs": [
    {
     "data": {
      "text/plain": [
       "140727911331904"
      ]
     },
     "execution_count": 245,
     "metadata": {},
     "output_type": "execute_result"
    }
   ],
   "source": [
    "# here bothe names are pointing to the same data\n",
    "# if the data is same them all the variables have same id\n",
    "id(10)"
   ]
  },
  {
   "cell_type": "code",
   "execution_count": 246,
   "metadata": {},
   "outputs": [
    {
     "data": {
      "text/plain": [
       "140727911331904"
      ]
     },
     "execution_count": 246,
     "metadata": {},
     "output_type": "execute_result"
    }
   ],
   "source": [
    "k=10\n",
    "id(k)"
   ]
  },
  {
   "cell_type": "code",
   "execution_count": 247,
   "metadata": {},
   "outputs": [
    {
     "data": {
      "text/plain": [
       "140727911331872"
      ]
     },
     "execution_count": 247,
     "metadata": {},
     "output_type": "execute_result"
    }
   ],
   "source": [
    "a=9\n",
    "id(a)"
   ]
  },
  {
   "cell_type": "code",
   "execution_count": 248,
   "metadata": {},
   "outputs": [
    {
     "data": {
      "text/plain": [
       "140727911331904"
      ]
     },
     "execution_count": 248,
     "metadata": {},
     "output_type": "execute_result"
    }
   ],
   "source": [
    "id(b)"
   ]
  },
  {
   "cell_type": "code",
   "execution_count": 249,
   "metadata": {},
   "outputs": [
    {
     "data": {
      "text/plain": [
       "140727911331872"
      ]
     },
     "execution_count": 249,
     "metadata": {},
     "output_type": "execute_result"
    }
   ],
   "source": [
    "k=a\n",
    "id(k)"
   ]
  },
  {
   "cell_type": "code",
   "execution_count": 250,
   "metadata": {},
   "outputs": [],
   "source": [
    "b=a"
   ]
  },
  {
   "cell_type": "code",
   "execution_count": 251,
   "metadata": {},
   "outputs": [
    {
     "data": {
      "text/plain": [
       "3.142"
      ]
     },
     "execution_count": 251,
     "metadata": {},
     "output_type": "execute_result"
    }
   ],
   "source": [
    "PI = 3.142\n",
    "PI"
   ]
  },
  {
   "cell_type": "code",
   "execution_count": 252,
   "metadata": {},
   "outputs": [
    {
     "data": {
      "text/plain": [
       "float"
      ]
     },
     "execution_count": 252,
     "metadata": {},
     "output_type": "execute_result"
    }
   ],
   "source": [
    "type(PI)"
   ]
  },
  {
   "cell_type": "code",
   "execution_count": 253,
   "metadata": {},
   "outputs": [
    {
     "data": {
      "text/plain": [
       "int"
      ]
     },
     "execution_count": 253,
     "metadata": {},
     "output_type": "execute_result"
    }
   ],
   "source": [
    "type(a)"
   ]
  },
  {
   "cell_type": "code",
   "execution_count": 254,
   "metadata": {},
   "outputs": [
    {
     "data": {
      "text/plain": [
       "int"
      ]
     },
     "execution_count": 254,
     "metadata": {},
     "output_type": "execute_result"
    }
   ],
   "source": [
    "#data types\n",
    "#None = the variable does not assigned with any value\n",
    "#Numeric = int,floa,complex,bool\n",
    "num = 5\n",
    "type(num)"
   ]
  },
  {
   "cell_type": "code",
   "execution_count": 255,
   "metadata": {},
   "outputs": [
    {
     "name": "stdout",
     "output_type": "stream",
     "text": [
      "<class 'complex'>\n"
     ]
    }
   ],
   "source": [
    "num = 6+9j\n",
    "print(type(num))"
   ]
  },
  {
   "cell_type": "code",
   "execution_count": 256,
   "metadata": {},
   "outputs": [
    {
     "name": "stdout",
     "output_type": "stream",
     "text": [
      "<class 'float'>\n"
     ]
    }
   ],
   "source": [
    "num = 4.5\n",
    "print(type(num))"
   ]
  },
  {
   "cell_type": "code",
   "execution_count": 257,
   "metadata": {},
   "outputs": [
    {
     "name": "stdout",
     "output_type": "stream",
     "text": [
      "<class 'int'>\n"
     ]
    }
   ],
   "source": [
    "a = 5.6\n",
    "b = int(a)\n",
    "print(type(b))"
   ]
  },
  {
   "cell_type": "code",
   "execution_count": 258,
   "metadata": {},
   "outputs": [
    {
     "data": {
      "text/plain": [
       "5"
      ]
     },
     "execution_count": 258,
     "metadata": {},
     "output_type": "execute_result"
    }
   ],
   "source": [
    "b"
   ]
  },
  {
   "cell_type": "code",
   "execution_count": 259,
   "metadata": {},
   "outputs": [
    {
     "data": {
      "text/plain": [
       "5.0"
      ]
     },
     "execution_count": 259,
     "metadata": {},
     "output_type": "execute_result"
    }
   ],
   "source": [
    "k = float(b)\n",
    "k"
   ]
  },
  {
   "cell_type": "code",
   "execution_count": 260,
   "metadata": {},
   "outputs": [
    {
     "name": "stdout",
     "output_type": "stream",
     "text": [
      "(6+0j)\n"
     ]
    },
    {
     "data": {
      "text/plain": [
       "complex"
      ]
     },
     "execution_count": 260,
     "metadata": {},
     "output_type": "execute_result"
    }
   ],
   "source": [
    "k = 6\n",
    "c=complex(k)\n",
    "print(c)\n",
    "type(c)"
   ]
  },
  {
   "cell_type": "code",
   "execution_count": 261,
   "metadata": {},
   "outputs": [
    {
     "data": {
      "text/plain": [
       "True"
      ]
     },
     "execution_count": 261,
     "metadata": {},
     "output_type": "execute_result"
    }
   ],
   "source": [
    "# bool\n",
    "b<k"
   ]
  },
  {
   "cell_type": "code",
   "execution_count": 262,
   "metadata": {},
   "outputs": [
    {
     "data": {
      "text/plain": [
       "False"
      ]
     },
     "execution_count": 262,
     "metadata": {},
     "output_type": "execute_result"
    }
   ],
   "source": [
    "b>k"
   ]
  },
  {
   "cell_type": "code",
   "execution_count": 263,
   "metadata": {},
   "outputs": [
    {
     "data": {
      "text/plain": [
       "1"
      ]
     },
     "execution_count": 263,
     "metadata": {},
     "output_type": "execute_result"
    }
   ],
   "source": [
    "int(True)"
   ]
  },
  {
   "cell_type": "code",
   "execution_count": 264,
   "metadata": {},
   "outputs": [
    {
     "data": {
      "text/plain": [
       "0"
      ]
     },
     "execution_count": 264,
     "metadata": {},
     "output_type": "execute_result"
    }
   ],
   "source": [
    "int(False)"
   ]
  },
  {
   "cell_type": "code",
   "execution_count": 265,
   "metadata": {},
   "outputs": [
    {
     "data": {
      "text/plain": [
       "list"
      ]
     },
     "execution_count": 265,
     "metadata": {},
     "output_type": "execute_result"
    }
   ],
   "source": [
    "lst =[1,2,3]\n",
    "type(lst)"
   ]
  },
  {
   "cell_type": "code",
   "execution_count": 266,
   "metadata": {},
   "outputs": [
    {
     "data": {
      "text/plain": [
       "set"
      ]
     },
     "execution_count": 266,
     "metadata": {},
     "output_type": "execute_result"
    }
   ],
   "source": [
    "s = {4,56,56,5}\n",
    "type(s)"
   ]
  },
  {
   "cell_type": "code",
   "execution_count": 267,
   "metadata": {},
   "outputs": [
    {
     "data": {
      "text/plain": [
       "tuple"
      ]
     },
     "execution_count": 267,
     "metadata": {},
     "output_type": "execute_result"
    }
   ],
   "source": [
    "t = (6,4,4,6,6)\n",
    "type(t)"
   ]
  },
  {
   "cell_type": "code",
   "execution_count": 268,
   "metadata": {},
   "outputs": [
    {
     "data": {
      "text/plain": [
       "str"
      ]
     },
     "execution_count": 268,
     "metadata": {},
     "output_type": "execute_result"
    }
   ],
   "source": [
    "str = 'navin'\n",
    "type(str)"
   ]
  },
  {
   "cell_type": "code",
   "execution_count": 269,
   "metadata": {},
   "outputs": [
    {
     "data": {
      "text/plain": [
       "str"
      ]
     },
     "execution_count": 269,
     "metadata": {},
     "output_type": "execute_result"
    }
   ],
   "source": [
    "st = 's'\n",
    "type(st)"
   ]
  },
  {
   "cell_type": "code",
   "execution_count": 270,
   "metadata": {},
   "outputs": [
    {
     "data": {
      "text/plain": [
       "range(0, 10)"
      ]
     },
     "execution_count": 270,
     "metadata": {},
     "output_type": "execute_result"
    }
   ],
   "source": [
    "range(10)"
   ]
  },
  {
   "cell_type": "code",
   "execution_count": 271,
   "metadata": {},
   "outputs": [
    {
     "ename": "TypeError",
     "evalue": "'list' object is not callable",
     "output_type": "error",
     "traceback": [
      "\u001b[1;31m---------------------------------------------------------------------------\u001b[0m",
      "\u001b[1;31mTypeError\u001b[0m                                 Traceback (most recent call last)",
      "\u001b[1;32m<ipython-input-271-1e702c11e83e>\u001b[0m in \u001b[0;36m<module>\u001b[1;34m\u001b[0m\n\u001b[1;32m----> 1\u001b[1;33m \u001b[0mlist\u001b[0m\u001b[1;33m(\u001b[0m\u001b[0mrange\u001b[0m\u001b[1;33m(\u001b[0m\u001b[1;36m10\u001b[0m\u001b[1;33m)\u001b[0m\u001b[1;33m)\u001b[0m\u001b[1;33m\u001b[0m\u001b[1;33m\u001b[0m\u001b[0m\n\u001b[0m",
      "\u001b[1;31mTypeError\u001b[0m: 'list' object is not callable"
     ]
    }
   ],
   "source": [
    "list(range(10))"
   ]
  },
  {
   "cell_type": "code",
   "execution_count": 272,
   "metadata": {},
   "outputs": [
    {
     "data": {
      "text/plain": [
       "(0, 1, 2, 3, 4, 5, 6, 7, 8, 9)"
      ]
     },
     "execution_count": 272,
     "metadata": {},
     "output_type": "execute_result"
    }
   ],
   "source": [
    "tuple(range(10))"
   ]
  },
  {
   "cell_type": "code",
   "execution_count": 273,
   "metadata": {},
   "outputs": [
    {
     "data": {
      "text/plain": [
       "(0, 2, 4, 6, 8)"
      ]
     },
     "execution_count": 273,
     "metadata": {},
     "output_type": "execute_result"
    }
   ],
   "source": [
    "\n",
    "tuple(range(0,10,2))"
   ]
  },
  {
   "cell_type": "code",
   "execution_count": 274,
   "metadata": {},
   "outputs": [
    {
     "data": {
      "text/plain": [
       "{'navin': 'smasung', 'rahul': 'iphone', 'kiran': 'oneplus'}"
      ]
     },
     "execution_count": 274,
     "metadata": {},
     "output_type": "execute_result"
    }
   ],
   "source": [
    "# huge ammount of data by the help of dictionary\n",
    "d = {'navin':'smasung','rahul':'iphone','kiran':'oneplus'}\n",
    "d"
   ]
  },
  {
   "cell_type": "code",
   "execution_count": 275,
   "metadata": {},
   "outputs": [
    {
     "data": {
      "text/plain": [
       "dict_keys(['navin', 'rahul', 'kiran'])"
      ]
     },
     "execution_count": 275,
     "metadata": {},
     "output_type": "execute_result"
    }
   ],
   "source": [
    "d.keys()"
   ]
  },
  {
   "cell_type": "code",
   "execution_count": 276,
   "metadata": {},
   "outputs": [
    {
     "data": {
      "text/plain": [
       "dict_values(['smasung', 'iphone', 'oneplus'])"
      ]
     },
     "execution_count": 276,
     "metadata": {},
     "output_type": "execute_result"
    }
   ],
   "source": [
    "d.values()"
   ]
  },
  {
   "cell_type": "code",
   "execution_count": 277,
   "metadata": {},
   "outputs": [
    {
     "data": {
      "text/plain": [
       "'iphone'"
      ]
     },
     "execution_count": 277,
     "metadata": {},
     "output_type": "execute_result"
    }
   ],
   "source": [
    "d['rahul']"
   ]
  },
  {
   "cell_type": "code",
   "execution_count": 278,
   "metadata": {},
   "outputs": [
    {
     "data": {
      "text/plain": [
       "'oneplus'"
      ]
     },
     "execution_count": 278,
     "metadata": {},
     "output_type": "execute_result"
    }
   ],
   "source": [
    "d.get('kiran')"
   ]
  },
  {
   "cell_type": "code",
   "execution_count": 279,
   "metadata": {},
   "outputs": [
    {
     "name": "stdout",
     "output_type": "stream",
     "text": [
      "12\n",
      "6\n",
      "27\n",
      "3.0\n",
      "729\n",
      "0\n"
     ]
    }
   ],
   "source": [
    "# operators in python\n",
    "# airthematic operator\n",
    "x=9\n",
    "y=3\n",
    "print(x+y)\n",
    "print(x-y)\n",
    "print(x*y)\n",
    "print(x/y)\n",
    "print(x**y)\n",
    "print(x%y)"
   ]
  },
  {
   "cell_type": "code",
   "execution_count": 280,
   "metadata": {},
   "outputs": [
    {
     "name": "stdout",
     "output_type": "stream",
     "text": [
      "7\n",
      "9\n"
     ]
    }
   ],
   "source": [
    "#assignment operator\n",
    "x = 5\n",
    "x=x+2\n",
    "print(x)\n",
    "x+=2\n",
    "print(x)"
   ]
  },
  {
   "cell_type": "code",
   "execution_count": 281,
   "metadata": {},
   "outputs": [
    {
     "name": "stdout",
     "output_type": "stream",
     "text": [
      "6\n"
     ]
    }
   ],
   "source": [
    "x-=3\n",
    "print(x)"
   ]
  },
  {
   "cell_type": "code",
   "execution_count": 282,
   "metadata": {},
   "outputs": [
    {
     "name": "stdout",
     "output_type": "stream",
     "text": [
      "18\n"
     ]
    }
   ],
   "source": [
    "x*=3\n",
    "print(x)\n"
   ]
  },
  {
   "cell_type": "code",
   "execution_count": 283,
   "metadata": {},
   "outputs": [
    {
     "name": "stdout",
     "output_type": "stream",
     "text": [
      "5 6\n"
     ]
    }
   ],
   "source": [
    "a,b = 5,6\n",
    "print(a,b)"
   ]
  },
  {
   "cell_type": "code",
   "execution_count": 284,
   "metadata": {},
   "outputs": [
    {
     "name": "stdout",
     "output_type": "stream",
     "text": [
      "7\n",
      "-7\n"
     ]
    }
   ],
   "source": [
    "# unary operator\n",
    "n = 7\n",
    "print(n)\n",
    "print(-n)\n"
   ]
  },
  {
   "cell_type": "code",
   "execution_count": 285,
   "metadata": {},
   "outputs": [
    {
     "name": "stdout",
     "output_type": "stream",
     "text": [
      "True\n",
      "False\n",
      "False\n",
      "True\n"
     ]
    }
   ],
   "source": [
    "# relational operator\n",
    "a,b = 5,6\n",
    "print(a<b)\n",
    "print(a>b)\n",
    "print(a==b)\n",
    "print(a!=b)"
   ]
  },
  {
   "cell_type": "code",
   "execution_count": 286,
   "metadata": {},
   "outputs": [
    {
     "name": "stdout",
     "output_type": "stream",
     "text": [
      "True\n",
      "False\n"
     ]
    }
   ],
   "source": [
    "print(a<=b)\n",
    "print(a>=b)\n"
   ]
  },
  {
   "cell_type": "code",
   "execution_count": 287,
   "metadata": {},
   "outputs": [
    {
     "name": "stdout",
     "output_type": "stream",
     "text": [
      "True\n",
      "True\n"
     ]
    },
    {
     "data": {
      "text/plain": [
       "False"
      ]
     },
     "execution_count": 287,
     "metadata": {},
     "output_type": "execute_result"
    }
   ],
   "source": [
    "#logical operator all work is based on the truth table\n",
    "a,b = 5,4\n",
    "print(a<8 and b<5)\n",
    "print(a<8 or b<5)\n",
    "x = True\n",
    "not x\n"
   ]
  },
  {
   "cell_type": "code",
   "execution_count": 288,
   "metadata": {},
   "outputs": [
    {
     "data": {
      "text/plain": [
       "'0b11001'"
      ]
     },
     "execution_count": 288,
     "metadata": {},
     "output_type": "execute_result"
    }
   ],
   "source": [
    "# binary formate\n",
    "bin(25)"
   ]
  },
  {
   "cell_type": "code",
   "execution_count": 289,
   "metadata": {},
   "outputs": [
    {
     "data": {
      "text/plain": [
       "5"
      ]
     },
     "execution_count": 289,
     "metadata": {},
     "output_type": "execute_result"
    }
   ],
   "source": [
    "0b0101"
   ]
  },
  {
   "cell_type": "code",
   "execution_count": 290,
   "metadata": {},
   "outputs": [
    {
     "data": {
      "text/plain": [
       "'0o31'"
      ]
     },
     "execution_count": 290,
     "metadata": {},
     "output_type": "execute_result"
    }
   ],
   "source": [
    "oct(25)"
   ]
  },
  {
   "cell_type": "code",
   "execution_count": 291,
   "metadata": {},
   "outputs": [
    {
     "data": {
      "text/plain": [
       "'0x19'"
      ]
     },
     "execution_count": 291,
     "metadata": {},
     "output_type": "execute_result"
    }
   ],
   "source": [
    "hex(25)"
   ]
  },
  {
   "cell_type": "code",
   "execution_count": 292,
   "metadata": {},
   "outputs": [
    {
     "data": {
      "text/plain": [
       "'0xa'"
      ]
     },
     "execution_count": 292,
     "metadata": {},
     "output_type": "execute_result"
    }
   ],
   "source": [
    "hex(10)"
   ]
  },
  {
   "cell_type": "code",
   "execution_count": 293,
   "metadata": {},
   "outputs": [
    {
     "name": "stdout",
     "output_type": "stream",
     "text": [
      "15\n"
     ]
    }
   ],
   "source": [
    "print(0xf)"
   ]
  },
  {
   "cell_type": "code",
   "execution_count": 294,
   "metadata": {},
   "outputs": [
    {
     "name": "stdout",
     "output_type": "stream",
     "text": [
      "6\n",
      "5\n"
     ]
    }
   ],
   "source": [
    "# swaping the values in python\n",
    "# normal \n",
    "a=5\n",
    "b=6\n",
    "temp=a\n",
    "a=b\n",
    "b=temp\n",
    "print(a)\n",
    "print(b)"
   ]
  },
  {
   "cell_type": "code",
   "execution_count": 295,
   "metadata": {},
   "outputs": [
    {
     "name": "stdout",
     "output_type": "stream",
     "text": [
      "6\n",
      "5\n"
     ]
    }
   ],
   "source": [
    "# smaping the variable \n",
    "a=5\n",
    "b=6\n",
    "a=a+b\n",
    "b=a-b\n",
    "a=a-b\n",
    "print(a)\n",
    "print(b)"
   ]
  },
  {
   "cell_type": "code",
   "execution_count": 29,
   "metadata": {},
   "outputs": [
    {
     "name": "stdout",
     "output_type": "stream",
     "text": [
      "6\n",
      "5\n"
     ]
    }
   ],
   "source": [
    "#swaping the variables without using th \n",
    "a=5\n",
    "b=6\n",
    "a=a^b\n",
    "b=a^b\n",
    "a=a^b\n",
    "print(a)\n",
    "print(b)"
   ]
  },
  {
   "cell_type": "code",
   "execution_count": 30,
   "metadata": {},
   "outputs": [
    {
     "name": "stdout",
     "output_type": "stream",
     "text": [
      "6\n",
      "5\n"
     ]
    }
   ],
   "source": [
    "# swaping the variable in python\n",
    "a,b=5,6\n",
    "a,b=b,a\n",
    "print(a)\n",
    "print(b)"
   ]
  },
  {
   "cell_type": "code",
   "execution_count": 31,
   "metadata": {},
   "outputs": [
    {
     "name": "stdout",
     "output_type": "stream",
     "text": [
      "-13\n"
     ]
    }
   ],
   "source": [
    "# bitwise operator\n",
    "print(~12)\n",
    "# here we hve ot find the twos compliment of any  number give the negative of it\n",
    "# 2's complement = 1's complement + 1\n",
    "# once complement of the number "
   ]
  },
  {
   "cell_type": "code",
   "execution_count": 32,
   "metadata": {},
   "outputs": [
    {
     "data": {
      "text/plain": [
       "12"
      ]
     },
     "execution_count": 32,
     "metadata": {},
     "output_type": "execute_result"
    }
   ],
   "source": [
    "# bitwise and \n",
    "12&13"
   ]
  },
  {
   "cell_type": "code",
   "execution_count": 33,
   "metadata": {},
   "outputs": [
    {
     "data": {
      "text/plain": [
       "13"
      ]
     },
     "execution_count": 33,
     "metadata": {},
     "output_type": "execute_result"
    }
   ],
   "source": [
    "# bitwise or\n",
    "12|13\n"
   ]
  },
  {
   "cell_type": "code",
   "execution_count": 34,
   "metadata": {},
   "outputs": [
    {
     "name": "stdout",
     "output_type": "stream",
     "text": [
      "1\n",
      "5\n"
     ]
    }
   ],
   "source": [
    "# xor\n",
    "print(12^13)\n",
    "print(39^34)\n"
   ]
  },
  {
   "cell_type": "code",
   "execution_count": 35,
   "metadata": {},
   "outputs": [
    {
     "name": "stdout",
     "output_type": "stream",
     "text": [
      "40\n",
      "80\n"
     ]
    }
   ],
   "source": [
    "# left shifp\n",
    "print(10<<2) # shift two time\n",
    "print(40<<1) # shift one time"
   ]
  },
  {
   "cell_type": "code",
   "execution_count": 36,
   "metadata": {},
   "outputs": [
    {
     "name": "stdout",
     "output_type": "stream",
     "text": [
      "2\n",
      "5\n"
     ]
    }
   ],
   "source": [
    "# right shift\n",
    "print(10>>2) # shift right two time\n",
    "print(40>>3) # shift right one time"
   ]
  },
  {
   "cell_type": "code",
   "execution_count": 37,
   "metadata": {},
   "outputs": [
    {
     "name": "stdout",
     "output_type": "stream",
     "text": [
      "5.0\n",
      "3.872983346207417\n",
      "15\n",
      "14\n",
      "9.0\n",
      "3.141592653589793\n",
      "2.718281828459045\n"
     ]
    }
   ],
   "source": [
    "# mathematical funtion\n",
    "import math\n",
    "x = math.sqrt(25)\n",
    "print(x)\n",
    "print(math.sqrt(15))\n",
    "#print(math.rond(14.55))\n",
    "print(math.ceil(14.55))\n",
    "print(math.floor(14.55))\n",
    "print(math.pow(3,2))\n",
    "# constants\n",
    "print(math.pi)\n",
    "print(math.e)"
   ]
  },
  {
   "cell_type": "code",
   "execution_count": 38,
   "metadata": {},
   "outputs": [
    {
     "data": {
      "text/plain": [
       "5.0"
      ]
     },
     "execution_count": 38,
     "metadata": {},
     "output_type": "execute_result"
    }
   ],
   "source": [
    "# concept of allies\n",
    "import math as m\n",
    "math.sqrt(25)\n",
    "m.sqrt(25)\n"
   ]
  },
  {
   "cell_type": "code",
   "execution_count": 39,
   "metadata": {},
   "outputs": [
    {
     "name": "stdout",
     "output_type": "stream",
     "text": [
      "8.0\n"
     ]
    }
   ],
   "source": [
    "# to import the specific funtions\n",
    "from math import sqrt,pow\n",
    "\n",
    "print(pow(2,3))"
   ]
  },
  {
   "cell_type": "code",
   "execution_count": 40,
   "metadata": {},
   "outputs": [],
   "source": [
    "#jhelp(math)"
   ]
  },
  {
   "cell_type": "code",
   "execution_count": 41,
   "metadata": {},
   "outputs": [
    {
     "name": "stdout",
     "output_type": "stream",
     "text": [
      "hey user input the value : 5\n",
      "hey uset input the value : 6\n",
      "56\n"
     ]
    }
   ],
   "source": [
    "# user input\n",
    "x = input(\"hey user input the value : \")\n",
    "y = input(\"hey uset input the value : \")\n",
    "z = x+y\n",
    "print(z)"
   ]
  },
  {
   "cell_type": "code",
   "execution_count": 42,
   "metadata": {},
   "outputs": [
    {
     "name": "stdout",
     "output_type": "stream",
     "text": [
      "5\n",
      "<class 'str'>\n",
      "<class 'int'>\n",
      "<class 'str'>\n",
      "0x5\n"
     ]
    }
   ],
   "source": [
    "a=input()\n",
    "print(type(a))\n",
    "b=int(a)\n",
    "print(type(b))\n",
    "c=hex(b)\n",
    "print(type(c))\n",
    "print(c)"
   ]
  },
  {
   "cell_type": "code",
   "execution_count": 43,
   "metadata": {},
   "outputs": [
    {
     "name": "stdout",
     "output_type": "stream",
     "text": [
      "enter charecter : j\n",
      "j\n",
      "j\n"
     ]
    }
   ],
   "source": [
    "ch = input(\"enter charecter : \")\n",
    "print(ch)\n",
    "print(ch[0])"
   ]
  },
  {
   "cell_type": "code",
   "execution_count": 44,
   "metadata": {},
   "outputs": [
    {
     "name": "stdout",
     "output_type": "stream",
     "text": [
      "enter charecter : a\n",
      "a\n"
     ]
    }
   ],
   "source": [
    "# how to take the single charecter\n",
    "ch = input(\"enter charecter : \")[0]\n",
    "print(ch)\n"
   ]
  },
  {
   "cell_type": "code",
   "execution_count": 45,
   "metadata": {},
   "outputs": [
    {
     "name": "stdout",
     "output_type": "stream",
     "text": [
      "Enter the : 3\n",
      "3\n"
     ]
    }
   ],
   "source": [
    "# eval help to solve the \n",
    "result = eval(input(\"Enter the : \"))\n",
    "print(result)"
   ]
  },
  {
   "cell_type": "code",
   "execution_count": 46,
   "metadata": {},
   "outputs": [
    {
     "name": "stdout",
     "output_type": "stream",
     "text": [
      "i am right\n"
     ]
    }
   ],
   "source": [
    "# statements\n",
    "if True:\n",
    "    print('i am right')\n",
    "\n",
    "if False:\n",
    "    print('i have to correct')"
   ]
  },
  {
   "cell_type": "code",
   "execution_count": 47,
   "metadata": {},
   "outputs": [
    {
     "name": "stdout",
     "output_type": "stream",
     "text": [
      "by\n"
     ]
    }
   ],
   "source": [
    "c=3\n",
    "r=c%2\n",
    "if c==0:\n",
    "    print('Even')\n",
    "    \n",
    "print(\"by\")"
   ]
  },
  {
   "cell_type": "code",
   "execution_count": 48,
   "metadata": {},
   "outputs": [
    {
     "name": "stdout",
     "output_type": "stream",
     "text": [
      "Even number\n",
      "by\n"
     ]
    }
   ],
   "source": [
    "c=4\n",
    "r=c%2\n",
    "if r==0:\n",
    "    print('Even number')\n",
    "else:\n",
    "    print('Odd number')\n",
    "    \n",
    "print('by')\n"
   ]
  },
  {
   "cell_type": "code",
   "execution_count": 49,
   "metadata": {},
   "outputs": [
    {
     "name": "stdout",
     "output_type": "stream",
     "text": [
      "two\n"
     ]
    }
   ],
   "source": [
    "x=2\n",
    "if(x==1):\n",
    "    print('one')\n",
    "if x==2:\n",
    "    print('two')\n",
    "if x==3:\n",
    "    print('three')\n",
    "if x==4:\n",
    "    print('four')\n",
    "    \n",
    "    "
   ]
  },
  {
   "cell_type": "code",
   "execution_count": 50,
   "metadata": {},
   "outputs": [
    {
     "name": "stdout",
     "output_type": "stream",
     "text": [
      "two\n"
     ]
    }
   ],
   "source": [
    "x=2\n",
    "if x==1:\n",
    "    print('one')\n",
    "elif x==2:\n",
    "    print('two')\n",
    "elif x==3:\n",
    "    print('three')\n",
    "elif x==4:\n",
    "    print('four')\n",
    "else:\n",
    "    print('rong ip')"
   ]
  },
  {
   "cell_type": "code",
   "execution_count": 51,
   "metadata": {},
   "outputs": [
    {
     "name": "stdout",
     "output_type": "stream",
     "text": [
      "telusko\n",
      "telusko\n",
      "telusko\n",
      "telusko\n",
      "telusko\n"
     ]
    }
   ],
   "source": [
    "# loops\n",
    "\n",
    "count=5\n",
    "i=1\n",
    "while i<=5:\n",
    "    print('telusko')\n",
    "    i+=1"
   ]
  },
  {
   "cell_type": "code",
   "execution_count": 52,
   "metadata": {},
   "outputs": [
    {
     "name": "stdout",
     "output_type": "stream",
     "text": [
      "jiya hi hi hi hi hi\n",
      "jiya hi hi hi hi hi\n",
      "jiya hi hi hi hi hi\n",
      "jiya hi hi hi hi hi\n",
      "jiya hi hi hi hi hi\n"
     ]
    }
   ],
   "source": [
    "i=1\n",
    "while i<=5:\n",
    "    print(\"jiya\",end=\"\")\n",
    "    j=1\n",
    "    while j<=5:\n",
    "        print(' hi',end='')\n",
    "        j=j+1\n",
    "    print()\n",
    "    i=i+1\n",
    "        "
   ]
  },
  {
   "cell_type": "code",
   "execution_count": 53,
   "metadata": {},
   "outputs": [
    {
     "name": "stdout",
     "output_type": "stream",
     "text": [
      "['navin', 65, 2.5]\n"
     ]
    }
   ],
   "source": [
    "# for loop\n",
    "x=['navin',65,2.5]\n",
    "print(x)"
   ]
  },
  {
   "cell_type": "code",
   "execution_count": 54,
   "metadata": {},
   "outputs": [
    {
     "name": "stdout",
     "output_type": "stream",
     "text": [
      "navin\n",
      "65\n",
      "2.5\n"
     ]
    }
   ],
   "source": [
    "x=['navin',65,2.5]\n",
    "for i in x:\n",
    "    print(i)"
   ]
  },
  {
   "cell_type": "code",
   "execution_count": 55,
   "metadata": {},
   "outputs": [
    {
     "name": "stdout",
     "output_type": "stream",
     "text": [
      "N\n",
      "A\n",
      "V\n",
      "I\n",
      "N\n",
      "\n",
      "0\n",
      "1\n",
      "2\n",
      "3\n",
      "4\n",
      "5\n",
      "6\n",
      "7\n",
      "8\n",
      "9\n"
     ]
    }
   ],
   "source": [
    "x = 'NAVIN'\n",
    "for i in x:\n",
    "    print(i)\n",
    "print()\n",
    "for i in range(10):\n",
    "    print(i)"
   ]
  },
  {
   "cell_type": "code",
   "execution_count": 56,
   "metadata": {},
   "outputs": [
    {
     "name": "stdout",
     "output_type": "stream",
     "text": [
      "1 2 3 4 6 7 8 9 11 12 13 14 16 17 18 19 "
     ]
    }
   ],
   "source": [
    "for i in range(1,21):\n",
    "    if i%5!=0:\n",
    "        print(i,end=\" \")"
   ]
  },
  {
   "cell_type": "code",
   "execution_count": 57,
   "metadata": {},
   "outputs": [
    {
     "name": "stdout",
     "output_type": "stream",
     "text": [
      "hello 0 hello 1 hello 2 hello 4 \n",
      "hello 0 hello 1 hello 2 \n",
      "hello 0 hello 1 hello 2 hello 3 hello 4 "
     ]
    }
   ],
   "source": [
    "#break continue pass\n",
    "for i in range(5):\n",
    "    if i == 3:\n",
    "        continue\n",
    "    print(\"hello\",i,end=\" \")\n",
    "    \n",
    "print()\n",
    "#break continue pass\n",
    "for i in range(5):\n",
    "    if i == 3:\n",
    "        break\n",
    "    print(\"hello\",i,end=\" \")\n",
    "print()\n",
    "#break continue pass\n",
    "for i in range(5):\n",
    "    if i == 3:\n",
    "        pass\n",
    "    print(\"hello\",i,end=\" \")"
   ]
  },
  {
   "cell_type": "code",
   "execution_count": 58,
   "metadata": {},
   "outputs": [],
   "source": [
    "def fun():\n",
    "    print('do something')\n",
    "    print('do something')\n"
   ]
  },
  {
   "cell_type": "code",
   "execution_count": 59,
   "metadata": {},
   "outputs": [
    {
     "name": "stdout",
     "output_type": "stream",
     "text": [
      "# # # # \n",
      "# # # # \n",
      "# # # # \n",
      "# # # # \n"
     ]
    }
   ],
   "source": [
    "# patterns\n",
    "for i in range(4):\n",
    "    print('#',end=\" \")\n",
    "print()\n",
    "\n",
    "for i in range(4):\n",
    "    print('#',end=\" \")\n",
    "print()\n",
    "\n",
    "for i in range(4):\n",
    "    print('#',end=\" \")\n",
    "print()\n",
    "\n",
    "for i in range(4):\n",
    "    print('#',end=\" \")\n",
    "print()"
   ]
  },
  {
   "cell_type": "code",
   "execution_count": 60,
   "metadata": {},
   "outputs": [
    {
     "name": "stdout",
     "output_type": "stream",
     "text": [
      "# # # # \n",
      "# # # # \n",
      "# # # # \n",
      "# # # # \n"
     ]
    }
   ],
   "source": [
    "for i in range(4):\n",
    "    for j in range(4):\n",
    "        print('#',end=' ')\n",
    "    print()"
   ]
  },
  {
   "cell_type": "code",
   "execution_count": 61,
   "metadata": {},
   "outputs": [
    {
     "name": "stdout",
     "output_type": "stream",
     "text": [
      "# \n",
      "# # \n",
      "# # # \n",
      "# # # # \n"
     ]
    }
   ],
   "source": [
    "for i in range(4):\n",
    "    for j in range(i+1):\n",
    "        print('#',end=\" \")\n",
    "    print()"
   ]
  },
  {
   "cell_type": "code",
   "execution_count": 62,
   "metadata": {},
   "outputs": [
    {
     "name": "stdout",
     "output_type": "stream",
     "text": [
      "# # # # \n",
      "# # # \n",
      "# # \n",
      "# \n"
     ]
    }
   ],
   "source": [
    "for j in range(4):\n",
    "    for i in range(4-j):\n",
    "        print(\"#\",end=' ')\n",
    "    print()"
   ]
  },
  {
   "cell_type": "code",
   "execution_count": 63,
   "metadata": {},
   "outputs": [
    {
     "name": "stdout",
     "output_type": "stream",
     "text": [
      "not find\n"
     ]
    }
   ],
   "source": [
    "# for else\n",
    "nums=[12,1,18,21,26]\n",
    "for i in nums:\n",
    "    if i % 5==0:\n",
    "        print(i)\n",
    "else:\n",
    "    print('not find')"
   ]
  },
  {
   "cell_type": "code",
   "execution_count": 64,
   "metadata": {},
   "outputs": [
    {
     "name": "stdout",
     "output_type": "stream",
     "text": [
      "10 not prime\n"
     ]
    }
   ],
   "source": [
    "# primen number program\n",
    "num = 10\n",
    "for i in range(2,num):\n",
    "    if num % i == 0 :\n",
    "        print(num,\"not prime\")\n",
    "        break\n",
    "else:\n",
    "    print(num,\"prime\")"
   ]
  },
  {
   "cell_type": "code",
   "execution_count": 65,
   "metadata": {},
   "outputs": [
    {
     "name": "stdout",
     "output_type": "stream",
     "text": [
      "(2737873756080, 7)\n",
      "i\n",
      "None\n",
      "array('i', [5, 6, 5, 4, 3, 23, 1])\n",
      "5 6 5 4 3 23 1 5 6 5 4 3 23 1 \n",
      "h i j k "
     ]
    }
   ],
   "source": [
    "# array\n",
    "from array import *\n",
    "vals = array('i',[1,23,3,4,5,6,5])\n",
    "print(vals.buffer_info())\n",
    "print(vals.typecode)\n",
    "print(vals.reverse())\n",
    "print(vals)\n",
    "for i in  vals:\n",
    "    print(i,end=\" \")\n",
    "for i in range(len(vals)):\n",
    "    print(vals[i],end=\" \")\n",
    "    \n",
    "    \n",
    "print()\n",
    "vals = array('u',['h','i','j','k'])\n",
    "for i in vals:\n",
    "    print(i,end=\" \")"
   ]
  },
  {
   "cell_type": "code",
   "execution_count": 66,
   "metadata": {},
   "outputs": [
    {
     "name": "stdout",
     "output_type": "stream",
     "text": [
      "1 23 3 4 5 6 5 \n",
      "1 23 3 4 5 6 5 "
     ]
    }
   ],
   "source": [
    "vals = array('i',[1,23,3,4,5,6,5])\n",
    "newarray = array(vals.typecode,(a for a in vals))\n",
    "for a in newarray:\n",
    "    print(a,end=\" \")\n",
    "print()\n",
    "    \n",
    "i = 0\n",
    "while i<len(newarray):\n",
    "    print(newarray[i], end=\" \")\n",
    "    i+=1"
   ]
  },
  {
   "cell_type": "code",
   "execution_count": 67,
   "metadata": {},
   "outputs": [
    {
     "name": "stdout",
     "output_type": "stream",
     "text": [
      "Enter the size : 2\n",
      "Eneter the number : 1\n",
      "Eneter the number : 2\n",
      "array('i', [1, 2])\n",
      "Enter the search element : 1\n",
      "0\n",
      "\n",
      "4\n"
     ]
    },
    {
     "ename": "ValueError",
     "evalue": "array.index(x): x not in array",
     "output_type": "error",
     "traceback": [
      "\u001b[1;31m---------------------------------------------------------------------------\u001b[0m",
      "\u001b[1;31mValueError\u001b[0m                                Traceback (most recent call last)",
      "\u001b[1;32m<ipython-input-67-b4339b9b8e3d>\u001b[0m in \u001b[0;36m<module>\u001b[1;34m\u001b[0m\n\u001b[0;32m     17\u001b[0m \u001b[0mprint\u001b[0m\u001b[1;33m(\u001b[0m\u001b[1;33m)\u001b[0m\u001b[1;33m\u001b[0m\u001b[1;33m\u001b[0m\u001b[0m\n\u001b[0;32m     18\u001b[0m \u001b[0mvals\u001b[0m \u001b[1;33m=\u001b[0m \u001b[0mint\u001b[0m\u001b[1;33m(\u001b[0m\u001b[0minput\u001b[0m\u001b[1;33m(\u001b[0m\u001b[1;33m)\u001b[0m\u001b[1;33m)\u001b[0m\u001b[1;33m\u001b[0m\u001b[1;33m\u001b[0m\u001b[0m\n\u001b[1;32m---> 19\u001b[1;33m \u001b[0mprint\u001b[0m\u001b[1;33m(\u001b[0m\u001b[0marr\u001b[0m\u001b[1;33m.\u001b[0m\u001b[0mindex\u001b[0m\u001b[1;33m(\u001b[0m\u001b[0mvals\u001b[0m\u001b[1;33m)\u001b[0m\u001b[1;33m)\u001b[0m\u001b[1;33m\u001b[0m\u001b[1;33m\u001b[0m\u001b[0m\n\u001b[0m",
      "\u001b[1;31mValueError\u001b[0m: array.index(x): x not in array"
     ]
    }
   ],
   "source": [
    "from array import *\n",
    "arr=array('i',[])\n",
    "n = int(input(\"Enter the size : \"))\n",
    "for i in range(n):\n",
    "    x = int(input(\"Eneter the number : \"))\n",
    "    arr.append(x)\n",
    "print(arr)\n",
    "s =int(input(\"Enter the search element : \"))\n",
    "k = 0\n",
    "for e in arr:\n",
    "    if e==s:\n",
    "        print(k)\n",
    "        break\n",
    "    k+=1\n",
    "    \n",
    "    \n",
    "print()\n",
    "vals = int(input())\n",
    "print(arr.index(vals))\n"
   ]
  },
  {
   "cell_type": "code",
   "execution_count": 68,
   "metadata": {},
   "outputs": [
    {
     "ename": "SyntaxError",
     "evalue": "EOL while scanning string literal (<ipython-input-68-b837e26fa43a>, line 14)",
     "output_type": "error",
     "traceback": [
      "\u001b[1;36m  File \u001b[1;32m\"<ipython-input-68-b837e26fa43a>\"\u001b[1;36m, line \u001b[1;32m14\u001b[0m\n\u001b[1;33m    print('by manual find\",i)\u001b[0m\n\u001b[1;37m                             ^\u001b[0m\n\u001b[1;31mSyntaxError\u001b[0m\u001b[1;31m:\u001b[0m EOL while scanning string literal\n"
     ]
    }
   ],
   "source": [
    "# creating the array\n",
    "from array import *\n",
    "nums = array('i',[])\n",
    "size = int(input(\"Enter the size of array : \"))\n",
    "for i in range(size):\n",
    "    x = int(input(\"Enter the element of the array : \"))\n",
    "    nums.append(x)\n",
    "print(nums)\n",
    "\n",
    "n = int(input(\"Enter the element ot find : \"))\n",
    "print(\"element by funtion\",nums.index(n))\n",
    "for i in range(len(nums)):\n",
    "    if n==nums[i]:\n",
    "        print('by manual find\",i)\n",
    "        break\n",
    "        "
   ]
  },
  {
   "cell_type": "code",
   "execution_count": 69,
   "metadata": {},
   "outputs": [
    {
     "name": "stdout",
     "output_type": "stream",
     "text": [
      "[1 2 3 4 5]\n"
     ]
    }
   ],
   "source": [
    "from numpy import *\n",
    "arr = array([1,2,3,4,5],int)\n",
    "print(arr)"
   ]
  },
  {
   "cell_type": "code",
   "execution_count": 70,
   "metadata": {},
   "outputs": [
    {
     "name": "stdout",
     "output_type": "stream",
     "text": [
      "[1 2 3 4 5]\n",
      "int32\n"
     ]
    }
   ],
   "source": [
    "# there are 6 ways to create an array\n",
    "# array()\n",
    "from numpy import *\n",
    "arr = array([1,2,3,4,5])\n",
    "print(arr)\n",
    "\n",
    "\n",
    "print(arr.dtype)"
   ]
  },
  {
   "cell_type": "code",
   "execution_count": 71,
   "metadata": {},
   "outputs": [
    {
     "name": "stdout",
     "output_type": "stream",
     "text": [
      "[ 0.          0.84210526  1.68421053  2.52631579  3.36842105  4.21052632\n",
      "  5.05263158  5.89473684  6.73684211  7.57894737  8.42105263  9.26315789\n",
      " 10.10526316 10.94736842 11.78947368 12.63157895 13.47368421 14.31578947\n",
      " 15.15789474 16.        ]\n",
      "[ 1.  2.  3.  4.  5.  6.  7.  8.  9. 10.]\n"
     ]
    }
   ],
   "source": [
    "# by useing linspace()\n",
    "arr = linspace(0,16,20)\n",
    "print(arr)\n",
    "num = linspace(1,10,10)\n",
    "print(num)"
   ]
  },
  {
   "cell_type": "code",
   "execution_count": 72,
   "metadata": {},
   "outputs": [
    {
     "name": "stdout",
     "output_type": "stream",
     "text": [
      "[1 3 5 7 9]\n"
     ]
    }
   ],
   "source": [
    "# by the arange\n",
    "arr = arange(1,10,2)\n",
    "\n",
    "print(arr)"
   ]
  },
  {
   "cell_type": "code",
   "execution_count": 73,
   "metadata": {},
   "outputs": [
    {
     "name": "stdout",
     "output_type": "stream",
     "text": [
      "[1.00000000e+01 4.39397056e+01 1.93069773e+02 8.48342898e+02\n",
      " 3.72759372e+03 1.63789371e+04 7.19685673e+04 3.16227766e+05\n",
      " 1.38949549e+06 6.10540230e+06 2.68269580e+07 1.17876863e+08\n",
      " 5.17947468e+08 2.27584593e+09 1.00000000e+10]\n"
     ]
    }
   ],
   "source": [
    "# by the help of logspace\n",
    "arr = logspace(1,10,15)\n",
    "print(arr)"
   ]
  },
  {
   "cell_type": "code",
   "execution_count": 74,
   "metadata": {},
   "outputs": [
    {
     "name": "stdout",
     "output_type": "stream",
     "text": [
      "[0. 0. 0. 0. 0.]\n"
     ]
    }
   ],
   "source": [
    "arr = zeros(5)\n",
    "print(arr)"
   ]
  },
  {
   "cell_type": "code",
   "execution_count": 75,
   "metadata": {},
   "outputs": [
    {
     "name": "stdout",
     "output_type": "stream",
     "text": [
      "[1 1 1 1 1 1 1 1 1 1]\n",
      "[1. 1. 1. 1. 1. 1. 1. 1. 1. 1.]\n",
      "[1.+0.j 1.+0.j 1.+0.j 1.+0.j 1.+0.j 1.+0.j 1.+0.j 1.+0.j 1.+0.j 1.+0.j]\n"
     ]
    }
   ],
   "source": [
    "arr = ones(10,int)\n",
    "print(arr)\n",
    "arr = ones(10,float)\n",
    "print(arr)\n",
    "arr = ones(10,complex)\n",
    "print(arr)"
   ]
  },
  {
   "cell_type": "code",
   "execution_count": 76,
   "metadata": {},
   "outputs": [
    {
     "name": "stdout",
     "output_type": "stream",
     "text": [
      "[ 7  8  9 10 11]\n",
      "[ 8 10 12 14 16]\n",
      "[ 0.84147098 -0.98803162  0.85090352 -0.30481062  0.89399666]\n",
      "[ 0.54030231  0.15425145  0.52532199 -0.95241298 -0.44807362]\n",
      "[ 1.55740772 -6.4053312   1.61977519  0.32004039 -1.99520041]\n",
      "[0.         3.40119738 3.80666249 4.09434456 4.49980967]\n"
     ]
    },
    {
     "ename": "NameError",
     "evalue": "name 'pritn' is not defined",
     "output_type": "error",
     "traceback": [
      "\u001b[1;31m---------------------------------------------------------------------------\u001b[0m",
      "\u001b[1;31mNameError\u001b[0m                                 Traceback (most recent call last)",
      "\u001b[1;32m<ipython-input-76-5697c674a50d>\u001b[0m in \u001b[0;36m<module>\u001b[1;34m\u001b[0m\n\u001b[0;32m     16\u001b[0m \u001b[0mprint\u001b[0m\u001b[1;33m(\u001b[0m\u001b[0mtan\u001b[0m\u001b[1;33m(\u001b[0m\u001b[0marr\u001b[0m\u001b[1;33m)\u001b[0m\u001b[1;33m)\u001b[0m\u001b[1;33m\u001b[0m\u001b[1;33m\u001b[0m\u001b[0m\n\u001b[0;32m     17\u001b[0m \u001b[0mprint\u001b[0m\u001b[1;33m(\u001b[0m\u001b[0mlog\u001b[0m\u001b[1;33m(\u001b[0m\u001b[0marr\u001b[0m\u001b[1;33m)\u001b[0m\u001b[1;33m)\u001b[0m\u001b[1;33m\u001b[0m\u001b[1;33m\u001b[0m\u001b[0m\n\u001b[1;32m---> 18\u001b[1;33m \u001b[0mpritn\u001b[0m\u001b[1;33m(\u001b[0m\u001b[0msqrt\u001b[0m\u001b[1;33m(\u001b[0m\u001b[0marr\u001b[0m\u001b[1;33m)\u001b[0m\u001b[1;33m)\u001b[0m\u001b[1;33m\u001b[0m\u001b[1;33m\u001b[0m\u001b[0m\n\u001b[0m",
      "\u001b[1;31mNameError\u001b[0m: name 'pritn' is not defined"
     ]
    }
   ],
   "source": [
    "# 30\n",
    "#operation on array\n",
    "#from math import *\n",
    "arr = array([1,2,3,4,5])\n",
    "arr = arr + 6\n",
    "print(arr)\n",
    "# adding two arrays\n",
    "ass = array([1,2,3,4,5])\n",
    "att = arr+ass\n",
    "print(att)\n",
    "\n",
    "#sin funtion of each element of the array\n",
    "arr = array([1,30,45,60,90])\n",
    "print(sin(arr))\n",
    "print(cos(arr))\n",
    "print(tan(arr))\n",
    "print(log(arr))\n",
    "pritn(sqrt(arr))"
   ]
  },
  {
   "cell_type": "code",
   "execution_count": 77,
   "metadata": {},
   "outputs": [
    {
     "name": "stdout",
     "output_type": "stream",
     "text": [
      "150\n",
      "10\n",
      "50\n",
      "[10 20 30 40 50]\n",
      "[10 20 30 40 50  1  2  3  4]\n"
     ]
    }
   ],
   "source": [
    "arr = array([10,20,30,40,50])\n",
    "print(sum(arr))\n",
    "print(min(arr))\n",
    "print(max(arr))\n",
    "\n",
    "print(sort(arr))\n",
    "arr2 = array([1,2,3,4])\n",
    "\n",
    "print(concatenate([arr,arr2]))"
   ]
  },
  {
   "cell_type": "code",
   "execution_count": 78,
   "metadata": {},
   "outputs": [
    {
     "name": "stdout",
     "output_type": "stream",
     "text": [
      "[1 2 3 4 5]\n",
      "[1 2 3 4 5]\n",
      "2737879093120\n",
      "2737879093120\n"
     ]
    }
   ],
   "source": [
    "# how to copy an array\n",
    "arr = array([1,2,3,4,5])\n",
    "arr2 = arr\n",
    "print(arr)\n",
    "print(arr2)\n",
    "print(id(arr))\n",
    "print(id(arr2)) # both address is same"
   ]
  },
  {
   "cell_type": "code",
   "execution_count": 79,
   "metadata": {},
   "outputs": [
    {
     "name": "stdout",
     "output_type": "stream",
     "text": [
      "[ 6  7  8  9 10]\n",
      "[ 6  7  8  9 10]\n",
      "2737879075776\n",
      "2737879073376\n"
     ]
    }
   ],
   "source": [
    "# creating diferent array in another memory location\n",
    "arr = array([6,7,8,9,10])\n",
    "arr1 = arr.view()\n",
    "print(arr)\n",
    "print(arr1)\n",
    "print(id(arr))\n",
    "print(id(arr1)) # have different address"
   ]
  },
  {
   "cell_type": "code",
   "execution_count": 80,
   "metadata": {},
   "outputs": [
    {
     "name": "stdout",
     "output_type": "stream",
     "text": [
      "[ 7  7  8  9 10]\n",
      "[ 7  7  8  9 10]\n",
      "2737879073216\n",
      "2737879075856\n"
     ]
    }
   ],
   "source": [
    "# shallow copy affect at both \n",
    "arr = array([6,7,8,9,10])\n",
    "arr1 = arr.view()\n",
    "\n",
    "arr[0] = 7\n",
    "print(arr)\n",
    "print(arr1)\n",
    "print(id(arr))\n",
    "print(id(arr1)) # have different address"
   ]
  },
  {
   "cell_type": "code",
   "execution_count": 81,
   "metadata": {},
   "outputs": [
    {
     "name": "stdout",
     "output_type": "stream",
     "text": [
      "[ 1  7  8  9 10]\n",
      "[ 6  7  8  9 10]\n",
      "2737879076576\n",
      "2737879154736\n"
     ]
    }
   ],
   "source": [
    "arr = array([6,7,8,9,10])\n",
    "arr1 = arr.copy()   # leads the deep copy which will not effect the on bothe the array\n",
    "arr[0]=1\n",
    "print(arr)\n",
    "print(arr1)\n",
    "print(id(arr))\n",
    "print(id(arr1)) # have different address"
   ]
  },
  {
   "cell_type": "code",
   "execution_count": 82,
   "metadata": {},
   "outputs": [
    {
     "name": "stdout",
     "output_type": "stream",
     "text": [
      "[[1 2 3]\n",
      " [4 5 6]\n",
      " [7 8 9]]\n",
      "2\n",
      "(3, 3)\n",
      "9\n",
      "[1 2 3 4 5 6 7 8 9]\n",
      "[[1 2 3 4 5 6 7 8 9]]\n",
      "[[1 2 3]\n",
      " [4 5 6]\n",
      " [7 8 9]]\n",
      "[[[1 2 3]]\n",
      "\n",
      " [[4 5 6]]\n",
      "\n",
      " [[7 8 9]]]\n"
     ]
    }
   ],
   "source": [
    "#31 operation on multi dimensional array\n",
    "from numpy import *\n",
    "arr1 = array([\n",
    "    [1,2,3],\n",
    "    [4,5,6],\n",
    "    [7,8,9]\n",
    "])\n",
    "print(arr1) # help to print the array\n",
    "print(arr1.ndim) # help to find the dimension\n",
    "print(arr1.shape) # help rto find he shape of the array\n",
    "print(arr1.size) # help to find the number of elements of the array\n",
    " \n",
    "arr2 = arr1.flatten()\n",
    "print(arr2)\n",
    "arr3 = arr1.reshape(1,9)\n",
    "print(arr3)\n",
    "arr4 = arr3.reshape(3,3)\n",
    "print(arr4)\n",
    "arr5 = arr3.reshape(3,1,3)\n",
    "print(arr5)"
   ]
  },
  {
   "cell_type": "code",
   "execution_count": 83,
   "metadata": {},
   "outputs": [
    {
     "ename": "SyntaxError",
     "evalue": "unmatched ')' (<ipython-input-83-d3326c5dc0ea>, line 13)",
     "output_type": "error",
     "traceback": [
      "\u001b[1;36m  File \u001b[1;32m\"<ipython-input-83-d3326c5dc0ea>\"\u001b[1;36m, line \u001b[1;32m13\u001b[0m\n\u001b[1;33m    print(k.max))\u001b[0m\n\u001b[1;37m                ^\u001b[0m\n\u001b[1;31mSyntaxError\u001b[0m\u001b[1;31m:\u001b[0m unmatched ')'\n"
     ]
    }
   ],
   "source": [
    "# matices operation\n",
    "from numpy import *\n",
    "arr =array([[1,2,3],[3,4,5],[7,9,8]])\n",
    "\n",
    "print(arr)\n",
    "m = matrix(arr)\n",
    "print(m)\n",
    "\n",
    "k = matrix('1,2,3; 4,5,6;7,8,9')\n",
    "print(k)\n",
    "print(k.diagonal())\n",
    "print(k.min())\n",
    "print(k.max))\n",
    "k = matrix('1,2,3; 4,5,6;7,8,9')"
   ]
  },
  {
   "cell_type": "code",
   "execution_count": 84,
   "metadata": {},
   "outputs": [
    {
     "name": "stdout",
     "output_type": "stream",
     "text": [
      "[[ 1  3 10]\n",
      " [10 15 12]\n",
      " [10 16 19]]\n",
      "[[ 1 -1 -4]\n",
      " [-2  5  0]\n",
      " [ 4  0  1]]\n",
      "[[ 15  31  40]\n",
      " [ 78 106 142]\n",
      " [ 78 134 187]]\n"
     ]
    },
    {
     "data": {
      "text/plain": [
       "5"
      ]
     },
     "execution_count": 84,
     "metadata": {},
     "output_type": "execute_result"
    }
   ],
   "source": [
    "k = matrix('1,1,3; 4,10,6;7,8,10')\n",
    "j = matrix('0,2,7; 6,5,6;3,8,9')\n",
    "print(k+j)\n",
    "print(k-j)\n",
    "print(k*j)\n",
    "b\n"
   ]
  },
  {
   "cell_type": "code",
   "execution_count": 85,
   "metadata": {},
   "outputs": [
    {
     "name": "stdout",
     "output_type": "stream",
     "text": [
      "is not even\n"
     ]
    }
   ],
   "source": [
    "# funtions\n",
    "\n",
    "def even(n):\n",
    "    if n%2==0:\n",
    "        print(\"is even\")\n",
    "    else:\n",
    "        print(\"is not even\")\n",
    "\n",
    "\n",
    "\n",
    "\n",
    "\n",
    "\n",
    "even(5)\n",
    "\n",
    "\n",
    "\n",
    "\n",
    "\n",
    "\n"
   ]
  },
  {
   "cell_type": "code",
   "execution_count": 86,
   "metadata": {},
   "outputs": [
    {
     "ename": "AttributeError",
     "evalue": "'int' object has no attribute 'n'",
     "output_type": "error",
     "traceback": [
      "\u001b[1;31m---------------------------------------------------------------------------\u001b[0m",
      "\u001b[1;31mAttributeError\u001b[0m                            Traceback (most recent call last)",
      "\u001b[1;32m<ipython-input-86-9879786eef04>\u001b[0m in \u001b[0;36m<module>\u001b[1;34m\u001b[0m\n\u001b[0;32m     14\u001b[0m             \u001b[0mprint\u001b[0m\u001b[1;33m(\u001b[0m\u001b[1;34m\"is odd\"\u001b[0m\u001b[1;33m)\u001b[0m\u001b[1;33m\u001b[0m\u001b[1;33m\u001b[0m\u001b[0m\n\u001b[0;32m     15\u001b[0m \u001b[1;33m\u001b[0m\u001b[0m\n\u001b[1;32m---> 16\u001b[1;33m \u001b[0mnum\u001b[0m \u001b[1;33m=\u001b[0m \u001b[0mnumbers\u001b[0m\u001b[1;33m.\u001b[0m\u001b[0meven\u001b[0m\u001b[1;33m(\u001b[0m\u001b[1;36m3\u001b[0m\u001b[1;33m,\u001b[0m\u001b[1;36m2\u001b[0m\u001b[1;33m)\u001b[0m\u001b[1;33m\u001b[0m\u001b[1;33m\u001b[0m\u001b[0m\n\u001b[0m\u001b[0;32m     17\u001b[0m \u001b[0mprint\u001b[0m\u001b[1;33m(\u001b[0m\u001b[0mnum\u001b[0m\u001b[1;33m)\u001b[0m\u001b[1;33m\u001b[0m\u001b[1;33m\u001b[0m\u001b[0m\n\u001b[0;32m     18\u001b[0m \u001b[1;33m\u001b[0m\u001b[0m\n",
      "\u001b[1;32m<ipython-input-86-9879786eef04>\u001b[0m in \u001b[0;36meven\u001b[1;34m(self, n)\u001b[0m\n\u001b[0;32m      4\u001b[0m \u001b[1;33m\u001b[0m\u001b[0m\n\u001b[0;32m      5\u001b[0m     \u001b[1;32mdef\u001b[0m \u001b[0meven\u001b[0m\u001b[1;33m(\u001b[0m\u001b[0mself\u001b[0m\u001b[1;33m,\u001b[0m\u001b[0mn\u001b[0m\u001b[1;33m)\u001b[0m\u001b[1;33m:\u001b[0m\u001b[1;33m\u001b[0m\u001b[1;33m\u001b[0m\u001b[0m\n\u001b[1;32m----> 6\u001b[1;33m         \u001b[0mself\u001b[0m\u001b[1;33m.\u001b[0m\u001b[0mn\u001b[0m\u001b[1;33m=\u001b[0m\u001b[0mn\u001b[0m\u001b[1;33m\u001b[0m\u001b[1;33m\u001b[0m\u001b[0m\n\u001b[0m\u001b[0;32m      7\u001b[0m         \u001b[1;32mif\u001b[0m \u001b[0mself\u001b[0m\u001b[1;33m.\u001b[0m\u001b[0mn\u001b[0m\u001b[1;33m%\u001b[0m\u001b[1;36m2\u001b[0m \u001b[1;33m==\u001b[0m \u001b[1;36m0\u001b[0m\u001b[1;33m:\u001b[0m\u001b[1;33m\u001b[0m\u001b[1;33m\u001b[0m\u001b[0m\n\u001b[0;32m      8\u001b[0m             \u001b[0mprint\u001b[0m\u001b[1;33m(\u001b[0m\u001b[1;34m\"is even\"\u001b[0m\u001b[1;33m)\u001b[0m\u001b[1;33m\u001b[0m\u001b[1;33m\u001b[0m\u001b[0m\n",
      "\u001b[1;31mAttributeError\u001b[0m: 'int' object has no attribute 'n'"
     ]
    }
   ],
   "source": [
    "class numbers:\n",
    "    def __init__(self,n):\n",
    "        self.n=n\n",
    "   \n",
    "    def even(self,n):\n",
    "        self.n=n\n",
    "        if self.n%2 == 0:\n",
    "            print(\"is even\")\n",
    "            \n",
    "            \n",
    "    def odd(self,n):\n",
    "        self.n=n\n",
    "        if self.n%2 != 0:\n",
    "            print(\"is odd\")\n",
    "\n",
    "num = numbers.even(3,2)\n",
    "print(num)\n",
    "\n",
    "\n",
    "\n"
   ]
  },
  {
   "cell_type": "code",
   "execution_count": 87,
   "metadata": {},
   "outputs": [
    {
     "name": "stdout",
     "output_type": "stream",
     "text": [
      "hellow\n",
      "good morning\n"
     ]
    }
   ],
   "source": [
    "# funtions\n",
    "\n",
    "def greet():\n",
    "    print('hellow')\n",
    "    print('good morning')\n",
    "greet()"
   ]
  },
  {
   "cell_type": "code",
   "execution_count": 88,
   "metadata": {},
   "outputs": [
    {
     "name": "stdout",
     "output_type": "stream",
     "text": [
      "7\n"
     ]
    }
   ],
   "source": [
    "def add(a,b):\n",
    "    c = a+b\n",
    "    print(c)\n",
    "\n",
    "add(3,4)"
   ]
  },
  {
   "cell_type": "code",
   "execution_count": 89,
   "metadata": {},
   "outputs": [
    {
     "name": "stdout",
     "output_type": "stream",
     "text": [
      "2\n"
     ]
    }
   ],
   "source": [
    "def sub(a,b):\n",
    "    c=a-b\n",
    "    return c\n",
    "result = sub(5,3)\n",
    "print(result)"
   ]
  },
  {
   "cell_type": "code",
   "execution_count": 90,
   "metadata": {},
   "outputs": [
    {
     "name": "stdout",
     "output_type": "stream",
     "text": [
      "9 5\n"
     ]
    }
   ],
   "source": [
    "def add_sub(x,y):\n",
    "    z1=x+y\n",
    "    z2=x-y\n",
    "    return z1,z2\n",
    "\n",
    "\n",
    "r1,r2=add_sub(7,2)\n",
    "print(r1,r2)"
   ]
  },
  {
   "cell_type": "code",
   "execution_count": 91,
   "metadata": {},
   "outputs": [
    {
     "name": "stdout",
     "output_type": "stream",
     "text": [
      "8\n",
      "10\n"
     ]
    }
   ],
   "source": [
    "def update(x):\n",
    "    x = 8\n",
    "    print(x)\n",
    "    \n",
    "a = 10\n",
    "update(a)\n",
    "print(a)"
   ]
  },
  {
   "cell_type": "code",
   "execution_count": 92,
   "metadata": {},
   "outputs": [
    {
     "name": "stdout",
     "output_type": "stream",
     "text": [
      "2737895817664\n",
      "1lst is [10, 20, 30]\n",
      "2737895817664\n",
      "2lst is [10, 15, 30]\n",
      "2737895817664\n",
      "3lst is [10, 15, 30]\n",
      "2737895817664\n"
     ]
    }
   ],
   "source": [
    "def update(lst):\n",
    "    print(\"1lst is\",lst)\n",
    "    print(id(lst))\n",
    "    lst[1]=15\n",
    "    print(\"2lst is\",lst)\n",
    "    print(id(lst))\n",
    "\n",
    "lst = [10,20,30]\n",
    "print(id(lst))\n",
    "update(lst)\n",
    "print('3lst is',lst)\n",
    "print(id(lst))"
   ]
  },
  {
   "cell_type": "code",
   "execution_count": 93,
   "metadata": {},
   "outputs": [
    {
     "name": "stdout",
     "output_type": "stream",
     "text": [
      "11\n"
     ]
    }
   ],
   "source": [
    "# we can pass the arguments or paramenters\n",
    "# arguments we have tow things one formal writen in definition and actual which are passing\n",
    "# actual arguments contain 4 types 1)position 2)keyword 3)default 4) variable length \n",
    "\n",
    "def add(a,b):\n",
    "    c = a+b\n",
    "    print(c)\n",
    "        \n",
    "        \n",
    "add(5,6)"
   ]
  },
  {
   "cell_type": "code",
   "execution_count": 94,
   "metadata": {},
   "outputs": [
    {
     "name": "stdout",
     "output_type": "stream",
     "text": [
      "navin\n",
      "34\n",
      "navin\n",
      "25\n",
      "15\n"
     ]
    }
   ],
   "source": [
    "def person(name, age):\n",
    "    print(name)\n",
    "    print(age)\n",
    "    \n",
    "person('navin',34) # position arguments mentain sequence\n",
    "person(age=25,name='navin') # keyword argument\n",
    "\n",
    "\n",
    "\n",
    "def add(a,b=10):  # initializing at definintion callsed the default argument                                                               \n",
    "    c = a+b\n",
    "    print(c)\n",
    "        \n",
    "        \n",
    "add(5)"
   ]
  },
  {
   "cell_type": "code",
   "execution_count": 95,
   "metadata": {},
   "outputs": [
    {
     "name": "stdout",
     "output_type": "stream",
     "text": [
      "22\n"
     ]
    }
   ],
   "source": [
    "# variable length argument\n",
    "def sum(a,*b):  # tells the variable length argument\n",
    "    #c=a+b  here we can not add the value and tuple\n",
    "    c = a\n",
    "    for i in b:\n",
    "        c=c+i\n",
    "        \n",
    "    print(c)\n",
    "    \n",
    "    \n",
    "sum(5,6,5,6)"
   ]
  },
  {
   "cell_type": "code",
   "execution_count": 96,
   "metadata": {},
   "outputs": [
    {
     "name": "stdout",
     "output_type": "stream",
     "text": [
      "22\n"
     ]
    }
   ],
   "source": [
    "# variable length argument\n",
    "def sum(*b):  # tells the variable length argument\n",
    "    #c=a+b  here we can not add the value and tuple\n",
    "    c=0\n",
    "    for i in b:\n",
    "        c=c+i\n",
    "        \n",
    "    print(c)\n",
    "    \n",
    "    \n",
    "sum(5,6,5,6)"
   ]
  },
  {
   "cell_type": "code",
   "execution_count": 97,
   "metadata": {},
   "outputs": [
    {
     "name": "stdout",
     "output_type": "stream",
     "text": [
      "navin\n",
      "{'age': 18, 'city': 'mombai', 'phone_no': 890340489}\n",
      "age 18\n",
      "city mombai\n",
      "phone_no 890340489\n"
     ]
    }
   ],
   "source": [
    "# key word variable lengthe argument\n",
    "def person(name, **data):\n",
    "    print(name)\n",
    "    print(data)\n",
    "    for i,j in data.items():\n",
    "        print(i,j)\n",
    "        \n",
    "person('navin',age=18,city='mombai',phone_no=890340489)"
   ]
  },
  {
   "cell_type": "code",
   "execution_count": 98,
   "metadata": {},
   "outputs": [
    {
     "name": "stdout",
     "output_type": "stream",
     "text": [
      "outside the funtion 10\n",
      "a inside at firsst 10\n",
      "inside the funtion 10\n"
     ]
    }
   ],
   "source": [
    "#to know bout global and local parameteres and its scope\n",
    "a = 10\n",
    "def something():\n",
    "    print('a inside at firsst',a)\n",
    "    #a = 20\n",
    "    print('inside the funtion',a)\n",
    "    \n",
    "print('outside the funtion',a)\n",
    "something()"
   ]
  },
  {
   "cell_type": "code",
   "execution_count": 99,
   "metadata": {},
   "outputs": [
    {
     "name": "stdout",
     "output_type": "stream",
     "text": [
      "outside the funtion 10\n",
      "inside funtion 15\n",
      "outside the funtion 15\n"
     ]
    }
   ],
   "source": [
    "#to know bout global and local parameteres and its scope\n",
    "a = 10\n",
    "def something():\n",
    "    global a # the way to chnage the global variable\n",
    "    a = 15\n",
    "    print('inside funtion',a)\n",
    "    \n",
    "    \n",
    "print('outside the funtion',a)\n",
    "something()\n",
    "print('outside the funtion',a)"
   ]
  },
  {
   "cell_type": "code",
   "execution_count": 100,
   "metadata": {},
   "outputs": [
    {
     "name": "stdout",
     "output_type": "stream",
     "text": [
      "140727911331904\n",
      "140727911331904\n",
      "in funtion 9\n",
      "outside the funtion 15\n"
     ]
    }
   ],
   "source": [
    "a =10\n",
    "print(id(a))\n",
    "def something():\n",
    "    a = 9\n",
    "    x = globals()['a']\n",
    "    print(id(x))\n",
    "    print('in funtion',a)\n",
    "    globals()['a']=15\n",
    "    \n",
    "    \n",
    "something()\n",
    "print('outside the funtion',a)\n",
    "    "
   ]
  },
  {
   "cell_type": "code",
   "execution_count": 101,
   "metadata": {},
   "outputs": [
    {
     "name": "stdout",
     "output_type": "stream",
     "text": [
      "6\n",
      "5\n",
      "even : 6 and odd : 5\n",
      "even : 6 odd : 5\n"
     ]
    }
   ],
   "source": [
    "def count(lst):\n",
    "    even, odd = 0,0\n",
    "    for i in lst:\n",
    "        if i % 2 == 0:\n",
    "            even +=1\n",
    "        else:\n",
    "            odd += 1\n",
    "    return even,odd\n",
    "\n",
    "\n",
    "\n",
    "lst = [1,3,5,2,8,9,10,34,75,84,92]\n",
    "even,odd = count(lst)\n",
    "print(even)\n",
    "print(odd)\n",
    "print(\"even : {} and odd : {}\".format(even,odd))\n",
    "print(f\"even : {even} odd : {odd}\")"
   ]
  },
  {
   "cell_type": "code",
   "execution_count": 102,
   "metadata": {},
   "outputs": [
    {
     "name": "stdout",
     "output_type": "stream",
     "text": [
      "0\n",
      "1\n",
      "1\n",
      "2\n",
      "3\n"
     ]
    }
   ],
   "source": [
    "# fibonacci series\n",
    "def fib(n):\n",
    "    a = 0\n",
    "    b = 1\n",
    "    if n == 1:\n",
    "        print(a)\n",
    "    else:\n",
    "        print(a)\n",
    "        print(b)\n",
    "        for i in range(2,n):\n",
    "            c = a+b\n",
    "            a = b\n",
    "            b = c\n",
    "            print(c)\n",
    "fib(5)"
   ]
  },
  {
   "cell_type": "code",
   "execution_count": 103,
   "metadata": {},
   "outputs": [
    {
     "name": "stdout",
     "output_type": "stream",
     "text": [
      "120\n"
     ]
    }
   ],
   "source": [
    "\n",
    "\n",
    "def fact(n):\n",
    "    s = 1\n",
    "    for i in range(1,n+1):\n",
    "        s = s*i\n",
    "    return s\n",
    "\n",
    "\n",
    "x = 5\n",
    "result = fact(x)\n",
    "print(result)\n",
    "\n",
    "\n",
    "\n",
    "\n",
    "\n"
   ]
  },
  {
   "cell_type": "code",
   "execution_count": 104,
   "metadata": {},
   "outputs": [
    {
     "name": "stdout",
     "output_type": "stream",
     "text": [
      "hello 1\n",
      "hello 2\n",
      "hello 3\n",
      "hello 4\n",
      "hello 5\n",
      "hello 6\n",
      "hello 7\n",
      "hello 8\n",
      "hello 9\n",
      "hello 10\n",
      "hello 11\n",
      "hello 12\n",
      "hello 13\n",
      "hello 14\n",
      "hello 15\n",
      "hello 16\n",
      "hello 17\n",
      "hello 18\n",
      "hello 19\n",
      "hello 20\n",
      "hello 21\n",
      "hello 22\n",
      "hello 23\n",
      "hello 24\n",
      "hello 25\n",
      "hello 26\n",
      "hello 27\n",
      "hello 28\n",
      "hello 29\n",
      "hello 30\n",
      "hello 31\n",
      "hello 32\n",
      "hello 33\n",
      "hello 34\n",
      "hello 35\n",
      "hello 36\n",
      "hello 37\n",
      "hello 38\n",
      "hello 39\n",
      "hello 40\n",
      "hello 41\n",
      "hello 42\n",
      "hello 43\n",
      "hello 44\n",
      "hello 45\n",
      "hello 46\n",
      "hello 47\n",
      "hello 48\n",
      "hello 49\n",
      "hello 50\n",
      "hello 51\n",
      "hello 52\n",
      "hello 53\n",
      "hello 54\n",
      "hello 55\n",
      "hello 56\n",
      "hello 57\n",
      "hello 58\n",
      "hello 59\n",
      "hello 60\n",
      "hello 61\n",
      "hello 62\n",
      "hello 63\n",
      "hello 64\n",
      "hello 65\n",
      "hello 66\n",
      "hello 67\n",
      "hello 68\n",
      "hello 69\n",
      "hello 70\n",
      "hello 71\n",
      "hello 72\n",
      "hello 73\n",
      "hello 74\n",
      "hello 75\n",
      "hello 76\n",
      "hello 77\n",
      "hello 78\n",
      "hello 79\n",
      "hello 80\n",
      "hello 81\n",
      "hello 82\n",
      "hello 83\n",
      "hello 84\n",
      "hello 85\n",
      "hello 86\n",
      "hello 87\n",
      "hello 88\n",
      "hello 89\n",
      "hello 90\n",
      "hello 91\n",
      "hello 92\n",
      "hello 93\n",
      "hello 94\n",
      "hello 95\n",
      "hello 96\n",
      "hello 97\n",
      "hello 98\n",
      "hello 99\n",
      "hello 100\n",
      "hello 101\n",
      "hello 102\n",
      "hello 103\n",
      "hello 104\n",
      "hello 105\n",
      "hello 106\n",
      "hello 107\n",
      "hello 108\n",
      "hello 109\n",
      "hello 110\n",
      "hello 111\n",
      "hello 112\n",
      "hello 113\n",
      "hello 114\n",
      "hello 115\n",
      "hello 116\n",
      "hello 117\n",
      "hello 118\n",
      "hello 119\n",
      "hello 120\n",
      "hello 121\n",
      "hello 122\n",
      "hello 123\n",
      "hello 124\n",
      "hello 125\n",
      "hello 126\n",
      "hello 127\n",
      "hello 128\n",
      "hello 129\n",
      "hello 130\n",
      "hello 131\n",
      "hello 132\n",
      "hello 133\n",
      "hello 134\n",
      "hello 135\n",
      "hello 136\n",
      "hello 137\n",
      "hello 138\n",
      "hello 139\n",
      "hello 140\n",
      "hello 141\n",
      "hello 142\n",
      "hello 143\n",
      "hello 144\n",
      "hello 145\n",
      "hello 146\n",
      "hello 147\n",
      "hello 148\n",
      "hello 149\n",
      "hello 150\n",
      "hello 151\n",
      "hello 152\n",
      "hello 153\n",
      "hello 154\n",
      "hello 155\n",
      "hello 156\n",
      "hello 157\n",
      "hello 158\n",
      "hello 159\n",
      "hello 160\n",
      "hello 161\n",
      "hello 162\n",
      "hello 163\n",
      "hello 164\n",
      "hello 165\n",
      "hello 166\n",
      "hello 167\n",
      "hello 168\n",
      "hello 169\n",
      "hello 170\n",
      "hello 171\n",
      "hello 172\n",
      "hello 173\n",
      "hello 174\n",
      "hello 175\n",
      "hello 176\n",
      "hello 177\n",
      "hello 178\n",
      "hello 179\n",
      "hello 180\n",
      "hello 181\n",
      "hello 182\n",
      "hello 183\n",
      "hello 184\n",
      "hello 185\n",
      "hello 186\n",
      "hello 187\n",
      "hello 188\n",
      "hello 189\n",
      "hello 190\n",
      "hello 191\n",
      "hello 192\n",
      "hello 193\n",
      "hello 194\n",
      "hello 195\n",
      "hello 196\n",
      "hello 197\n",
      "hello 198\n",
      "hello 199\n",
      "hello 200\n",
      "hello 201\n",
      "hello 202\n",
      "hello 203\n",
      "hello 204\n",
      "hello 205\n",
      "hello 206\n",
      "hello 207\n",
      "hello 208\n",
      "hello 209\n",
      "hello 210\n",
      "hello 211\n",
      "hello 212\n",
      "hello 213\n",
      "hello 214\n",
      "hello 215\n",
      "hello 216\n",
      "hello 217\n",
      "hello 218\n",
      "hello 219\n",
      "hello 220\n",
      "hello 221\n",
      "hello 222\n",
      "hello 223\n",
      "hello 224\n",
      "hello 225\n",
      "hello 226\n",
      "hello 227\n",
      "hello 228\n",
      "hello 229\n",
      "hello 230\n",
      "hello 231\n",
      "hello 232\n",
      "hello 233\n",
      "hello 234\n",
      "hello 235\n",
      "hello 236\n",
      "hello 237\n",
      "hello 238\n",
      "hello 239\n",
      "hello 240\n",
      "hello 241\n",
      "hello 242\n",
      "hello 243\n",
      "hello 244\n",
      "hello 245\n",
      "hello 246\n",
      "hello 247\n",
      "hello 248\n",
      "hello 249\n",
      "hello 250\n",
      "hello 251\n",
      "hello 252\n",
      "hello 253\n",
      "hello 254\n",
      "hello 255\n",
      "hello 256\n",
      "hello 257\n",
      "hello 258\n",
      "hello 259\n",
      "hello 260\n",
      "hello 261\n",
      "hello 262\n",
      "hello 263\n",
      "hello 264\n",
      "hello 265\n",
      "hello 266\n",
      "hello 267\n",
      "hello 268\n",
      "hello 269\n",
      "hello 270\n",
      "hello 271\n",
      "hello 272\n",
      "hello 273\n",
      "hello 274\n",
      "hello 275\n",
      "hello 276\n",
      "hello 277\n",
      "hello 278\n",
      "hello 279\n",
      "hello 280\n",
      "hello 281\n",
      "hello 282\n",
      "hello 283\n",
      "hello 284\n",
      "hello 285\n",
      "hello 286\n",
      "hello 287\n",
      "hello 288\n",
      "hello 289\n",
      "hello 290\n",
      "hello 291\n",
      "hello 292\n",
      "hello 293\n",
      "hello 294\n",
      "hello 295\n",
      "hello 296\n",
      "hello 297\n",
      "hello 298\n",
      "hello 299\n",
      "hello 300\n",
      "hello 301\n",
      "hello 302\n",
      "hello 303\n",
      "hello 304\n",
      "hello 305\n",
      "hello 306\n",
      "hello 307\n",
      "hello 308\n",
      "hello 309\n",
      "hello 310\n",
      "hello 311\n",
      "hello 312\n",
      "hello 313\n",
      "hello 314\n",
      "hello 315\n",
      "hello 316\n",
      "hello 317\n",
      "hello 318\n",
      "hello 319\n",
      "hello 320\n",
      "hello 321\n",
      "hello 322\n",
      "hello 323\n",
      "hello 324\n",
      "hello 325\n",
      "hello 326\n",
      "hello 327\n",
      "hello 328\n",
      "hello 329\n",
      "hello 330\n",
      "hello 331\n",
      "hello 332\n",
      "hello 333\n",
      "hello 334\n",
      "hello 335\n",
      "hello 336\n",
      "hello 337\n",
      "hello 338\n",
      "hello 339\n",
      "hello 340\n",
      "hello 341\n",
      "hello 342\n",
      "hello 343\n",
      "hello 344\n",
      "hello 345\n",
      "hello 346\n",
      "hello 347\n",
      "hello 348\n",
      "hello 349\n",
      "hello 350\n",
      "hello 351\n",
      "hello 352\n",
      "hello 353\n",
      "hello 354\n",
      "hello 355\n",
      "hello 356\n",
      "hello 357\n",
      "hello 358\n",
      "hello 359\n",
      "hello 360\n",
      "hello 361\n",
      "hello 362\n",
      "hello 363\n",
      "hello 364\n",
      "hello 365\n",
      "hello 366\n",
      "hello 367\n",
      "hello 368\n",
      "hello 369\n",
      "hello 370\n",
      "hello 371\n",
      "hello 372\n",
      "hello 373\n",
      "hello 374\n",
      "hello 375\n",
      "hello 376\n",
      "hello 377\n",
      "hello 378\n",
      "hello 379\n",
      "hello 380\n",
      "hello 381\n",
      "hello 382\n",
      "hello 383\n",
      "hello 384\n",
      "hello 385\n",
      "hello 386\n",
      "hello 387\n",
      "hello 388\n",
      "hello 389\n",
      "hello 390\n",
      "hello 391\n",
      "hello 392\n",
      "hello 393\n",
      "hello 394\n",
      "hello 395\n",
      "hello 396\n",
      "hello 397\n",
      "hello 398\n",
      "hello 399\n",
      "hello 400\n",
      "hello 401\n",
      "hello 402\n",
      "hello 403\n",
      "hello 404\n",
      "hello 405\n",
      "hello 406\n",
      "hello 407\n",
      "hello 408\n",
      "hello 409\n",
      "hello 410\n",
      "hello 411\n",
      "hello 412\n",
      "hello 413\n",
      "hello 414\n",
      "hello 415\n",
      "hello 416\n",
      "hello 417\n",
      "hello 418\n",
      "hello 419\n",
      "hello 420\n",
      "hello 421\n",
      "hello 422\n",
      "hello 423\n",
      "hello 424\n",
      "hello 425\n",
      "hello 426\n",
      "hello 427\n",
      "hello 428\n",
      "hello 429\n",
      "hello 430\n",
      "hello 431\n",
      "hello 432\n",
      "hello 433\n",
      "hello 434\n",
      "hello 435\n",
      "hello 436\n",
      "hello 437\n",
      "hello 438\n",
      "hello 439\n",
      "hello 440\n",
      "hello 441\n",
      "hello 442\n",
      "hello 443\n",
      "hello 444\n",
      "hello 445\n",
      "hello 446\n",
      "hello 447\n",
      "hello 448\n",
      "hello 449\n",
      "hello 450\n",
      "hello 451\n",
      "hello 452\n",
      "hello 453\n",
      "hello 454\n",
      "hello 455\n",
      "hello 456\n",
      "hello 457\n",
      "hello 458\n",
      "hello 459\n",
      "hello 460\n",
      "hello 461\n",
      "hello 462\n",
      "hello 463\n",
      "hello 464\n",
      "hello 465\n",
      "hello 466\n",
      "hello 467\n",
      "hello 468\n",
      "hello 469\n",
      "hello 470\n",
      "hello 471\n",
      "hello 472\n",
      "hello 473\n",
      "hello 474\n",
      "hello 475\n",
      "hello 476\n",
      "hello 477\n",
      "hello 478\n",
      "hello 479\n",
      "hello 480\n",
      "hello 481\n",
      "hello 482\n",
      "hello 483\n",
      "hello 484\n",
      "hello 485\n",
      "hello 486\n",
      "hello 487\n",
      "hello 488\n",
      "hello 489\n",
      "hello 490\n",
      "hello 491\n",
      "hello 492\n",
      "hello 493\n",
      "hello 494\n",
      "hello 495\n",
      "hello 496\n",
      "hello 497\n",
      "hello 498\n",
      "hello 499\n",
      "hello 500\n",
      "hello 501\n",
      "hello 502\n",
      "hello 503\n",
      "hello 504\n",
      "hello 505\n",
      "hello 506\n",
      "hello 507\n",
      "hello 508\n",
      "hello 509\n",
      "hello 510\n",
      "hello 511\n",
      "hello 512\n",
      "hello 513\n",
      "hello 514\n",
      "hello 515\n",
      "hello 516\n",
      "hello 517\n",
      "hello 518\n",
      "hello 519\n",
      "hello 520\n",
      "hello 521\n",
      "hello 522\n",
      "hello 523\n",
      "hello 524\n",
      "hello 525\n",
      "hello 526\n",
      "hello 527\n",
      "hello 528\n",
      "hello 529\n",
      "hello 530\n",
      "hello 531\n",
      "hello 532\n",
      "hello 533\n",
      "hello 534\n",
      "hello 535\n",
      "hello 536\n",
      "hello 537\n",
      "hello 538\n",
      "hello 539\n",
      "hello 540\n",
      "hello 541\n",
      "hello 542\n",
      "hello 543\n",
      "hello 544\n",
      "hello 545\n",
      "hello 546\n",
      "hello 547\n",
      "hello 548\n",
      "hello 549\n",
      "hello 550\n",
      "hello 551\n",
      "hello 552\n",
      "hello 553\n",
      "hello 554\n",
      "hello 555\n",
      "hello 556\n",
      "hello 557\n",
      "hello 558\n",
      "hello 559\n",
      "hello 560\n",
      "hello 561\n",
      "hello 562\n",
      "hello 563\n",
      "hello 564\n",
      "hello 565\n",
      "hello 566\n",
      "hello 567\n",
      "hello 568\n",
      "hello 569\n",
      "hello 570\n",
      "hello 571\n",
      "hello 572\n",
      "hello 573\n",
      "hello 574\n",
      "hello 575\n",
      "hello 576\n",
      "hello 577\n",
      "hello 578\n",
      "hello 579\n",
      "hello 580\n",
      "hello 581\n",
      "hello 582\n",
      "hello 583\n",
      "hello 584\n",
      "hello 585\n",
      "hello 586\n",
      "hello 587\n",
      "hello 588\n",
      "hello 589\n",
      "hello 590\n",
      "hello 591\n",
      "hello 592\n",
      "hello 593\n",
      "hello 594\n",
      "hello 595\n",
      "hello 596\n",
      "hello 597\n",
      "hello 598\n",
      "hello 599\n",
      "hello 600\n",
      "hello 601\n",
      "hello 602\n",
      "hello 603\n",
      "hello 604\n",
      "hello 605\n",
      "hello 606\n",
      "hello 607\n",
      "hello 608\n",
      "hello 609\n",
      "hello 610\n",
      "hello 611\n",
      "hello 612\n",
      "hello 613\n",
      "hello 614\n",
      "hello 615\n",
      "hello 616\n",
      "hello 617\n",
      "hello 618\n",
      "hello 619\n",
      "hello 620\n",
      "hello 621\n",
      "hello 622\n",
      "hello 623\n",
      "hello 624\n",
      "hello 625\n",
      "hello 626\n",
      "hello 627\n",
      "hello 628\n",
      "hello 629\n",
      "hello 630\n",
      "hello 631\n",
      "hello 632\n",
      "hello 633\n",
      "hello 634\n",
      "hello 635\n",
      "hello 636\n",
      "hello 637\n",
      "hello 638\n",
      "hello 639\n",
      "hello 640\n",
      "hello 641\n",
      "hello 642\n",
      "hello 643\n",
      "hello 644\n",
      "hello 645\n",
      "hello 646\n",
      "hello 647\n",
      "hello 648\n",
      "hello 649\n",
      "hello 650\n",
      "hello 651\n",
      "hello 652\n",
      "hello 653\n",
      "hello 654\n",
      "hello 655\n",
      "hello 656\n",
      "hello 657\n",
      "hello 658\n",
      "hello 659\n",
      "hello 660\n",
      "hello 661\n",
      "hello 662\n",
      "hello 663\n",
      "hello 664\n",
      "hello 665\n",
      "hello 666\n",
      "hello 667\n",
      "hello 668\n",
      "hello 669\n",
      "hello 670\n",
      "hello 671\n",
      "hello 672\n",
      "hello 673\n",
      "hello 674\n",
      "hello 675\n",
      "hello 676\n",
      "hello 677\n",
      "hello 678\n",
      "hello 679\n",
      "hello 680\n",
      "hello 681\n",
      "hello 682\n",
      "hello 683\n",
      "hello 684\n",
      "hello 685\n",
      "hello 686\n",
      "hello 687\n",
      "hello 688\n",
      "hello 689\n",
      "hello 690\n",
      "hello 691\n",
      "hello 692\n",
      "hello 693\n",
      "hello 694\n",
      "hello 695\n",
      "hello 696\n",
      "hello 697\n",
      "hello 698\n",
      "hello 699\n",
      "hello 700\n",
      "hello 701\n",
      "hello 702\n",
      "hello 703\n",
      "hello 704\n",
      "hello 705\n",
      "hello 706\n",
      "hello 707\n",
      "hello 708\n",
      "hello 709\n",
      "hello 710\n",
      "hello 711\n",
      "hello 712\n",
      "hello 713\n",
      "hello 714\n",
      "hello 715\n",
      "hello 716\n",
      "hello 717\n",
      "hello 718\n",
      "hello 719\n",
      "hello 720\n",
      "hello 721\n",
      "hello 722\n",
      "hello 723\n",
      "hello 724\n",
      "hello 725\n",
      "hello 726\n",
      "hello 727\n",
      "hello 728\n",
      "hello 729\n",
      "hello 730\n",
      "hello 731\n",
      "hello 732\n",
      "hello 733\n",
      "hello 734\n",
      "hello 735\n",
      "hello 736\n",
      "hello 737\n",
      "hello 738\n",
      "hello 739\n",
      "hello 740\n",
      "hello 741\n",
      "hello 742\n",
      "hello 743\n",
      "hello 744\n",
      "hello 745\n",
      "hello 746\n",
      "hello 747\n",
      "hello 748\n",
      "hello 749\n",
      "hello 750\n",
      "hello 751\n",
      "hello 752\n",
      "hello 753\n",
      "hello 754\n",
      "hello 755\n",
      "hello 756\n",
      "hello 757\n",
      "hello 758\n",
      "hello 759\n",
      "hello 760\n",
      "hello 761\n",
      "hello 762\n",
      "hello 763\n",
      "hello 764\n",
      "hello 765\n",
      "hello 766\n",
      "hello 767\n",
      "hello 768\n",
      "hello 769\n",
      "hello 770\n",
      "hello 771\n",
      "hello 772\n",
      "hello 773\n",
      "hello 774\n",
      "hello 775\n",
      "hello 776\n",
      "hello 777\n",
      "hello 778\n",
      "hello 779\n",
      "hello 780\n",
      "hello 781\n",
      "hello 782\n",
      "hello 783\n",
      "hello 784\n",
      "hello 785\n",
      "hello 786\n",
      "hello 787\n",
      "hello 788\n",
      "hello 789\n",
      "hello 790\n",
      "hello 791\n",
      "hello 792\n",
      "hello 793\n",
      "hello 794\n",
      "hello 795\n",
      "hello 796\n",
      "hello 797\n",
      "hello 798\n",
      "hello 799\n",
      "hello 800\n",
      "hello 801\n",
      "hello 802\n",
      "hello 803\n",
      "hello 804\n",
      "hello 805\n",
      "hello 806\n",
      "hello 807\n",
      "hello 808\n",
      "hello 809\n",
      "hello 810\n",
      "hello 811\n",
      "hello 812\n",
      "hello 813\n",
      "hello 814\n",
      "hello 815\n",
      "hello 816\n",
      "hello 817\n",
      "hello 818\n",
      "hello 819\n",
      "hello 820\n",
      "hello 821\n",
      "hello 822\n",
      "hello 823\n",
      "hello 824\n",
      "hello 825\n",
      "hello 826\n",
      "hello 827\n",
      "hello 828\n",
      "hello 829\n",
      "hello 830\n",
      "hello 831\n",
      "hello 832\n",
      "hello 833\n",
      "hello 834\n",
      "hello 835\n",
      "hello 836\n",
      "hello 837\n",
      "hello 838\n",
      "hello 839\n",
      "hello 840\n",
      "hello 841\n",
      "hello 842\n",
      "hello 843\n",
      "hello 844\n",
      "hello 845\n",
      "hello 846\n",
      "hello 847\n",
      "hello 848\n",
      "hello 849\n",
      "hello 850\n",
      "hello 851\n",
      "hello 852\n",
      "hello 853\n",
      "hello 854\n",
      "hello 855\n"
     ]
    },
    {
     "name": "stdout",
     "output_type": "stream",
     "text": [
      "hello 856\n",
      "hello 857\n",
      "hello 858\n",
      "hello 859\n",
      "hello 860\n",
      "hello 861\n",
      "hello 862\n",
      "hello 863\n",
      "hello 864\n",
      "hello 865\n",
      "hello 866\n",
      "hello 867\n",
      "hello 868\n",
      "hello 869\n",
      "hello 870\n",
      "hello 871\n",
      "hello 872\n",
      "hello 873\n",
      "hello 874\n",
      "hello 875\n",
      "hello 876\n",
      "hello 877\n",
      "hello 878\n",
      "hello 879\n",
      "hello 880\n",
      "hello 881\n",
      "hello 882\n",
      "hello 883\n",
      "hello 884\n",
      "hello 885\n",
      "hello 886\n",
      "hello 887\n",
      "hello 888\n",
      "hello 889\n",
      "hello 890\n",
      "hello 891\n",
      "hello 892\n",
      "hello 893\n",
      "hello 894\n",
      "hello 895\n",
      "hello 896\n",
      "hello 897\n",
      "hello 898\n",
      "hello 899\n",
      "hello 900\n",
      "hello 901\n",
      "hello 902\n",
      "hello 903\n",
      "hello 904\n",
      "hello 905\n",
      "hello 906\n",
      "hello 907\n",
      "hello 908\n",
      "hello 909\n",
      "hello 910\n",
      "hello 911\n",
      "hello 912\n",
      "hello 913\n",
      "hello 914\n",
      "hello 915\n",
      "hello 916\n",
      "hello 917\n",
      "hello 918\n",
      "hello 919\n",
      "hello 920\n",
      "hello 921\n",
      "hello 922\n",
      "hello 923\n",
      "hello 924\n",
      "hello 925\n",
      "hello 926\n",
      "hello 927\n",
      "hello 928\n",
      "hello 929\n",
      "hello 930\n",
      "hello 931\n",
      "hello 932\n",
      "hello 933\n",
      "hello 934\n",
      "hello 935\n",
      "hello 936\n",
      "hello 937\n",
      "hello 938\n",
      "hello 939\n",
      "hello 940\n",
      "hello 941\n",
      "hello 942\n",
      "hello 943\n",
      "hello 944\n",
      "hello 945\n",
      "hello 946\n",
      "hello 947\n",
      "hello 948\n",
      "hello 949\n",
      "hello 950\n",
      "hello 951\n",
      "hello 952\n",
      "hello 953\n",
      "hello 954\n",
      "hello 955\n",
      "hello 956\n",
      "hello 957\n",
      "hello 958\n",
      "hello 959\n",
      "hello 960\n",
      "hello 961\n",
      "hello 962\n",
      "hello 963\n",
      "hello 964\n",
      "hello 965\n",
      "hello 966\n",
      "hello 967\n",
      "hello 968\n",
      "hello 969\n",
      "hello 970\n",
      "hello 971\n",
      "hello 972\n",
      "hello 973\n",
      "hello 974\n",
      "hello 975\n",
      "hello 976\n",
      "hello 977\n",
      "hello 978\n",
      "hello 979\n",
      "hello 980\n",
      "hello 981\n",
      "hello 982\n",
      "hello 983\n",
      "hello 984\n",
      "hello 985\n",
      "hello 986\n",
      "hello 987\n",
      "hello 988\n",
      "hello 989\n",
      "hello 990\n",
      "hello 991\n",
      "hello 992\n",
      "hello 993\n",
      "hello 994\n",
      "hello 995\n",
      "hello 996\n",
      "hello 997\n",
      "hello 998\n",
      "hello 999\n",
      "hello 1000\n",
      "hello 1001\n",
      "hello 1002\n",
      "hello 1003\n",
      "hello 1004\n",
      "hello 1005\n",
      "hello 1006\n",
      "hello 1007\n",
      "hello 1008\n",
      "hello 1009\n",
      "hello 1010\n",
      "hello 1011\n",
      "hello 1012\n",
      "hello 1013\n",
      "hello 1014\n",
      "hello 1015\n",
      "hello 1016\n",
      "hello 1017\n",
      "hello 1018\n",
      "hello 1019\n",
      "hello 1020\n",
      "hello 1021\n",
      "hello 1022\n",
      "hello 1023\n",
      "hello 1024\n",
      "hello 1025\n",
      "hello 1026\n",
      "hello 1027\n",
      "hello 1028\n",
      "hello 1029\n",
      "hello 1030\n",
      "hello 1031\n",
      "hello 1032\n",
      "hello 1033\n",
      "hello 1034\n",
      "hello 1035\n",
      "hello 1036\n",
      "hello 1037\n",
      "hello 1038\n",
      "hello 1039\n",
      "hello 1040\n",
      "hello 1041\n",
      "hello 1042\n",
      "hello 1043\n",
      "hello 1044\n",
      "hello 1045\n",
      "hello 1046\n",
      "hello 1047\n",
      "hello 1048\n",
      "hello 1049\n",
      "hello 1050\n",
      "hello 1051\n",
      "hello 1052\n",
      "hello 1053\n",
      "hello 1054\n",
      "hello 1055\n",
      "hello 1056\n",
      "hello 1057\n",
      "hello 1058\n",
      "hello 1059\n",
      "hello 1060\n",
      "hello 1061\n",
      "hello 1062\n",
      "hello 1063\n",
      "hello 1064\n",
      "hello 1065\n",
      "hello 1066\n",
      "hello 1067\n",
      "hello 1068\n",
      "hello 1069\n",
      "hello 1070\n",
      "hello 1071\n",
      "hello 1072\n",
      "hello 1073\n",
      "hello 1074\n",
      "hello 1075\n",
      "hello 1076\n",
      "hello 1077\n",
      "hello 1078\n",
      "hello 1079\n",
      "hello 1080\n",
      "hello 1081\n",
      "hello 1082\n",
      "hello 1083\n",
      "hello 1084\n",
      "hello 1085\n",
      "hello 1086\n",
      "hello 1087\n",
      "hello 1088\n",
      "hello 1089\n",
      "hello 1090\n",
      "hello 1091\n",
      "hello 1092\n",
      "hello 1093\n",
      "hello 1094\n",
      "hello 1095\n",
      "hello 1096\n",
      "hello 1097\n",
      "hello 1098\n",
      "hello 1099\n",
      "hello 1100\n",
      "hello 1101\n",
      "hello 1102\n",
      "hello 1103\n",
      "hello 1104\n",
      "hello 1105\n",
      "hello 1106\n",
      "hello 1107\n",
      "hello 1108\n",
      "hello 1109\n",
      "hello 1110\n",
      "hello 1111\n",
      "hello 1112\n",
      "hello 1113\n",
      "hello 1114\n",
      "hello 1115\n",
      "hello 1116\n",
      "hello 1117\n",
      "hello 1118\n",
      "hello 1119\n",
      "hello 1120\n",
      "hello 1121\n",
      "hello 1122\n",
      "hello 1123\n",
      "hello 1124\n",
      "hello 1125\n",
      "hello 1126\n",
      "hello 1127\n",
      "hello 1128\n",
      "hello 1129\n",
      "hello 1130\n",
      "hello 1131\n",
      "hello 1132\n",
      "hello 1133\n",
      "hello 1134\n",
      "hello 1135\n",
      "hello 1136\n",
      "hello 1137\n",
      "hello 1138\n",
      "hello 1139\n",
      "hello 1140\n",
      "hello 1141\n",
      "hello 1142\n",
      "hello 1143\n",
      "hello 1144\n",
      "hello 1145\n",
      "hello 1146\n",
      "hello 1147\n",
      "hello 1148\n",
      "hello 1149\n",
      "hello 1150\n",
      "hello 1151\n",
      "hello 1152\n",
      "hello 1153\n",
      "hello 1154\n",
      "hello 1155\n",
      "hello 1156\n",
      "hello 1157\n",
      "hello 1158\n",
      "hello 1159\n",
      "hello 1160\n",
      "hello 1161\n",
      "hello 1162\n",
      "hello 1163\n",
      "hello 1164\n",
      "hello 1165\n",
      "hello 1166\n",
      "hello 1167\n",
      "hello 1168\n",
      "hello 1169\n",
      "hello 1170\n",
      "hello 1171\n",
      "hello 1172\n",
      "hello 1173\n",
      "hello 1174\n",
      "hello 1175\n",
      "hello 1176\n",
      "hello 1177\n",
      "hello 1178\n",
      "hello 1179\n",
      "hello 1180\n",
      "hello 1181\n",
      "hello 1182\n",
      "hello 1183\n",
      "hello 1184\n",
      "hello 1185\n",
      "hello 1186\n",
      "hello 1187\n",
      "hello 1188\n",
      "hello 1189\n",
      "hello 1190\n",
      "hello 1191\n",
      "hello 1192\n",
      "hello 1193\n",
      "hello 1194\n",
      "hello 1195\n",
      "hello 1196\n",
      "hello 1197\n",
      "hello 1198\n",
      "hello 1199\n",
      "hello 1200\n",
      "hello 1201\n",
      "hello 1202\n",
      "hello 1203\n",
      "hello 1204\n",
      "hello 1205\n",
      "hello 1206\n",
      "hello 1207\n",
      "hello 1208\n",
      "hello 1209\n",
      "hello 1210\n",
      "hello 1211\n",
      "hello 1212\n",
      "hello 1213\n",
      "hello 1214\n",
      "hello 1215\n",
      "hello 1216\n",
      "hello 1217\n",
      "hello 1218\n",
      "hello 1219\n",
      "hello 1220\n",
      "hello 1221\n",
      "hello 1222\n",
      "hello 1223\n",
      "hello 1224\n",
      "hello 1225\n",
      "hello 1226\n",
      "hello 1227\n",
      "hello 1228\n",
      "hello 1229\n",
      "hello 1230\n",
      "hello 1231\n",
      "hello 1232\n",
      "hello 1233\n",
      "hello 1234\n",
      "hello 1235\n",
      "hello 1236\n",
      "hello 1237\n",
      "hello 1238\n",
      "hello 1239\n",
      "hello 1240\n",
      "hello 1241\n",
      "hello 1242\n",
      "hello 1243\n",
      "hello 1244\n",
      "hello 1245\n",
      "hello 1246\n",
      "hello 1247\n",
      "hello 1248\n",
      "hello 1249\n",
      "hello 1250\n",
      "hello 1251\n",
      "hello 1252\n",
      "hello 1253\n",
      "hello 1254\n",
      "hello 1255\n",
      "hello 1256\n",
      "hello 1257\n",
      "hello 1258\n",
      "hello 1259\n",
      "hello 1260\n",
      "hello 1261\n",
      "hello 1262\n",
      "hello 1263\n",
      "hello 1264\n",
      "hello 1265\n",
      "hello 1266\n",
      "hello 1267\n",
      "hello 1268\n",
      "hello 1269\n",
      "hello 1270\n",
      "hello 1271\n",
      "hello 1272\n",
      "hello 1273\n",
      "hello 1274\n",
      "hello 1275\n",
      "hello 1276\n",
      "hello 1277\n",
      "hello 1278\n",
      "hello 1279\n",
      "hello 1280\n",
      "hello 1281\n",
      "hello 1282\n",
      "hello 1283\n",
      "hello 1284\n",
      "hello 1285\n",
      "hello 1286\n",
      "hello 1287\n",
      "hello 1288\n",
      "hello 1289\n",
      "hello 1290\n",
      "hello 1291\n",
      "hello 1292\n",
      "hello 1293\n",
      "hello 1294\n",
      "hello 1295\n",
      "hello 1296\n",
      "hello 1297\n",
      "hello 1298\n",
      "hello 1299\n",
      "hello 1300\n",
      "hello 1301\n",
      "hello 1302\n",
      "hello 1303\n",
      "hello 1304\n",
      "hello 1305\n",
      "hello 1306\n",
      "hello 1307\n",
      "hello 1308\n",
      "hello 1309\n",
      "hello 1310\n",
      "hello 1311\n",
      "hello 1312\n",
      "hello 1313\n",
      "hello 1314\n",
      "hello 1315\n",
      "hello 1316\n",
      "hello 1317\n",
      "hello 1318\n",
      "hello 1319\n",
      "hello 1320\n",
      "hello 1321\n",
      "hello 1322\n",
      "hello 1323\n",
      "hello 1324\n",
      "hello 1325\n",
      "hello 1326\n",
      "hello 1327\n",
      "hello 1328\n",
      "hello 1329\n",
      "hello 1330\n",
      "hello 1331\n",
      "hello 1332\n",
      "hello 1333\n",
      "hello 1334\n",
      "hello 1335\n",
      "hello 1336\n",
      "hello 1337\n",
      "hello 1338\n",
      "hello 1339\n",
      "hello 1340\n",
      "hello 1341\n",
      "hello 1342\n",
      "hello 1343\n",
      "hello 1344\n",
      "hello 1345\n",
      "hello 1346\n",
      "hello 1347\n",
      "hello 1348\n",
      "hello 1349\n",
      "hello 1350\n",
      "hello 1351\n",
      "hello 1352\n",
      "hello 1353\n",
      "hello 1354\n",
      "hello 1355\n",
      "hello 1356\n",
      "hello 1357\n",
      "hello 1358\n",
      "hello 1359\n",
      "hello 1360\n",
      "hello 1361\n",
      "hello 1362\n",
      "hello 1363\n",
      "hello 1364\n",
      "hello 1365\n",
      "hello 1366\n",
      "hello 1367\n",
      "hello 1368\n",
      "hello 1369\n",
      "hello 1370\n",
      "hello 1371\n",
      "hello 1372\n",
      "hello 1373\n",
      "hello 1374\n",
      "hello 1375\n",
      "hello 1376\n",
      "hello 1377\n",
      "hello 1378\n",
      "hello 1379\n",
      "hello 1380\n",
      "hello 1381\n",
      "hello 1382\n",
      "hello 1383\n",
      "hello 1384\n",
      "hello 1385\n",
      "hello 1386\n",
      "hello 1387\n",
      "hello 1388\n",
      "hello 1389\n",
      "hello 1390\n",
      "hello 1391\n",
      "hello 1392\n",
      "hello 1393\n",
      "hello 1394\n",
      "hello 1395\n",
      "hello 1396\n",
      "hello 1397\n",
      "hello 1398\n",
      "hello 1399\n",
      "hello 1400\n",
      "hello 1401\n",
      "hello 1402\n",
      "hello 1403\n",
      "hello 1404\n",
      "hello 1405\n",
      "hello 1406\n",
      "hello 1407\n",
      "hello 1408\n",
      "hello 1409\n",
      "hello 1410\n",
      "hello 1411\n",
      "hello 1412\n",
      "hello 1413\n",
      "hello 1414\n",
      "hello 1415\n",
      "hello 1416\n",
      "hello 1417\n",
      "hello 1418\n",
      "hello 1419\n",
      "hello 1420\n",
      "hello 1421\n",
      "hello 1422\n",
      "hello 1423\n",
      "hello 1424\n",
      "hello 1425\n",
      "hello 1426\n",
      "hello 1427\n",
      "hello 1428\n",
      "hello 1429\n",
      "hello 1430\n",
      "hello 1431\n",
      "hello 1432\n",
      "hello 1433\n",
      "hello 1434\n",
      "hello 1435\n",
      "hello 1436\n",
      "hello 1437\n",
      "hello 1438\n",
      "hello 1439\n",
      "hello 1440\n",
      "hello 1441\n",
      "hello 1442\n",
      "hello 1443\n",
      "hello 1444\n",
      "hello 1445\n",
      "hello 1446\n",
      "hello 1447\n",
      "hello 1448\n",
      "hello 1449\n",
      "hello 1450\n",
      "hello 1451\n",
      "hello 1452\n",
      "hello 1453\n",
      "hello 1454\n",
      "hello 1455\n",
      "hello 1456\n",
      "hello 1457\n",
      "hello 1458\n",
      "hello 1459\n",
      "hello 1460\n",
      "hello 1461\n",
      "hello 1462\n",
      "hello 1463\n",
      "hello 1464\n",
      "hello 1465\n",
      "hello 1466\n",
      "hello 1467\n",
      "hello 1468\n",
      "hello 1469\n",
      "hello 1470\n",
      "hello 1471\n",
      "hello 1472\n",
      "hello 1473\n",
      "hello 1474\n",
      "hello 1475\n",
      "hello 1476\n",
      "hello 1477\n",
      "hello 1478\n",
      "hello 1479\n",
      "hello 1480\n",
      "hello 1481\n",
      "hello 1482\n",
      "hello 1483\n",
      "hello 1484\n",
      "hello 1485\n",
      "hello 1486\n",
      "hello 1487\n",
      "hello 1488\n",
      "hello 1489\n",
      "hello 1490\n",
      "hello 1491\n",
      "hello 1492\n",
      "hello 1493\n",
      "hello 1494\n",
      "hello 1495\n",
      "hello 1496\n",
      "hello 1497\n",
      "hello 1498\n",
      "hello 1499\n",
      "hello 1500\n",
      "hello 1501\n",
      "hello 1502\n",
      "hello 1503\n",
      "hello 1504\n",
      "hello 1505\n",
      "hello 1506\n",
      "hello 1507\n",
      "hello 1508\n",
      "hello 1509\n",
      "hello 1510\n",
      "hello 1511\n",
      "hello 1512\n",
      "hello 1513\n",
      "hello 1514\n",
      "hello 1515\n",
      "hello 1516\n",
      "hello 1517\n",
      "hello 1518\n",
      "hello 1519\n",
      "hello 1520\n",
      "hello 1521\n",
      "hello 1522\n",
      "hello 1523\n",
      "hello 1524\n",
      "hello 1525\n",
      "hello 1526\n",
      "hello 1527\n",
      "hello 1528\n",
      "hello 1529\n",
      "hello 1530\n",
      "hello 1531\n",
      "hello 1532\n",
      "hello 1533\n",
      "hello 1534\n",
      "hello 1535\n",
      "hello 1536\n",
      "hello 1537\n",
      "hello 1538\n",
      "hello 1539\n",
      "hello 1540\n",
      "hello 1541\n",
      "hello 1542\n",
      "hello 1543\n",
      "hello 1544\n",
      "hello 1545\n",
      "hello 1546\n",
      "hello 1547\n",
      "hello 1548\n",
      "hello 1549\n",
      "hello 1550\n",
      "hello 1551\n",
      "hello 1552\n",
      "hello 1553\n",
      "hello 1554\n",
      "hello 1555\n",
      "hello 1556\n",
      "hello 1557\n",
      "hello 1558\n",
      "hello 1559\n",
      "hello 1560\n",
      "hello 1561\n",
      "hello 1562\n",
      "hello 1563\n",
      "hello 1564\n",
      "hello 1565\n",
      "hello 1566\n",
      "hello 1567\n",
      "hello 1568\n",
      "hello 1569\n",
      "hello 1570\n",
      "hello 1571\n",
      "hello 1572\n",
      "hello 1573\n",
      "hello 1574\n",
      "hello 1575\n",
      "hello 1576\n",
      "hello 1577\n",
      "hello 1578\n",
      "hello 1579\n",
      "hello 1580\n",
      "hello 1581\n",
      "hello 1582\n",
      "hello 1583\n",
      "hello 1584\n",
      "hello 1585\n",
      "hello 1586\n",
      "hello 1587\n",
      "hello 1588\n",
      "hello 1589\n",
      "hello 1590\n",
      "hello 1591\n",
      "hello 1592\n",
      "hello 1593\n",
      "hello 1594\n",
      "hello 1595\n",
      "hello 1596\n",
      "hello 1597\n",
      "hello 1598\n",
      "hello 1599\n",
      "hello 1600\n",
      "hello 1601\n",
      "hello 1602\n",
      "hello 1603\n",
      "hello 1604\n",
      "hello 1605\n",
      "hello 1606\n",
      "hello 1607\n",
      "hello 1608\n",
      "hello 1609\n",
      "hello 1610\n",
      "hello 1611\n",
      "hello 1612\n",
      "hello 1613\n",
      "hello 1614\n",
      "hello 1615\n",
      "hello 1616\n",
      "hello 1617\n",
      "hello 1618\n",
      "hello 1619\n",
      "hello 1620\n",
      "hello 1621\n",
      "hello 1622\n",
      "hello 1623\n",
      "hello 1624\n",
      "hello 1625\n",
      "hello 1626\n",
      "hello 1627\n",
      "hello 1628\n",
      "hello 1629\n",
      "hello 1630\n",
      "hello 1631\n",
      "hello 1632\n",
      "hello 1633\n",
      "hello 1634\n",
      "hello 1635\n",
      "hello 1636\n",
      "hello 1637\n",
      "hello 1638\n",
      "hello 1639\n",
      "hello 1640\n",
      "hello 1641\n",
      "hello 1642\n",
      "hello 1643\n",
      "hello 1644\n",
      "hello 1645\n",
      "hello 1646\n",
      "hello 1647\n",
      "hello 1648\n",
      "hello 1649\n",
      "hello 1650\n",
      "hello 1651\n",
      "hello 1652\n",
      "hello 1653\n",
      "hello 1654\n",
      "hello 1655\n",
      "hello 1656\n",
      "hello 1657\n",
      "hello 1658\n",
      "hello 1659\n",
      "hello 1660\n",
      "hello 1661\n",
      "hello 1662\n",
      "hello 1663\n",
      "hello 1664\n",
      "hello 1665\n",
      "hello 1666\n",
      "hello 1667\n",
      "hello 1668\n",
      "hello 1669\n",
      "hello 1670\n",
      "hello 1671\n",
      "hello 1672\n",
      "hello 1673\n",
      "hello 1674\n",
      "hello 1675\n",
      "hello 1676\n",
      "hello 1677\n",
      "hello 1678\n",
      "hello 1679\n",
      "hello 1680\n",
      "hello 1681\n",
      "hello 1682\n",
      "hello 1683\n",
      "hello 1684\n",
      "hello 1685\n",
      "hello 1686\n",
      "hello 1687\n",
      "hello 1688\n",
      "hello 1689\n",
      "hello 1690\n",
      "hello 1691\n",
      "hello 1692\n",
      "hello 1693\n",
      "hello 1694\n",
      "hello 1695\n",
      "hello 1696\n",
      "hello 1697\n",
      "hello 1698\n",
      "hello 1699\n",
      "hello 1700\n",
      "hello 1701\n",
      "hello 1702\n",
      "hello 1703\n",
      "hello 1704\n",
      "hello 1705\n",
      "hello 1706\n",
      "hello 1707\n",
      "hello 1708\n",
      "hello 1709\n",
      "hello 1710\n",
      "hello 1711\n",
      "hello 1712\n",
      "hello 1713\n",
      "hello 1714\n",
      "hello 1715\n",
      "hello 1716\n",
      "hello 1717\n",
      "hello 1718\n",
      "hello 1719\n",
      "hello 1720\n",
      "hello 1721\n",
      "hello 1722\n",
      "hello 1723\n",
      "hello 1724\n",
      "hello 1725\n",
      "hello 1726\n",
      "hello 1727\n",
      "hello 1728\n",
      "hello 1729\n",
      "hello 1730\n",
      "hello 1731\n",
      "hello 1732\n",
      "hello 1733\n",
      "hello 1734\n",
      "hello 1735\n",
      "hello 1736\n",
      "hello 1737\n",
      "hello 1738\n",
      "hello 1739\n",
      "hello 1740\n",
      "hello 1741\n",
      "hello 1742\n",
      "hello 1743\n",
      "hello 1744\n",
      "hello 1745\n",
      "hello 1746\n",
      "hello 1747\n",
      "hello 1748\n",
      "hello 1749\n",
      "hello 1750\n",
      "hello 1751\n",
      "hello 1752\n",
      "hello 1753\n",
      "hello 1754\n",
      "hello 1755\n",
      "hello 1756\n",
      "hello 1757\n",
      "hello 1758\n",
      "hello 1759\n",
      "hello 1760\n",
      "hello 1761\n",
      "hello 1762\n",
      "hello 1763\n",
      "hello 1764\n",
      "hello 1765\n",
      "hello 1766\n",
      "hello 1767\n",
      "hello 1768\n",
      "hello 1769\n",
      "hello 1770\n",
      "hello 1771\n",
      "hello 1772\n",
      "hello 1773\n",
      "hello 1774\n",
      "hello 1775\n",
      "hello 1776\n",
      "hello 1777\n",
      "hello 1778\n",
      "hello 1779\n",
      "hello 1780\n",
      "hello 1781\n",
      "hello 1782\n",
      "hello 1783\n",
      "hello 1784\n",
      "hello 1785\n",
      "hello 1786\n",
      "hello 1787\n",
      "hello 1788\n",
      "hello 1789\n",
      "hello 1790\n",
      "hello 1791\n",
      "hello 1792\n",
      "hello 1793\n",
      "hello 1794\n",
      "hello 1795\n",
      "hello 1796\n",
      "hello 1797\n",
      "hello 1798\n",
      "hello 1799\n",
      "hello 1800\n",
      "hello 1801\n",
      "hello 1802\n",
      "hello 1803\n",
      "hello 1804\n",
      "hello 1805\n",
      "hello 1806\n",
      "hello 1807\n",
      "hello 1808\n",
      "hello 1809\n",
      "hello 1810\n",
      "hello 1811\n",
      "hello 1812\n",
      "hello 1813\n",
      "hello 1814\n",
      "hello 1815\n",
      "hello 1816\n",
      "hello 1817\n",
      "hello 1818\n",
      "hello 1819\n",
      "hello 1820\n",
      "hello 1821\n",
      "hello 1822\n",
      "hello 1823\n",
      "hello 1824\n",
      "hello 1825\n",
      "hello 1826\n",
      "hello 1827\n",
      "hello 1828\n",
      "hello 1829\n",
      "hello 1830\n",
      "hello 1831\n",
      "hello 1832\n",
      "hello 1833\n",
      "hello 1834\n",
      "hello 1835\n",
      "hello 1836\n",
      "hello 1837\n",
      "hello 1838\n",
      "hello 1839\n",
      "hello 1840\n",
      "hello 1841\n",
      "hello 1842\n",
      "hello 1843\n",
      "hello 1844\n",
      "hello 1845\n",
      "hello 1846\n",
      "hello 1847\n",
      "hello 1848\n",
      "hello 1849\n",
      "hello 1850\n",
      "hello 1851\n",
      "hello 1852\n",
      "hello 1853\n",
      "hello 1854\n",
      "hello 1855\n",
      "hello 1856\n",
      "hello 1857\n",
      "hello 1858\n",
      "hello 1859\n",
      "hello 1860\n",
      "hello 1861\n",
      "hello 1862\n",
      "hello 1863\n",
      "hello 1864\n",
      "hello 1865\n",
      "hello 1866\n",
      "hello 1867\n",
      "hello 1868\n",
      "hello 1869\n",
      "hello 1870\n",
      "hello 1871\n",
      "hello 1872\n",
      "hello 1873\n",
      "hello 1874\n",
      "hello 1875\n",
      "hello 1876\n",
      "hello 1877\n",
      "hello 1878\n",
      "hello 1879\n",
      "hello 1880\n",
      "hello 1881\n",
      "hello 1882\n",
      "hello 1883\n",
      "hello 1884\n",
      "hello 1885\n",
      "hello 1886\n",
      "hello 1887\n",
      "hello 1888\n",
      "hello 1889\n",
      "hello 1890\n",
      "hello 1891\n",
      "hello 1892\n",
      "hello 1893\n",
      "hello 1894\n",
      "hello 1895\n",
      "hello 1896\n",
      "hello 1897\n",
      "hello 1898\n",
      "hello 1899\n",
      "hello 1900\n",
      "hello 1901\n",
      "hello 1902\n",
      "hello 1903\n",
      "hello 1904\n",
      "hello 1905\n",
      "hello 1906\n",
      "hello 1907\n",
      "hello 1908\n",
      "hello 1909\n",
      "hello 1910\n",
      "hello 1911\n",
      "hello 1912\n",
      "hello 1913\n",
      "hello 1914\n",
      "hello 1915\n",
      "hello 1916\n",
      "hello 1917\n",
      "hello 1918\n",
      "hello 1919\n",
      "hello 1920\n",
      "hello 1921\n",
      "hello 1922\n",
      "hello 1923\n",
      "hello 1924\n",
      "hello 1925\n",
      "hello 1926\n",
      "hello 1927\n",
      "hello 1928\n",
      "hello 1929\n",
      "hello 1930\n",
      "hello 1931\n",
      "hello 1932\n",
      "hello 1933\n",
      "hello 1934\n",
      "hello 1935\n",
      "hello 1936\n",
      "hello 1937\n",
      "hello 1938\n",
      "hello 1939\n",
      "hello 1940\n",
      "hello 1941\n",
      "hello 1942\n",
      "hello 1943\n",
      "hello 1944\n",
      "hello 1945\n",
      "hello 1946\n",
      "hello 1947\n",
      "hello 1948\n",
      "hello 1949\n",
      "hello 1950\n",
      "hello 1951\n",
      "hello 1952\n",
      "hello 1953\n",
      "hello 1954\n",
      "hello 1955\n",
      "hello 1956\n",
      "hello 1957\n",
      "hello 1958\n",
      "hello 1959\n",
      "hello 1960\n",
      "hello 1961\n",
      "hello 1962\n",
      "hello 1963\n",
      "hello 1964\n",
      "hello 1965\n",
      "hello 1966\n",
      "hello 1967\n",
      "hello 1968\n",
      "hello 1969\n",
      "hello 1970\n",
      "hello 1971\n",
      "hello 1972\n",
      "hello 1973\n",
      "hello 1974\n",
      "hello 1975\n",
      "hello 1976\n",
      "hello 1977\n",
      "hello 1978\n",
      "hello 1979\n",
      "hello 1980\n",
      "hello 1981\n",
      "hello 1982\n",
      "hello 1983\n",
      "hello 1984\n",
      "hello 1985\n",
      "hello 1986\n",
      "hello 1987\n",
      "hello 1988\n",
      "hello 1989\n",
      "hello 1990\n",
      "hello 1991\n",
      "hello 1992\n",
      "hello 1993\n",
      "hello 1994\n",
      "hello 1995\n",
      "hello 1996\n",
      "hello 1997\n",
      "hello 1998\n",
      "hello 1999\n",
      "hello 2000\n",
      "hello 2001\n",
      "hello 2002\n",
      "hello 2003\n",
      "hello 2004\n",
      "hello 2005\n",
      "hello 2006\n",
      "hello 2007\n",
      "hello 2008\n",
      "hello 2009\n",
      "hello 2010\n",
      "hello 2011\n",
      "hello 2012\n",
      "hello 2013\n",
      "hello 2014\n",
      "hello 2015\n",
      "hello 2016\n",
      "hello 2017\n",
      "hello 2018\n",
      "hello 2019\n",
      "hello 2020\n",
      "hello 2021\n",
      "hello 2022\n",
      "hello 2023\n",
      "hello 2024\n",
      "hello 2025\n",
      "hello 2026\n",
      "hello 2027\n",
      "hello 2028\n",
      "hello 2029\n",
      "hello 2030\n",
      "hello 2031\n",
      "hello 2032\n",
      "hello 2033\n",
      "hello 2034\n",
      "hello 2035\n",
      "hello 2036\n",
      "hello 2037\n",
      "hello 2038\n",
      "hello 2039\n",
      "hello 2040\n",
      "hello 2041\n",
      "hello 2042\n",
      "hello 2043\n",
      "hello 2044\n",
      "hello 2045\n",
      "hello 2046\n",
      "hello 2047\n",
      "hello 2048\n",
      "hello 2049\n",
      "hello 2050\n",
      "hello 2051\n",
      "hello 2052\n",
      "hello 2053\n",
      "hello 2054\n",
      "hello 2055\n",
      "hello 2056\n",
      "hello 2057\n",
      "hello 2058\n",
      "hello 2059\n",
      "hello 2060\n",
      "hello 2061\n",
      "hello 2062\n",
      "hello 2063\n",
      "hello 2064\n",
      "hello 2065\n",
      "hello 2066\n",
      "hello 2067\n",
      "hello 2068\n",
      "hello 2069\n",
      "hello 2070\n",
      "hello 2071\n",
      "hello 2072\n",
      "hello 2073\n",
      "hello 2074\n",
      "hello 2075\n",
      "hello 2076\n",
      "hello 2077\n",
      "hello 2078\n",
      "hello 2079\n",
      "hello 2080\n",
      "hello 2081\n",
      "hello 2082\n",
      "hello 2083\n",
      "hello 2084\n",
      "hello 2085\n",
      "hello 2086\n",
      "hello 2087\n",
      "hello 2088\n",
      "hello 2089\n",
      "hello 2090\n",
      "hello 2091\n",
      "hello 2092\n",
      "hello 2093\n",
      "hello 2094\n",
      "hello 2095\n",
      "hello 2096\n",
      "hello 2097\n",
      "hello 2098\n",
      "hello 2099\n",
      "hello 2100\n",
      "hello 2101\n",
      "hello 2102\n",
      "hello 2103\n",
      "hello 2104\n",
      "hello 2105\n",
      "hello 2106\n",
      "hello 2107\n",
      "hello 2108\n",
      "hello 2109\n",
      "hello 2110\n",
      "hello 2111\n",
      "hello 2112\n",
      "hello 2113\n",
      "hello 2114\n",
      "hello 2115\n",
      "hello 2116\n",
      "hello 2117\n",
      "hello 2118\n",
      "hello 2119\n",
      "hello 2120\n",
      "hello 2121\n",
      "hello 2122\n",
      "hello 2123\n",
      "hello 2124\n",
      "hello 2125\n",
      "hello 2126\n",
      "hello 2127\n",
      "hello 2128\n",
      "hello 2129\n",
      "hello 2130\n",
      "hello 2131\n",
      "hello 2132\n",
      "hello 2133\n",
      "hello 2134\n",
      "hello 2135\n",
      "hello 2136\n",
      "hello 2137\n",
      "hello 2138\n",
      "hello 2139\n",
      "hello 2140\n",
      "hello 2141\n",
      "hello 2142\n",
      "hello 2143\n",
      "hello 2144\n",
      "hello 2145\n",
      "hello 2146\n",
      "hello 2147\n",
      "hello 2148\n",
      "hello 2149\n",
      "hello 2150\n",
      "hello 2151\n",
      "hello 2152\n",
      "hello 2153\n",
      "hello 2154\n",
      "hello 2155\n",
      "hello 2156\n",
      "hello 2157\n",
      "hello 2158\n",
      "hello 2159\n",
      "hello 2160\n",
      "hello 2161\n",
      "hello 2162\n",
      "hello 2163\n",
      "hello 2164\n",
      "hello 2165\n",
      "hello 2166\n",
      "hello 2167\n",
      "hello 2168\n",
      "hello 2169\n",
      "hello 2170\n",
      "hello 2171\n",
      "hello 2172\n",
      "hello 2173\n",
      "hello 2174\n",
      "hello 2175\n",
      "hello 2176\n",
      "hello 2177\n",
      "hello 2178\n",
      "hello 2179\n",
      "hello 2180\n",
      "hello 2181\n",
      "hello 2182\n",
      "hello 2183\n",
      "hello 2184\n",
      "hello 2185\n",
      "hello 2186\n",
      "hello 2187\n",
      "hello 2188\n",
      "hello 2189\n",
      "hello 2190\n",
      "hello 2191\n",
      "hello 2192\n",
      "hello 2193\n",
      "hello 2194\n",
      "hello 2195\n",
      "hello 2196\n",
      "hello 2197\n",
      "hello 2198\n",
      "hello 2199\n",
      "hello 2200\n",
      "hello 2201\n",
      "hello 2202\n",
      "hello 2203\n",
      "hello 2204\n",
      "hello 2205\n"
     ]
    },
    {
     "name": "stdout",
     "output_type": "stream",
     "text": [
      "hello 2206\n",
      "hello 2207\n",
      "hello 2208\n",
      "hello 2209\n",
      "hello 2210\n",
      "hello 2211\n",
      "hello 2212\n",
      "hello 2213\n",
      "hello 2214\n",
      "hello 2215\n",
      "hello 2216\n",
      "hello 2217\n",
      "hello 2218\n",
      "hello 2219\n",
      "hello 2220\n",
      "hello 2221\n",
      "hello 2222\n",
      "hello 2223\n",
      "hello 2224\n",
      "hello 2225\n",
      "hello 2226\n",
      "hello 2227\n",
      "hello 2228\n",
      "hello 2229\n",
      "hello 2230\n",
      "hello 2231\n",
      "hello 2232\n",
      "hello 2233\n",
      "hello 2234\n",
      "hello 2235\n",
      "hello 2236\n",
      "hello 2237\n",
      "hello 2238\n",
      "hello 2239\n",
      "hello 2240\n",
      "hello 2241\n",
      "hello 2242\n",
      "hello 2243\n",
      "hello 2244\n",
      "hello 2245\n",
      "hello 2246\n",
      "hello 2247\n",
      "hello 2248\n",
      "hello 2249\n",
      "hello 2250\n",
      "hello 2251\n",
      "hello 2252\n",
      "hello 2253\n",
      "hello 2254\n",
      "hello 2255\n",
      "hello 2256\n",
      "hello 2257\n",
      "hello 2258\n",
      "hello 2259\n",
      "hello 2260\n",
      "hello 2261\n",
      "hello 2262\n",
      "hello 2263\n",
      "hello 2264\n",
      "hello 2265\n",
      "hello 2266\n",
      "hello 2267\n",
      "hello 2268\n",
      "hello 2269\n",
      "hello 2270\n",
      "hello 2271\n",
      "hello 2272\n",
      "hello 2273\n",
      "hello 2274\n",
      "hello 2275\n",
      "hello 2276\n",
      "hello 2277\n",
      "hello 2278\n",
      "hello 2279\n",
      "hello 2280\n",
      "hello 2281\n",
      "hello 2282\n",
      "hello 2283\n",
      "hello 2284\n",
      "hello 2285\n",
      "hello 2286\n",
      "hello 2287\n",
      "hello 2288\n",
      "hello 2289\n",
      "hello 2290\n",
      "hello 2291\n",
      "hello 2292\n",
      "hello 2293\n",
      "hello 2294\n",
      "hello 2295\n",
      "hello 2296\n",
      "hello 2297\n",
      "hello 2298\n",
      "hello 2299\n",
      "hello 2300\n",
      "hello 2301\n",
      "hello 2302\n",
      "hello 2303\n",
      "hello 2304\n",
      "hello 2305\n",
      "hello 2306\n",
      "hello 2307\n",
      "hello 2308\n",
      "hello 2309\n",
      "hello 2310\n",
      "hello 2311\n",
      "hello 2312\n",
      "hello 2313\n",
      "hello 2314\n",
      "hello 2315\n",
      "hello 2316\n",
      "hello 2317\n",
      "hello 2318\n",
      "hello 2319\n",
      "hello 2320\n",
      "hello 2321\n",
      "hello 2322\n",
      "hello 2323\n",
      "hello 2324\n",
      "hello 2325\n",
      "hello 2326\n",
      "hello 2327\n",
      "hello 2328\n",
      "hello 2329\n",
      "hello 2330\n",
      "hello 2331\n",
      "hello 2332\n",
      "hello 2333\n",
      "hello 2334\n",
      "hello 2335\n",
      "hello 2336\n",
      "hello 2337\n",
      "hello 2338\n",
      "hello 2339\n",
      "hello 2340\n",
      "hello 2341\n",
      "hello 2342\n",
      "hello 2343\n",
      "hello 2344\n",
      "hello 2345\n",
      "hello 2346\n",
      "hello 2347\n",
      "hello 2348\n",
      "hello 2349\n",
      "hello 2350\n",
      "hello 2351\n",
      "hello 2352\n",
      "hello 2353\n",
      "hello 2354\n",
      "hello 2355\n",
      "hello 2356\n",
      "hello 2357\n",
      "hello 2358\n",
      "hello 2359\n",
      "hello 2360\n",
      "hello 2361\n",
      "hello 2362\n",
      "hello 2363\n",
      "hello 2364\n",
      "hello 2365\n",
      "hello 2366\n",
      "hello 2367\n",
      "hello 2368\n",
      "hello 2369\n",
      "hello 2370\n",
      "hello 2371\n",
      "hello 2372\n",
      "hello 2373\n",
      "hello 2374\n",
      "hello 2375\n",
      "hello 2376\n",
      "hello 2377\n",
      "hello 2378\n",
      "hello 2379\n",
      "hello 2380\n",
      "hello 2381\n",
      "hello 2382\n",
      "hello 2383\n",
      "hello 2384\n",
      "hello 2385\n",
      "hello 2386\n",
      "hello 2387\n",
      "hello 2388\n",
      "hello 2389\n",
      "hello 2390\n",
      "hello 2391\n",
      "hello 2392\n",
      "hello 2393\n",
      "hello 2394\n",
      "hello 2395\n",
      "hello 2396\n",
      "hello 2397\n",
      "hello 2398\n",
      "hello 2399\n",
      "hello 2400\n",
      "hello 2401\n",
      "hello 2402\n",
      "hello 2403\n",
      "hello 2404\n",
      "hello 2405\n",
      "hello 2406\n",
      "hello 2407\n",
      "hello 2408\n",
      "hello 2409\n",
      "hello 2410\n",
      "hello 2411\n",
      "hello 2412\n",
      "hello 2413\n",
      "hello 2414\n",
      "hello 2415\n",
      "hello 2416\n",
      "hello 2417\n",
      "hello 2418\n",
      "hello 2419\n",
      "hello 2420\n",
      "hello 2421\n",
      "hello 2422\n",
      "hello 2423\n",
      "hello 2424\n",
      "hello 2425\n",
      "hello 2426\n",
      "hello 2427\n",
      "hello 2428\n",
      "hello 2429\n",
      "hello 2430\n",
      "hello 2431\n",
      "hello 2432\n",
      "hello 2433\n",
      "hello 2434\n",
      "hello 2435\n",
      "hello 2436\n",
      "hello 2437\n",
      "hello 2438\n",
      "hello 2439\n",
      "hello 2440\n",
      "hello 2441\n",
      "hello 2442\n",
      "hello 2443\n",
      "hello 2444\n",
      "hello 2445\n",
      "hello 2446\n",
      "hello 2447\n",
      "hello 2448\n",
      "hello 2449\n",
      "hello 2450\n",
      "hello 2451\n",
      "hello 2452\n",
      "hello 2453\n",
      "hello 2454\n",
      "hello 2455\n",
      "hello 2456\n",
      "hello 2457\n",
      "hello 2458\n",
      "hello 2459\n",
      "hello 2460\n",
      "hello 2461\n",
      "hello 2462\n",
      "hello 2463\n",
      "hello 2464\n",
      "hello 2465\n",
      "hello 2466\n",
      "hello 2467\n",
      "hello 2468\n",
      "hello 2469\n",
      "hello 2470\n",
      "hello 2471\n",
      "hello 2472\n",
      "hello 2473\n",
      "hello 2474\n",
      "hello 2475\n",
      "hello 2476\n",
      "hello 2477\n",
      "hello 2478\n",
      "hello 2479\n",
      "hello 2480\n",
      "hello 2481\n",
      "hello 2482\n",
      "hello 2483\n",
      "hello 2484\n",
      "hello 2485\n",
      "hello 2486\n",
      "hello 2487\n",
      "hello 2488\n",
      "hello 2489\n",
      "hello 2490\n",
      "hello 2491\n",
      "hello 2492\n",
      "hello 2493\n",
      "hello 2494\n",
      "hello 2495\n",
      "hello 2496\n",
      "hello 2497\n",
      "hello 2498\n",
      "hello 2499\n",
      "hello 2500\n",
      "hello 2501\n",
      "hello 2502\n",
      "hello 2503\n",
      "hello 2504\n",
      "hello 2505\n",
      "hello 2506\n",
      "hello 2507\n",
      "hello 2508\n",
      "hello 2509\n",
      "hello 2510\n",
      "hello 2511\n",
      "hello 2512\n",
      "hello 2513\n",
      "hello 2514\n",
      "hello 2515\n",
      "hello 2516\n",
      "hello 2517\n",
      "hello 2518\n",
      "hello 2519\n",
      "hello 2520\n",
      "hello 2521\n",
      "hello 2522\n",
      "hello 2523\n",
      "hello 2524\n",
      "hello 2525\n",
      "hello 2526\n",
      "hello 2527\n",
      "hello 2528\n",
      "hello 2529\n",
      "hello 2530\n",
      "hello 2531\n",
      "hello 2532\n",
      "hello 2533\n",
      "hello 2534\n",
      "hello 2535\n",
      "hello 2536\n",
      "hello 2537\n",
      "hello 2538\n",
      "hello 2539\n",
      "hello 2540\n",
      "hello 2541\n",
      "hello 2542\n",
      "hello 2543\n",
      "hello 2544\n",
      "hello 2545\n",
      "hello 2546\n",
      "hello 2547\n",
      "hello 2548\n",
      "hello 2549\n",
      "hello 2550\n",
      "hello 2551\n",
      "hello 2552\n",
      "hello 2553\n",
      "hello 2554\n",
      "hello 2555\n",
      "hello 2556\n",
      "hello 2557\n",
      "hello 2558\n",
      "hello 2559\n",
      "hello 2560\n",
      "hello 2561\n",
      "hello 2562\n",
      "hello 2563\n",
      "hello 2564\n",
      "hello 2565\n",
      "hello 2566\n",
      "hello 2567\n",
      "hello 2568\n",
      "hello 2569\n",
      "hello 2570\n",
      "hello 2571\n",
      "hello 2572\n",
      "hello 2573\n",
      "hello 2574\n",
      "hello 2575\n",
      "hello 2576\n",
      "hello 2577\n",
      "hello 2578\n",
      "hello 2579\n",
      "hello 2580\n",
      "hello 2581\n",
      "hello 2582\n",
      "hello 2583\n",
      "hello 2584\n",
      "hello 2585\n",
      "hello 2586\n",
      "hello 2587\n",
      "hello 2588\n",
      "hello 2589\n",
      "hello 2590\n",
      "hello 2591\n",
      "hello 2592\n",
      "hello 2593\n",
      "hello 2594\n",
      "hello 2595\n",
      "hello 2596\n",
      "hello 2597\n",
      "hello 2598\n",
      "hello 2599\n",
      "hello 2600\n",
      "hello 2601\n",
      "hello 2602\n",
      "hello 2603\n",
      "hello 2604\n",
      "hello 2605\n",
      "hello 2606\n",
      "hello 2607\n",
      "hello 2608\n",
      "hello 2609\n",
      "hello 2610\n",
      "hello 2611\n",
      "hello 2612\n",
      "hello 2613\n",
      "hello 2614\n",
      "hello 2615\n",
      "hello 2616\n",
      "hello 2617\n",
      "hello 2618\n",
      "hello 2619\n",
      "hello 2620\n",
      "hello 2621\n",
      "hello 2622\n",
      "hello 2623\n",
      "hello 2624\n",
      "hello 2625\n",
      "hello 2626\n",
      "hello 2627\n",
      "hello 2628\n",
      "hello 2629\n",
      "hello 2630\n",
      "hello 2631\n",
      "hello 2632\n",
      "hello 2633\n",
      "hello 2634\n",
      "hello 2635\n",
      "hello 2636\n",
      "hello 2637\n",
      "hello 2638\n",
      "hello 2639\n",
      "hello 2640\n",
      "hello 2641\n",
      "hello 2642\n",
      "hello 2643\n",
      "hello 2644\n",
      "hello 2645\n",
      "hello 2646\n",
      "hello 2647\n",
      "hello 2648\n",
      "hello 2649\n",
      "hello 2650\n",
      "hello 2651\n",
      "hello 2652\n",
      "hello 2653\n",
      "hello 2654\n",
      "hello 2655\n",
      "hello 2656\n",
      "hello 2657\n",
      "hello 2658\n",
      "hello 2659\n",
      "hello 2660\n",
      "hello 2661\n",
      "hello 2662\n",
      "hello 2663\n",
      "hello 2664\n",
      "hello 2665\n",
      "hello 2666\n",
      "hello 2667\n",
      "hello 2668\n",
      "hello 2669\n",
      "hello 2670\n",
      "hello 2671\n",
      "hello 2672\n",
      "hello 2673\n",
      "hello 2674\n",
      "hello 2675\n",
      "hello 2676\n",
      "hello 2677\n",
      "hello 2678\n",
      "hello 2679\n",
      "hello 2680\n",
      "hello 2681\n",
      "hello 2682\n",
      "hello 2683\n",
      "hello 2684\n",
      "hello 2685\n",
      "hello 2686\n",
      "hello 2687\n",
      "hello 2688\n",
      "hello 2689\n",
      "hello 2690\n",
      "hello 2691\n",
      "hello 2692\n",
      "hello 2693\n",
      "hello 2694\n",
      "hello 2695\n",
      "hello 2696\n",
      "hello 2697\n",
      "hello 2698\n",
      "hello 2699\n",
      "hello 2700\n",
      "hello 2701\n",
      "hello 2702\n",
      "hello 2703\n",
      "hello 2704\n",
      "hello 2705\n",
      "hello 2706\n",
      "hello 2707\n",
      "hello 2708\n",
      "hello 2709\n",
      "hello 2710\n",
      "hello 2711\n",
      "hello 2712\n",
      "hello 2713\n",
      "hello 2714\n",
      "hello 2715\n",
      "hello 2716\n",
      "hello 2717\n",
      "hello 2718\n",
      "hello 2719\n",
      "hello 2720\n",
      "hello 2721\n",
      "hello 2722\n",
      "hello 2723\n",
      "hello 2724\n",
      "hello 2725\n",
      "hello 2726\n",
      "hello 2727\n",
      "hello 2728\n",
      "hello 2729\n",
      "hello 2730\n",
      "hello 2731\n",
      "hello 2732\n",
      "hello 2733\n",
      "hello 2734\n",
      "hello 2735\n",
      "hello 2736\n",
      "hello 2737\n",
      "hello 2738\n",
      "hello 2739\n",
      "hello 2740\n",
      "hello 2741\n",
      "hello 2742\n",
      "hello 2743\n",
      "hello 2744\n",
      "hello 2745\n",
      "hello 2746\n",
      "hello 2747\n",
      "hello 2748\n",
      "hello 2749\n",
      "hello 2750\n",
      "hello 2751\n",
      "hello 2752\n",
      "hello 2753\n",
      "hello 2754\n",
      "hello 2755\n",
      "hello 2756\n",
      "hello 2757\n",
      "hello 2758\n",
      "hello 2759\n",
      "hello 2760\n",
      "hello 2761\n",
      "hello 2762\n",
      "hello 2763\n",
      "hello 2764\n",
      "hello 2765\n",
      "hello 2766\n",
      "hello 2767\n",
      "hello 2768\n",
      "hello 2769\n",
      "hello 2770\n",
      "hello 2771\n",
      "hello 2772\n",
      "hello 2773\n",
      "hello 2774\n",
      "hello 2775\n",
      "hello 2776\n",
      "hello 2777\n",
      "hello 2778\n",
      "hello 2779\n",
      "hello 2780\n",
      "hello 2781\n",
      "hello 2782\n",
      "hello 2783\n",
      "hello 2784\n",
      "hello 2785\n",
      "hello 2786\n",
      "hello 2787\n",
      "hello 2788\n",
      "hello 2789\n",
      "hello 2790\n",
      "hello 2791\n",
      "hello 2792\n",
      "hello 2793\n",
      "hello 2794\n",
      "hello 2795\n",
      "hello 2796\n",
      "hello 2797\n",
      "hello 2798\n",
      "hello 2799\n",
      "hello 2800\n",
      "hello 2801\n",
      "hello 2802\n",
      "hello 2803\n",
      "hello 2804\n",
      "hello 2805\n",
      "hello 2806\n",
      "hello 2807\n",
      "hello 2808\n",
      "hello 2809\n",
      "hello 2810\n",
      "hello 2811\n",
      "hello 2812\n",
      "hello 2813\n",
      "hello 2814\n",
      "hello 2815\n",
      "hello 2816\n",
      "hello 2817\n",
      "hello 2818\n",
      "hello 2819\n",
      "hello 2820\n",
      "hello 2821\n",
      "hello 2822\n",
      "hello 2823\n",
      "hello 2824\n",
      "hello 2825\n",
      "hello 2826\n",
      "hello 2827\n",
      "hello 2828\n",
      "hello 2829\n",
      "hello 2830\n",
      "hello 2831\n",
      "hello 2832\n",
      "hello 2833\n",
      "hello 2834\n",
      "hello 2835\n",
      "hello 2836\n",
      "hello 2837\n",
      "hello 2838\n",
      "hello 2839\n",
      "hello 2840\n",
      "hello 2841\n",
      "hello 2842\n",
      "hello 2843\n",
      "hello 2844\n",
      "hello 2845\n",
      "hello 2846\n",
      "hello 2847\n",
      "hello 2848\n",
      "hello 2849\n",
      "hello 2850\n",
      "hello 2851\n",
      "hello 2852\n",
      "hello 2853\n",
      "hello 2854\n",
      "hello 2855\n",
      "hello 2856\n",
      "hello 2857\n",
      "hello 2858\n",
      "hello 2859\n",
      "hello 2860\n",
      "hello 2861\n",
      "hello 2862\n",
      "hello 2863\n",
      "hello 2864\n",
      "hello 2865\n",
      "hello 2866\n",
      "hello 2867\n",
      "hello 2868\n",
      "hello 2869\n",
      "hello 2870\n",
      "hello 2871\n",
      "hello 2872\n",
      "hello 2873\n",
      "hello 2874\n",
      "hello 2875\n",
      "hello 2876\n",
      "hello 2877\n",
      "hello 2878\n",
      "hello 2879\n",
      "hello 2880\n",
      "hello 2881\n",
      "hello 2882\n",
      "hello 2883\n",
      "hello 2884\n",
      "hello 2885\n",
      "hello 2886\n",
      "hello 2887\n",
      "hello 2888\n",
      "hello 2889\n",
      "hello 2890\n",
      "hello 2891\n",
      "hello 2892\n",
      "hello 2893\n",
      "hello 2894\n",
      "hello 2895\n",
      "hello 2896\n",
      "hello 2897\n",
      "hello 2898\n",
      "hello 2899\n",
      "hello 2900\n",
      "hello 2901\n",
      "hello 2902\n",
      "hello 2903\n",
      "hello 2904\n",
      "hello 2905\n",
      "hello 2906\n",
      "hello 2907\n",
      "hello 2908\n",
      "hello 2909\n",
      "hello 2910\n",
      "hello 2911\n",
      "hello 2912\n",
      "hello 2913\n",
      "hello 2914\n",
      "hello 2915\n",
      "hello 2916\n",
      "hello 2917\n",
      "hello 2918\n",
      "hello 2919\n",
      "hello 2920\n",
      "hello 2921\n",
      "hello 2922\n",
      "hello 2923\n",
      "hello 2924\n",
      "hello 2925\n",
      "hello 2926\n",
      "hello 2927\n",
      "hello 2928\n",
      "hello 2929\n",
      "hello 2930\n",
      "hello 2931\n",
      "hello 2932\n",
      "hello 2933\n",
      "hello 2934\n",
      "hello 2935\n",
      "hello 2936\n",
      "hello 2937\n",
      "hello 2938\n",
      "hello 2939\n",
      "hello 2940\n",
      "hello 2941\n",
      "hello 2942\n",
      "hello 2943\n",
      "hello 2944\n",
      "hello 2945\n",
      "hello 2946\n",
      "hello 2947\n",
      "hello 2948\n",
      "hello 2949\n",
      "hello 2950\n",
      "hello 2951\n",
      "hello 2952\n",
      "hello 2953\n",
      "hello 2954\n",
      "hello 2955\n",
      "hello 2956\n",
      "hello 2957\n"
     ]
    },
    {
     "ename": "RecursionError",
     "evalue": "maximum recursion depth exceeded while calling a Python object",
     "output_type": "error",
     "traceback": [
      "\u001b[1;31m---------------------------------------------------------------------------\u001b[0m",
      "\u001b[1;31mRecursionError\u001b[0m                            Traceback (most recent call last)",
      "\u001b[1;32m<ipython-input-104-406da64bd3b9>\u001b[0m in \u001b[0;36m<module>\u001b[1;34m\u001b[0m\n\u001b[0;32m     10\u001b[0m \u001b[1;33m\u001b[0m\u001b[0m\n\u001b[0;32m     11\u001b[0m \u001b[1;33m\u001b[0m\u001b[0m\n\u001b[1;32m---> 12\u001b[1;33m \u001b[0mgreet\u001b[0m\u001b[1;33m(\u001b[0m\u001b[1;33m)\u001b[0m\u001b[1;33m\u001b[0m\u001b[1;33m\u001b[0m\u001b[0m\n\u001b[0m\u001b[0;32m     13\u001b[0m \u001b[1;33m\u001b[0m\u001b[0m\n\u001b[0;32m     14\u001b[0m \u001b[1;33m\u001b[0m\u001b[0m\n",
      "\u001b[1;32m<ipython-input-104-406da64bd3b9>\u001b[0m in \u001b[0;36mgreet\u001b[1;34m()\u001b[0m\n\u001b[0;32m      7\u001b[0m     \u001b[0mprint\u001b[0m\u001b[1;33m(\u001b[0m\u001b[1;34m'hello'\u001b[0m\u001b[1;33m,\u001b[0m\u001b[0mi\u001b[0m\u001b[1;33m)\u001b[0m\u001b[1;33m\u001b[0m\u001b[1;33m\u001b[0m\u001b[0m\n\u001b[0;32m      8\u001b[0m \u001b[1;33m\u001b[0m\u001b[0m\n\u001b[1;32m----> 9\u001b[1;33m     \u001b[0mgreet\u001b[0m\u001b[1;33m(\u001b[0m\u001b[1;33m)\u001b[0m\u001b[1;33m\u001b[0m\u001b[1;33m\u001b[0m\u001b[0m\n\u001b[0m\u001b[0;32m     10\u001b[0m \u001b[1;33m\u001b[0m\u001b[0m\n\u001b[0;32m     11\u001b[0m \u001b[1;33m\u001b[0m\u001b[0m\n",
      "... last 1 frames repeated, from the frame below ...\n",
      "\u001b[1;32m<ipython-input-104-406da64bd3b9>\u001b[0m in \u001b[0;36mgreet\u001b[1;34m()\u001b[0m\n\u001b[0;32m      7\u001b[0m     \u001b[0mprint\u001b[0m\u001b[1;33m(\u001b[0m\u001b[1;34m'hello'\u001b[0m\u001b[1;33m,\u001b[0m\u001b[0mi\u001b[0m\u001b[1;33m)\u001b[0m\u001b[1;33m\u001b[0m\u001b[1;33m\u001b[0m\u001b[0m\n\u001b[0;32m      8\u001b[0m \u001b[1;33m\u001b[0m\u001b[0m\n\u001b[1;32m----> 9\u001b[1;33m     \u001b[0mgreet\u001b[0m\u001b[1;33m(\u001b[0m\u001b[1;33m)\u001b[0m\u001b[1;33m\u001b[0m\u001b[1;33m\u001b[0m\u001b[0m\n\u001b[0m\u001b[0;32m     10\u001b[0m \u001b[1;33m\u001b[0m\u001b[0m\n\u001b[0;32m     11\u001b[0m \u001b[1;33m\u001b[0m\u001b[0m\n",
      "\u001b[1;31mRecursionError\u001b[0m: maximum recursion depth exceeded while calling a Python object"
     ]
    }
   ],
   "source": [
    "# recursion funtion\n",
    "\n",
    "i = 0\n",
    "def greet():\n",
    "    global i\n",
    "    i +=1\n",
    "    print('hello',i)\n",
    "    \n",
    "    greet()\n",
    "    \n",
    "    \n",
    "greet()\n",
    "\n",
    "\n",
    "\n",
    "\n"
   ]
  },
  {
   "cell_type": "code",
   "execution_count": null,
   "metadata": {},
   "outputs": [],
   "source": [
    "\n",
    "# how to set the limit of recursion\n",
    "import sys\n",
    "print(sys.getrecursionlimit())\n",
    "sys.setrecursionlimit(2000)\n",
    "print(sys.getrecursionlimit())\n",
    "sys.setrecursionlimit(1000)\n",
    "print(sys.getrecursionlimit())"
   ]
  },
  {
   "cell_type": "code",
   "execution_count": 105,
   "metadata": {},
   "outputs": [
    {
     "name": "stdout",
     "output_type": "stream",
     "text": [
      "120\n"
     ]
    }
   ],
   "source": [
    "# factorial by recursion\n",
    "\n",
    "def fact(n):\n",
    "    if n== 0:\n",
    "        return 1\n",
    "    return n * fact(n-1)\n",
    "\n",
    "result = fact(5)\n",
    "print(result)\n",
    "\n"
   ]
  },
  {
   "cell_type": "code",
   "execution_count": 106,
   "metadata": {},
   "outputs": [
    {
     "name": "stdout",
     "output_type": "stream",
     "text": [
      "25\n"
     ]
    }
   ],
   "source": [
    "# lambda funtions anonymous funtion\n",
    "def square(n):\n",
    "    return n*n\n",
    "result = square(5)\n",
    "print(result)"
   ]
  },
  {
   "cell_type": "code",
   "execution_count": 107,
   "metadata": {},
   "outputs": [
    {
     "name": "stdout",
     "output_type": "stream",
     "text": [
      "100\n"
     ]
    }
   ],
   "source": [
    "# funtion without name called anonymous funtion\n",
    "f = lambda a:a*a\n",
    "result = f(10)\n",
    "print(result)"
   ]
  },
  {
   "cell_type": "code",
   "execution_count": 108,
   "metadata": {},
   "outputs": [
    {
     "name": "stdout",
     "output_type": "stream",
     "text": [
      "19\n"
     ]
    }
   ],
   "source": [
    "# lambda for addition\n",
    "k = lambda a,b:a+b\n",
    "result = k(9,10)\n",
    "print(result)"
   ]
  },
  {
   "cell_type": "code",
   "execution_count": 109,
   "metadata": {},
   "outputs": [
    {
     "name": "stdout",
     "output_type": "stream",
     "text": [
      "[2, 4, 6, 8]\n"
     ]
    }
   ],
   "source": [
    "# lambda filtee map and reduce\n",
    "# filter \n",
    "def is_even(n):\n",
    "    return n%2==0j\n",
    "\n",
    "\n",
    "nums = [1,2,3,4,5,6,7,8,9]\n",
    "result = list(filter(is_even,nums))\n",
    "print(result)\n",
    "\n",
    "\n"
   ]
  },
  {
   "cell_type": "code",
   "execution_count": 110,
   "metadata": {},
   "outputs": [
    {
     "name": "stdout",
     "output_type": "stream",
     "text": [
      "[2, 4, 6, 8]\n"
     ]
    }
   ],
   "source": [
    "# lambda filtee map and reduce\n",
    "# filter \n",
    "nums = [1,2,3,4,5,6,7,8,9]\n",
    "result = list(filter(lambda a:a%2==0,nums))\n",
    "print(result)"
   ]
  },
  {
   "cell_type": "code",
   "execution_count": 111,
   "metadata": {},
   "outputs": [
    {
     "name": "stdout",
     "output_type": "stream",
     "text": [
      "[3, 4, 5, 6, 7, 8, 9, 10, 11, 12]\n",
      "75\n"
     ]
    }
   ],
   "source": [
    "# mapping the funtion\n",
    "from functools import reduce\n",
    "nums = [1,2,3,4,5,6,7,8,9,10]\n",
    "double = list(map(lambda n:n+2,nums))\n",
    "\n",
    "sum = reduce(lambda a,b:a+b,double)\n",
    "print(double)\n",
    "\n",
    "print(sum)"
   ]
  },
  {
   "cell_type": "code",
   "execution_count": 112,
   "metadata": {},
   "outputs": [
    {
     "name": "stdout",
     "output_type": "stream",
     "text": [
      "0.5\n"
     ]
    }
   ],
   "source": [
    "# decorators in python help to add the features to existing funtions\n",
    "\n",
    "\n",
    "def div(a,b):\n",
    "    print(a/b)\n",
    "\n",
    "\n",
    "div(2,4)"
   ]
  },
  {
   "cell_type": "code",
   "execution_count": 113,
   "metadata": {},
   "outputs": [
    {
     "name": "stdout",
     "output_type": "stream",
     "text": [
      "2.0\n"
     ]
    }
   ],
   "source": [
    "def div(a,b):\n",
    "    print(a/b)\n",
    "    \n",
    "def smart_div(func):\n",
    "    \n",
    "    def inner(a,b):\n",
    "        if a<b:\n",
    "            a,b=b,a\n",
    "        return func(a,b)\n",
    "    return inner\n",
    "\n",
    "div1 = smart_div(div)\n",
    "div1(2,4)"
   ]
  },
  {
   "cell_type": "code",
   "execution_count": 114,
   "metadata": {},
   "outputs": [
    {
     "ename": "ModuleNotFoundError",
     "evalue": "No module named 'Navin2'",
     "output_type": "error",
     "traceback": [
      "\u001b[1;31m---------------------------------------------------------------------------\u001b[0m",
      "\u001b[1;31mModuleNotFoundError\u001b[0m                       Traceback (most recent call last)",
      "\u001b[1;32m<ipython-input-114-b4cafbf68be4>\u001b[0m in \u001b[0;36m<module>\u001b[1;34m\u001b[0m\n\u001b[0;32m      1\u001b[0m \u001b[1;31m#  importing modules from one to other\u001b[0m\u001b[1;33m\u001b[0m\u001b[1;33m\u001b[0m\u001b[1;33m\u001b[0m\u001b[0m\n\u001b[1;32m----> 2\u001b[1;33m \u001b[1;32mfrom\u001b[0m \u001b[0mNavin2\u001b[0m \u001b[1;32mimport\u001b[0m \u001b[0madd\u001b[0m\u001b[1;33m\u001b[0m\u001b[1;33m\u001b[0m\u001b[0m\n\u001b[0m\u001b[0;32m      3\u001b[0m \u001b[0ma\u001b[0m \u001b[1;33m=\u001b[0m \u001b[1;36m9\u001b[0m\u001b[1;33m\u001b[0m\u001b[1;33m\u001b[0m\u001b[0m\n\u001b[0;32m      4\u001b[0m \u001b[0mb\u001b[0m \u001b[1;33m=\u001b[0m \u001b[1;36m10\u001b[0m\u001b[1;33m\u001b[0m\u001b[1;33m\u001b[0m\u001b[0m\n\u001b[0;32m      5\u001b[0m \u001b[1;33m\u001b[0m\u001b[0m\n",
      "\u001b[1;31mModuleNotFoundError\u001b[0m: No module named 'Navin2'"
     ]
    }
   ],
   "source": [
    "#  importing modules from one to other  \n",
    "from Navin2 import add \n",
    "a = 9\n",
    "b = 10\n",
    "\n",
    "c = Navin2.add(a,b)"
   ]
  },
  {
   "cell_type": "code",
   "execution_count": 115,
   "metadata": {},
   "outputs": [
    {
     "ename": "ModuleNotFoundError",
     "evalue": "No module named 'Navin'",
     "output_type": "error",
     "traceback": [
      "\u001b[1;31m---------------------------------------------------------------------------\u001b[0m",
      "\u001b[1;31mModuleNotFoundError\u001b[0m                       Traceback (most recent call last)",
      "\u001b[1;32m<ipython-input-115-ea48304311df>\u001b[0m in \u001b[0;36m<module>\u001b[1;34m\u001b[0m\n\u001b[0;32m      1\u001b[0m \u001b[1;31m# init\u001b[0m\u001b[1;33m\u001b[0m\u001b[1;33m\u001b[0m\u001b[1;33m\u001b[0m\u001b[0m\n\u001b[1;32m----> 2\u001b[1;33m \u001b[1;32mimport\u001b[0m \u001b[0mNavin\u001b[0m\u001b[1;33m\u001b[0m\u001b[1;33m\u001b[0m\u001b[0m\n\u001b[0m\u001b[0;32m      3\u001b[0m \u001b[0mprint\u001b[0m\u001b[1;33m(\u001b[0m\u001b[1;34m\"demo says\"\u001b[0m \u001b[1;33m+\u001b[0m\u001b[0m__name__\u001b[0m\u001b[1;33m)\u001b[0m\u001b[1;33m\u001b[0m\u001b[1;33m\u001b[0m\u001b[0m\n",
      "\u001b[1;31mModuleNotFoundError\u001b[0m: No module named 'Navin'"
     ]
    }
   ],
   "source": [
    "# init\n",
    "import Navin\n",
    "print(\"demo says\" +__name__)"
   ]
  },
  {
   "cell_type": "code",
   "execution_count": 116,
   "metadata": {},
   "outputs": [],
   "source": [
    "# module 1\n",
    "def func1():\n",
    "    print(\"this is 1 function\")\n",
    "\n",
    "def func2():\n",
    "    print(\"This is 2 function\")\n",
    "\n",
    "def main():\n",
    "    func1()\n",
    "    func2()\n",
    "    \n",
    "if '__name__'==\"__main__\":\n",
    "    main()"
   ]
  },
  {
   "cell_type": "code",
   "execution_count": 117,
   "metadata": {},
   "outputs": [
    {
     "name": "stdout",
     "output_type": "stream",
     "text": [
      "this print the summ of number :\n",
      "this print the difference of numbers\n"
     ]
    }
   ],
   "source": [
    "def sum():\n",
    "    print(\"this print the summ of number :\")\n",
    "    \n",
    "def sub():\n",
    "    print(\"this print the difference of numbers\")\n",
    "    \n",
    "    \n",
    "def main():\n",
    "    sum()\n",
    "    sub()\n",
    "\n",
    "main()"
   ]
  },
  {
   "cell_type": "code",
   "execution_count": 118,
   "metadata": {},
   "outputs": [
    {
     "name": "stdout",
     "output_type": "stream",
     "text": [
      " i5, 16gb , 1tb\n",
      " i5, 16gb , 1tb\n",
      " i5, 16gb , 1tb\n"
     ]
    }
   ],
   "source": [
    "# object oriented funtions oops\n",
    "class computer:\n",
    "    def config(self):\n",
    "        print(\" i5, 16gb , 1tb\")\n",
    "        \n",
    "        \n",
    "        \n",
    "comp1 = computer()\n",
    "comp2 = computer()\n",
    "\n",
    "computer.config(comp1)\n",
    "computer.config(comp2)\n",
    "\n",
    "\n",
    "comp1.config()\n"
   ]
  },
  {
   "cell_type": "code",
   "execution_count": 119,
   "metadata": {},
   "outputs": [
    {
     "name": "stdout",
     "output_type": "stream",
     "text": [
      "the configuration is i5 16\n",
      "the configuration is Rayzer 8\n"
     ]
    }
   ],
   "source": [
    "# init method\n",
    "class computer:\n",
    "    \n",
    "    def __init__(self,cpu,ram):\n",
    "        self.cpu=cpu\n",
    "        self.ram=ram\n",
    "    \n",
    "    def config(self):\n",
    "        print(\"the configuration is\",self.cpu,self.ram)\n",
    "    \n",
    "comp1 = computer(\"i5\",16)\n",
    "comp2 = computer('Rayzer',8)\n",
    "\n",
    "comp1.config()\n",
    "comp2.config()"
   ]
  },
  {
   "cell_type": "code",
   "execution_count": 120,
   "metadata": {},
   "outputs": [
    {
     "ename": "AttributeError",
     "evalue": "'computer' object has no attribute 'other'",
     "output_type": "error",
     "traceback": [
      "\u001b[1;31m---------------------------------------------------------------------------\u001b[0m",
      "\u001b[1;31mAttributeError\u001b[0m                            Traceback (most recent call last)",
      "\u001b[1;32m<ipython-input-120-199c0928e7ce>\u001b[0m in \u001b[0;36m<module>\u001b[1;34m\u001b[0m\n\u001b[0;32m     25\u001b[0m \u001b[0mc2\u001b[0m \u001b[1;33m=\u001b[0m \u001b[0mcomputer\u001b[0m\u001b[1;33m(\u001b[0m\u001b[1;33m)\u001b[0m\u001b[1;33m\u001b[0m\u001b[1;33m\u001b[0m\u001b[0m\n\u001b[0;32m     26\u001b[0m \u001b[0mc1\u001b[0m\u001b[1;33m.\u001b[0m\u001b[0mname\u001b[0m\u001b[1;33m=\u001b[0m\u001b[1;34m'rashi'\u001b[0m\u001b[1;33m\u001b[0m\u001b[1;33m\u001b[0m\u001b[0m\n\u001b[1;32m---> 27\u001b[1;33m \u001b[1;32mif\u001b[0m \u001b[0mc1\u001b[0m\u001b[1;33m.\u001b[0m\u001b[0mcompare\u001b[0m\u001b[1;33m(\u001b[0m\u001b[0mc2\u001b[0m\u001b[1;33m)\u001b[0m\u001b[1;33m:\u001b[0m\u001b[1;33m\u001b[0m\u001b[1;33m\u001b[0m\u001b[0m\n\u001b[0m\u001b[0;32m     28\u001b[0m     \u001b[0mprint\u001b[0m\u001b[1;33m(\u001b[0m\u001b[1;34m\"they are same\"\u001b[0m\u001b[1;33m)\u001b[0m\u001b[1;33m\u001b[0m\u001b[1;33m\u001b[0m\u001b[0m\n\u001b[0;32m     29\u001b[0m \u001b[1;32melse\u001b[0m\u001b[1;33m:\u001b[0m\u001b[1;33m\u001b[0m\u001b[1;33m\u001b[0m\u001b[0m\n",
      "\u001b[1;32m<ipython-input-120-199c0928e7ce>\u001b[0m in \u001b[0;36mcompare\u001b[1;34m(self, other)\u001b[0m\n\u001b[0;32m     10\u001b[0m \u001b[1;33m\u001b[0m\u001b[0m\n\u001b[0;32m     11\u001b[0m     \u001b[1;32mdef\u001b[0m \u001b[0mcompare\u001b[0m\u001b[1;33m(\u001b[0m\u001b[0mself\u001b[0m\u001b[1;33m,\u001b[0m\u001b[0mother\u001b[0m\u001b[1;33m)\u001b[0m\u001b[1;33m:\u001b[0m\u001b[1;33m\u001b[0m\u001b[1;33m\u001b[0m\u001b[0m\n\u001b[1;32m---> 12\u001b[1;33m         \u001b[1;32mif\u001b[0m \u001b[0mself\u001b[0m\u001b[1;33m.\u001b[0m\u001b[0mage\u001b[0m \u001b[1;33m==\u001b[0m \u001b[0mself\u001b[0m\u001b[1;33m.\u001b[0m\u001b[0mother\u001b[0m\u001b[1;33m:\u001b[0m\u001b[1;33m\u001b[0m\u001b[1;33m\u001b[0m\u001b[0m\n\u001b[0m\u001b[0;32m     13\u001b[0m             \u001b[1;32mreturn\u001b[0m \u001b[1;32mTrue\u001b[0m\u001b[1;33m\u001b[0m\u001b[1;33m\u001b[0m\u001b[0m\n\u001b[0;32m     14\u001b[0m         \u001b[1;32melse\u001b[0m\u001b[1;33m:\u001b[0m\u001b[1;33m\u001b[0m\u001b[1;33m\u001b[0m\u001b[0m\n",
      "\u001b[1;31mAttributeError\u001b[0m: 'computer' object has no attribute 'other'"
     ]
    }
   ],
   "source": [
    "# 51\n",
    "# constructor\n",
    "class computer:\n",
    "    def __init__(self):\n",
    "        self.name = \"navin\"\n",
    "        self.age = 45\n",
    "    \n",
    "    def update(self):\n",
    "        self.age - 36\n",
    "        \n",
    "    def compare(self,other):\n",
    "        if self.age == self.other:\n",
    "            return True\n",
    "        else:\n",
    "            return False\n",
    "        \n",
    "        \n",
    "        \n",
    "    \n",
    "    \n",
    "   \n",
    "\n",
    "c1 = computer()\n",
    "c1.age = 30\n",
    "c2 = computer()\n",
    "c1.name='rashi'\n",
    "if c1.compare(c2):\n",
    "    print(\"they are same\")\n",
    "else:\n",
    "    print(\"they are diffrent\")\n",
    "    \n",
    "    \n",
    "print(c1.name)\n",
    "\n",
    "print(c2.name)\n",
    "\n",
    "\n",
    "\n",
    "\n"
   ]
  },
  {
   "cell_type": "code",
   "execution_count": 121,
   "metadata": {},
   "outputs": [
    {
     "name": "stdout",
     "output_type": "stream",
     "text": [
      "ww 50\n",
      "ww 10\n",
      "5\n",
      "5\n"
     ]
    }
   ],
   "source": [
    "class car:\n",
    "    wheels = 4\n",
    "    \n",
    "    \n",
    "    def __init__(self):\n",
    "        self.mi = 10\n",
    "        self.com = 'ww'\n",
    "        \n",
    "c1 = car()\n",
    "c2 = car()\n",
    "\n",
    "c1.mi = 50\n",
    "\n",
    "car.wheels = 5\n",
    "\n",
    "\n",
    "print(c1.com,c1.mi)\n",
    "print(c2.com,c2.mi)\n",
    "print(c1.wheels)\n",
    "print(c2.wheels)"
   ]
  },
  {
   "cell_type": "code",
   "execution_count": 122,
   "metadata": {},
   "outputs": [
    {
     "name": "stdout",
     "output_type": "stream",
     "text": [
      "4.666666666666667\n"
     ]
    }
   ],
   "source": [
    "# 5\n",
    "class student:\n",
    "    school = \"telusko\"\n",
    "    \n",
    "    def __init__(self,m1,m2,m3):\n",
    "        self.m1=m1\n",
    "        self.m2=m2\n",
    "        self.m3=m3\n",
    "    \n",
    "    def avg(self):\n",
    "        return (self.m1+self.m2+self.m3)/3\n",
    "    \n",
    "s1 = student(1,2,3)\n",
    "s2 = student(4,5,5)\n",
    "\n",
    "print(s2.avg())"
   ]
  },
  {
   "cell_type": "code",
   "execution_count": 123,
   "metadata": {},
   "outputs": [
    {
     "name": "stdout",
     "output_type": "stream",
     "text": [
      "4.666666666666667\n",
      "telusko\n",
      "This is student class in abc module\n"
     ]
    }
   ],
   "source": [
    "# 5\n",
    "class student:\n",
    "    school = \"telusko\"\n",
    "    \n",
    "    def __init__(self,m1,m2,m3):\n",
    "        self.m1=m1\n",
    "        self.m2=m2\n",
    "        self.m3=m3\n",
    "    \n",
    "    def avg(self):\n",
    "        return (self.m1+self.m2+self.m3)/3\n",
    "    \n",
    "    @classmethod\n",
    "    def getschool(cls):\n",
    "        return cls.school\n",
    "    @staticmethod\n",
    "    def info():\n",
    "        print(\"This is student class in abc module\")\n",
    "        \n",
    "    \n",
    "    \n",
    "s1 = student(1,2,3)\n",
    "s2 = student(4,5,5)\n",
    "\n",
    "print(s2.avg())\n",
    "print(student.getschool())\n",
    "student.info()"
   ]
  },
  {
   "cell_type": "code",
   "execution_count": 124,
   "metadata": {},
   "outputs": [
    {
     "name": "stdout",
     "output_type": "stream",
     "text": [
      "navin 5\n",
      "hp i5 8\n"
     ]
    }
   ],
   "source": [
    "# class within class\n",
    "class student:\n",
    "    \n",
    "    def __init__(self,name,rollno):\n",
    "        self.name= name\n",
    "        self.rollno = rollno\n",
    "        self.lap = self.laptop()\n",
    "        \n",
    "    def show(self):\n",
    "        print(self.name,self.rollno)\n",
    "        self.lap.show()\n",
    "        \n",
    "    class laptop:\n",
    "        def __init__(self):\n",
    "            self.brand = 'hp'\n",
    "            self.cpu = 'i5'\n",
    "            self.ram = 8\n",
    "            \n",
    "        def show(self):\n",
    "            print(self.brand,self.cpu,self.ram)\n",
    "            \n",
    "            \n",
    "s1=student('navin',5)\n",
    "s2 = student('krishna',9)\n",
    "s1.show()\n",
    "\n",
    "\n",
    "lap1 = s1.lap\n",
    "lap2 = s2.lap"
   ]
  },
  {
   "cell_type": "code",
   "execution_count": 125,
   "metadata": {},
   "outputs": [
    {
     "ename": "TypeError",
     "evalue": "Cannot create a consistent method resolution\norder (MRO) for bases a, b",
     "output_type": "error",
     "traceback": [
      "\u001b[1;31m---------------------------------------------------------------------------\u001b[0m",
      "\u001b[1;31mTypeError\u001b[0m                                 Traceback (most recent call last)",
      "\u001b[1;32m<ipython-input-125-072fe136a882>\u001b[0m in \u001b[0;36m<module>\u001b[1;34m\u001b[0m\n\u001b[0;32m     23\u001b[0m         \u001b[0mprint\u001b[0m\u001b[1;33m(\u001b[0m\u001b[1;34m\"feature6\"\u001b[0m\u001b[1;33m)\u001b[0m\u001b[1;33m\u001b[0m\u001b[1;33m\u001b[0m\u001b[0m\n\u001b[0;32m     24\u001b[0m \u001b[1;33m\u001b[0m\u001b[0m\n\u001b[1;32m---> 25\u001b[1;33m \u001b[1;32mclass\u001b[0m \u001b[0mc\u001b[0m\u001b[1;33m(\u001b[0m\u001b[0ma\u001b[0m\u001b[1;33m,\u001b[0m\u001b[0mb\u001b[0m\u001b[1;33m)\u001b[0m\u001b[1;33m:\u001b[0m\u001b[1;33m\u001b[0m\u001b[1;33m\u001b[0m\u001b[0m\n\u001b[0m\u001b[0;32m     26\u001b[0m \u001b[1;33m\u001b[0m\u001b[0m\n\u001b[0;32m     27\u001b[0m \u001b[1;33m\u001b[0m\u001b[0m\n",
      "\u001b[1;31mTypeError\u001b[0m: Cannot create a consistent method resolution\norder (MRO) for bases a, b"
     ]
    }
   ],
   "source": [
    "# inheritence\n",
    "class a:\n",
    "    def feature1(self):\n",
    "        print(\"feature 1\")\n",
    "         \n",
    "    def feature2(self):\n",
    "        print(\"feature 2\")  #\n",
    "        \n",
    "class b(a):\n",
    "    def feature3(self):\n",
    "        print(\"feature 3\")  # single\n",
    "        \n",
    "    def feature4(self):\n",
    "        print(\"feature 4\")\n",
    "        \n",
    "class c(b):\n",
    "            \n",
    "\n",
    "    def feature5(self):\n",
    "        print(\"feature 5\")  # multilevel\n",
    "        \n",
    "    def feature6(self):\n",
    "        print(\"feature6\")\n",
    "        \n",
    "class c(a,b):\n",
    "            \n",
    "\n",
    "    def feature5(self):    # multiple\n",
    "        print(\"feature 5\")\n",
    "        \n",
    "    def feature6(self):\n",
    "        print(\"feature6\")\n",
    "        \n",
    "        \n",
    "        \n",
    "a1 = a()\n",
    "a1.feature1()\n",
    "        \n",
    "b1 = b()\n",
    "b1.feature3()\n",
    "\n",
    "b1.feature4()\n",
    "\n",
    "c1=c()\n",
    "c1.feature6"
   ]
  },
  {
   "cell_type": "code",
   "execution_count": 126,
   "metadata": {},
   "outputs": [
    {
     "name": "stdout",
     "output_type": "stream",
     "text": [
      "in B  init\n"
     ]
    }
   ],
   "source": [
    "# constructor inheritence \n",
    "class A:\n",
    "    def __init__(self):\n",
    "        print('in A  init')\n",
    "    \n",
    "    def feature1(self):\n",
    "        print('feature 1')\n",
    "    \n",
    "    \n",
    "    def feature2(self):\n",
    "        print('feature 2')\n",
    "        \n",
    "class B(A):\n",
    "    \n",
    "    def __init__(self):\n",
    "        print('in B  init')\n",
    "    \n",
    "    def feature3(self):\n",
    "        print('feature 3')\n",
    "    \n",
    "    \n",
    "    def feature4(self):\n",
    "        print('feature 4')\n",
    "        \n",
    "a1 = B()\n",
    "\n",
    "        "
   ]
  },
  {
   "cell_type": "code",
   "execution_count": 127,
   "metadata": {},
   "outputs": [
    {
     "name": "stdout",
     "output_type": "stream",
     "text": [
      "in A  init\n",
      "in B  init\n"
     ]
    }
   ],
   "source": [
    "# constructor inheritence \n",
    "class A:\n",
    "    def __init__(self):\n",
    "        print('in A  init')\n",
    "    \n",
    "    def feature1(self):\n",
    "        print('feature 1')\n",
    "    \n",
    "    \n",
    "    def feature2(self):\n",
    "        print('feature 2')\n",
    "        \n",
    "class B(A):\n",
    "    \n",
    "    def __init__(self):\n",
    "        super().__init__()  # help to access the constructor of super class\n",
    "        print('in B  init')\n",
    "    \n",
    "    def feature3(self):\n",
    "        print('feature 3')\n",
    "    \n",
    "    \n",
    "    def feature4(self):\n",
    "        print('feature 4')\n",
    "        \n",
    "a1 = B()\n",
    "\n",
    "        "
   ]
  },
  {
   "cell_type": "code",
   "execution_count": 128,
   "metadata": {},
   "outputs": [
    {
     "name": "stdout",
     "output_type": "stream",
     "text": [
      "init in C\n"
     ]
    }
   ],
   "source": [
    "# constructor inheritence \n",
    "class A:\n",
    "    def __init__(self):\n",
    "        print('in A  init')\n",
    "    \n",
    "    def feature1(self):\n",
    "        print('feature 1')\n",
    "    \n",
    "    \n",
    "    def feature2(self):\n",
    "        print('feature 2')\n",
    "        \n",
    "class B:\n",
    "    \n",
    "    def __init__(self):\n",
    "        print('in B  init')\n",
    "    \n",
    "    def feature3(self):\n",
    "        print('feature 3')\n",
    "    \n",
    "    \n",
    "    def feature4(self):\n",
    "        print('feature 4')\n",
    "        \n",
    "        \n",
    "        \n",
    "        \n",
    "class C(A,B):\n",
    "    def __init__(self):\n",
    " #       super().__init__()\n",
    "        print(\"init in C\")\n",
    "              \n",
    "              \n",
    "              \n",
    "              \n",
    "              \n",
    "a1 = C()\n",
    "\n",
    "        "
   ]
  },
  {
   "cell_type": "code",
   "execution_count": 129,
   "metadata": {},
   "outputs": [
    {
     "name": "stdout",
     "output_type": "stream",
     "text": [
      "compiling\n",
      "running\n"
     ]
    }
   ],
   "source": [
    "# duck typing\n",
    "class pycharm:\n",
    "    def execute(self):\n",
    "        print(\"compiling\")\n",
    "        print(\"running\")\n",
    "    \n",
    "    \n",
    "class laptop:\n",
    "    def code(self,ide):\n",
    "        ide.execute()\n",
    "        \n",
    "ide = pycharm()\n",
    "lap1 = laptop()\n",
    "lap1.code(ide)"
   ]
  },
  {
   "cell_type": "code",
   "execution_count": null,
   "metadata": {},
   "outputs": [],
   "source": []
  },
  {
   "cell_type": "code",
   "execution_count": 130,
   "metadata": {},
   "outputs": [
    {
     "name": "stdout",
     "output_type": "stream",
     "text": [
      "spell check\n",
      "convention check\n",
      "compilig\n",
      "running\n"
     ]
    }
   ],
   "source": [
    "class pycharm:\n",
    "    def execute(self):\n",
    "        print(\"compiling\")\n",
    "        print(\"running\")\n",
    "\n",
    "class mycharm:\n",
    "    def execute(self):\n",
    "        print(\"spell check\")\n",
    "        print(\"convention check\")\n",
    "        print(\"compilig\")\n",
    "        print(\"running\")\n",
    "    \n",
    "class laptop:\n",
    "    def code(self,ide):\n",
    "        ide.execute()\n",
    "        \n",
    "ide = mycharm()\n",
    "lap1 = laptop()\n",
    "lap1.code(ide)"
   ]
  },
  {
   "cell_type": "code",
   "execution_count": 131,
   "metadata": {},
   "outputs": [
    {
     "name": "stdout",
     "output_type": "stream",
     "text": [
      "11\n",
      "11\n"
     ]
    }
   ],
   "source": [
    "a = 5\n",
    "b = 6\n",
    "print(a+b)\n",
    "print(int.__add__(a,b))"
   ]
  },
  {
   "cell_type": "code",
   "execution_count": 132,
   "metadata": {},
   "outputs": [
    {
     "name": "stdout",
     "output_type": "stream",
     "text": [
      "149\n",
      "s1 will win\n",
      " 59, 49\n"
     ]
    }
   ],
   "source": [
    "# operator overloading\n",
    "class student:\n",
    "    def __init__(self,m1,m2):\n",
    "        self.m1 = m1\n",
    "        self.m2 = m2\n",
    "    \n",
    "    \n",
    "    def __add__(self,other):\n",
    "        m1 = self.m1+other.m1\n",
    "        m2 = self.m2 + other.m2\n",
    "        s3 = student(m1,m2)\n",
    "        return s3\n",
    "    def __gt__(self,other):\n",
    "        r1 = self.m1 + self.m2\n",
    "        r2 = other.m1 + other.m2\n",
    "        if r1 < r2:\n",
    "            return True\n",
    "        else:\n",
    "            return False\n",
    "    \n",
    "    \n",
    "    def __str__(self):\n",
    "        return \" {}, {}\".format(self.m1,self.m2)   # help to create the objecto not address\n",
    "\n",
    "s1 = student(59,49)\n",
    "s2 = student(90,89)\n",
    "s3 = s1 + s2   # student.__add__(s1,s2)\n",
    "print(s3.m1)\n",
    "\n",
    "\n",
    "\n",
    "\n",
    "if s1>s2:\n",
    "    print(\"s1 will win\")\n",
    "else:\n",
    "    print(\"s2 will win\")\n",
    "\n",
    "print(s1)"
   ]
  },
  {
   "cell_type": "code",
   "execution_count": 133,
   "metadata": {},
   "outputs": [
    {
     "name": "stdout",
     "output_type": "stream",
     "text": [
      "20\n"
     ]
    }
   ],
   "source": [
    "# methd overloading \n",
    "class student:\n",
    "    def __init__(self, m1,m2):\n",
    "        self.m1 = m1\n",
    "        self.m2 = m2\n",
    "        \n",
    "    def sum(self,a=None ,b=None ,c=None):\n",
    "        \n",
    "        s = 0\n",
    "        if a!=None and b!=None and c!=None :\n",
    "            s = a+b+c\n",
    "        elif a!=None and b!=None :\n",
    "            s = a+b\n",
    "        elif a!=None:\n",
    "            s = a\n",
    "        return s\n",
    "        \n",
    "        \n",
    "s1 = student(1,1)\n",
    "\n",
    "\n",
    "print(s1.sum(10,10))\n"
   ]
  },
  {
   "cell_type": "code",
   "execution_count": 134,
   "metadata": {},
   "outputs": [
    {
     "name": "stdout",
     "output_type": "stream",
     "text": [
      "is show in B\n"
     ]
    }
   ],
   "source": [
    "# method over riding \n",
    "\n",
    "\n",
    "class A:\n",
    "    def show(self):\n",
    "        print(\"is A show \")\n",
    "        \n",
    "        \n",
    "class B(A):\n",
    "    def show(self):\n",
    "        print(\"is show in B\")\n",
    "        \n",
    "        \n",
    "a1 = B()\n",
    "a1.show()"
   ]
  },
  {
   "cell_type": "code",
   "execution_count": 135,
   "metadata": {},
   "outputs": [],
   "source": [
    "# Abstract class hve declaration not definition \n",
    "class computer:\n",
    "    def process(self):\n",
    "        pass\n",
    "c1 = computer()\n",
    "c1.process()\n"
   ]
  },
  {
   "cell_type": "code",
   "execution_count": 136,
   "metadata": {},
   "outputs": [
    {
     "name": "stdout",
     "output_type": "stream",
     "text": [
      "1\n",
      "23\n",
      "4\n"
     ]
    }
   ],
   "source": [
    "# iterator\n",
    "\n",
    "nums = [1,23,4,5,56]\n",
    "\n",
    "it = iter(nums)\n",
    "print(it.__next__())\n",
    "print(it.__next__())\n",
    "\n",
    "\n",
    "print(next(it))\n",
    "\n",
    "\n"
   ]
  },
  {
   "cell_type": "code",
   "execution_count": 137,
   "metadata": {},
   "outputs": [],
   "source": [
    "# won iterator\n",
    "\n",
    "class topten():\n",
    "    def __init__(self):\n",
    "        self.num = 1\n",
    "        \n",
    "    def __iter__(self):\n",
    "        return self\n",
    "\n",
    "    def __next__(self):\n",
    "        if self.num == 10:\n",
    "            val = self.num\n",
    "            self.num += 1\n",
    "            \n",
    "            return val\n",
    "        else:\n",
    "            raise StopIteration\n",
    "            \n",
    "values = topten()\n",
    "    \n",
    "for i in values:\n",
    "    print(i)\n"
   ]
  },
  {
   "cell_type": "code",
   "execution_count": 138,
   "metadata": {},
   "outputs": [
    {
     "name": "stdout",
     "output_type": "stream",
     "text": [
      "5\n"
     ]
    }
   ],
   "source": [
    "# generator\n",
    "def topten():\n",
    "    return 5\n",
    "\n",
    "values = topten()\n",
    "print(values)"
   ]
  },
  {
   "cell_type": "code",
   "execution_count": 139,
   "metadata": {},
   "outputs": [
    {
     "name": "stdout",
     "output_type": "stream",
     "text": [
      "1\n",
      "2\n",
      "3\n",
      "4\n",
      "5\n",
      "6\n"
     ]
    }
   ],
   "source": [
    "def topten():\n",
    "    \n",
    "    \n",
    "    yield 1\n",
    "    yield 2\n",
    "    yield 3\n",
    "    yield 4\n",
    "    yield 5\n",
    "    yield 6\n",
    "    \n",
    "    \n",
    "values = topten()\n",
    "print(values.__next__())\n",
    "print(values.__next__())\n",
    "print(values.__next__())\n",
    "\n",
    "\n",
    "for i in values:\n",
    "    print(i)"
   ]
  },
  {
   "cell_type": "code",
   "execution_count": 140,
   "metadata": {},
   "outputs": [],
   "source": [
    "#generator\n",
    "def topten():\n",
    "    n = 1\n",
    "    \n",
    "    while n == 10:\n",
    "        sq = n*n\n",
    "        yield sq\n",
    "        n +=1\n",
    "        \n",
    "values = topten()\n",
    "\n",
    "for i in values:\n",
    "    print(i)"
   ]
  },
  {
   "cell_type": "code",
   "execution_count": 141,
   "metadata": {},
   "outputs": [
    {
     "name": "stdout",
     "output_type": "stream",
     "text": [
      "hey you can not divide a number by 0 :  division by zero\n",
      "bye\n"
     ]
    }
   ],
   "source": [
    "# exeption handling\n",
    "\n",
    "\n",
    "a = 5\n",
    "b = 0\n",
    "try:\n",
    "    print(a/b)\n",
    "except Exception as e :\n",
    "    print(\"hey you can not divide a number by 0 : \",e)\n",
    "print(\"bye\")"
   ]
  },
  {
   "cell_type": "code",
   "execution_count": 142,
   "metadata": {},
   "outputs": [
    {
     "name": "stdout",
     "output_type": "stream",
     "text": [
      "resorce open\n",
      "hey you can not divide a number by 0 :  division by zero\n",
      "resource closed \n",
      "bye\n"
     ]
    }
   ],
   "source": [
    "# exeption handling\n",
    "\n",
    "\n",
    "a = 5\n",
    "b = 0\n",
    "try:\n",
    "    print(\"resorce open\")\n",
    "    print(a/b)\n",
    "    \n",
    "    \n",
    "except Exception as e :\n",
    "    print(\"hey you can not divide a number by 0 : \",e)\n",
    "    print(\"resource closed \")\n",
    "\n",
    "print(\"bye\")"
   ]
  },
  {
   "cell_type": "code",
   "execution_count": 143,
   "metadata": {},
   "outputs": [
    {
     "name": "stdout",
     "output_type": "stream",
     "text": [
      "resorce open\n",
      "hey you can not divide a number by 0 :  division by zero\n",
      "resource closed\n",
      "bye\n"
     ]
    }
   ],
   "source": [
    "\n",
    "# exeption handling\n",
    "\n",
    "\n",
    "a = 5\n",
    "b = 0\n",
    "try:\n",
    "    print(\"resorce open\")\n",
    "    print(a/b)\n",
    "    \n",
    "    \n",
    "except Exception as e :\n",
    "    print(\"hey you can not divide a number by 0 : \",e)\n",
    "\n",
    "    \n",
    "finally:\n",
    "    print(\"resource closed\")\n",
    "print(\"bye\")\n"
   ]
  },
  {
   "cell_type": "code",
   "execution_count": 144,
   "metadata": {},
   "outputs": [
    {
     "name": "stdout",
     "output_type": "stream",
     "text": [
      "resouce open\n",
      "2.5\n",
      "Enter the input : \n",
      "invalid input :  invalid literal for int() with base 10: ''\n",
      "resource is closed\n",
      "by\n"
     ]
    }
   ],
   "source": [
    "a = 5\n",
    "b = 2\n",
    "\n",
    "try:\n",
    "    print(\"resouce open\")\n",
    "    print(a/b)\n",
    "\n",
    "    k = int(input(\"Enter the input : \"))\n",
    "    print(k)\n",
    "    \n",
    "except ZeroDivisionError as z:\n",
    "    print(\"hey number can not be divded by zero\",z)\n",
    "    \n",
    "except ValueError as v:\n",
    "    print(\"invalid input : \", v)\n",
    "    \n",
    "except Exception as e:\n",
    "    print(\"something went wrong\",e)\n",
    "\n",
    "finally:\n",
    "    print(\"resource is closed\")\n",
    "print(\"by\")"
   ]
  },
  {
   "cell_type": "code",
   "execution_count": 145,
   "metadata": {},
   "outputs": [
    {
     "name": "stdout",
     "output_type": "stream",
     "text": [
      "hello\n",
      "hello\n",
      "hello\n",
      "hello\n",
      "hello\n",
      "hi\n",
      "hi\n",
      "hi\n",
      "hi\n",
      "hi\n"
     ]
    }
   ],
   "source": [
    "# multithreads\n",
    "class hello:\n",
    "    def run(self):\n",
    "        for i in range(5):\n",
    "            print(\"hello\")\n",
    "        \n",
    "class hi:\n",
    "    def run(self):\n",
    "        for i in range(5):\n",
    "            print(\"hi\")\n",
    "        \n",
    "        \n",
    "        \n",
    "t1 = hello()\n",
    "t2 = hi()\n",
    "\n",
    "t1.run()\n",
    "t2.run()"
   ]
  },
  {
   "cell_type": "code",
   "execution_count": 146,
   "metadata": {},
   "outputs": [
    {
     "name": "stdout",
     "output_type": "stream",
     "text": [
      "hello\n",
      "hi\n",
      "hello\n",
      "hi\n",
      "hello\n",
      "hi\n",
      "hello\n",
      "hi\n",
      "hello\n",
      "hi\n",
      "hello\n",
      "hi\n",
      "hello\n",
      "hi\n",
      "hello\n",
      "hi\n",
      "hello\n",
      "hi\n",
      "hello\n",
      "hi\n",
      "hello\n",
      "hi\n",
      "hello\n",
      "hi\n",
      "hello\n",
      "hi\n",
      "hello\n",
      "hi\n",
      "hello\n",
      "hi\n",
      "hello\n",
      "hi\n",
      "hello\n",
      "hi\n",
      "hello\n",
      "hi\n",
      "hello\n",
      "hi\n",
      "hello\n",
      "hi\n",
      "bye\n"
     ]
    }
   ],
   "source": [
    "from time import *\n",
    "from threading import *\n",
    "# multithreads\n",
    "class hello(Thread):\n",
    "    def run(self):\n",
    "        for i in range(20):\n",
    "            print(\"hello\")\n",
    "            sleep(1)\n",
    "        \n",
    "class hi(Thread):\n",
    "    def run(self):\n",
    "        for i in range(20):\n",
    "            print(\"hi\")\n",
    "            sleep(1)\n",
    "        \n",
    "        \n",
    "        \n",
    "t1 = hello()\n",
    "t2 = hi()\n",
    "\n",
    "t1.start()\n",
    "sleep(0.2)\n",
    "t2.start()\n",
    "t1.join()\n",
    "t2.join()\n",
    "print(\"bye\")"
   ]
  },
  {
   "cell_type": "code",
   "execution_count": 149,
   "metadata": {},
   "outputs": [
    {
     "data": {
      "text/plain": [
       "34"
      ]
     },
     "execution_count": 149,
     "metadata": {},
     "output_type": "execute_result"
    }
   ],
   "source": [
    "# file handling\n",
    "f = open(\"abc\",'a')\n",
    "f.write(\"something what i desire\")\n",
    "f.write(\"hi there i am jiyaulla m  chindadi\")"
   ]
  },
  {
   "cell_type": "code",
   "execution_count": 150,
   "metadata": {},
   "outputs": [],
   "source": [
    "# comments : when writing code only i and good know after only god knows\n",
    "# we have only single line comments in python that is open by #symbole\n"
   ]
  },
  {
   "cell_type": "code",
   "execution_count": 151,
   "metadata": {},
   "outputs": [],
   "source": [
    "# comple language : \n",
    "\n"
   ]
  },
  {
   "cell_type": "code",
   "execution_count": 152,
   "metadata": {},
   "outputs": [
    {
     "name": "stdout",
     "output_type": "stream",
     "text": [
      "found at  5\n"
     ]
    }
   ],
   "source": [
    "# linear search\n",
    "pos = -1\n",
    "def search(list,n):\n",
    "    i = 0\n",
    "    while i<len(list):\n",
    "        if i == n:\n",
    "            globals()['pos'] = i\n",
    "            return True\n",
    "        i = i+1\n",
    "    return False\n",
    "    \n",
    "\n",
    "\n",
    "\n",
    "\n",
    "list = [1,2,3,4,5,6,7]\n",
    "n = 5\n",
    "if search(list,n):\n",
    "    print(\"found at \", pos)\n",
    "else:\n",
    "    print(\"not found\")\n",
    "\n"
   ]
  },
  {
   "cell_type": "code",
   "execution_count": 153,
   "metadata": {},
   "outputs": [
    {
     "name": "stdout",
     "output_type": "stream",
     "text": [
      "[1, 3, 5, 6, 8, 54, 74, 768, 76567, 578969]\n",
      "the value is not found : \n"
     ]
    }
   ],
   "source": [
    "pos = -1\n",
    "def search(list1,n):\n",
    "    l = 0\n",
    "    u = len(list)-1\n",
    "    \n",
    "    while l<=u:\n",
    "        mid = (u+l)//2\n",
    "        if list[mid]==n:\n",
    "            globals()['pos'] = mid\n",
    "            return True\n",
    "        else:\n",
    "            if list[mid]<=n :\n",
    "                l = mid +1\n",
    "            else:\n",
    "                u = mid -1\n",
    "    return False\n",
    "\n",
    "\n",
    "list = [ 1,3,5,6,8,54,74,768,76567,578969]\n",
    "print(list)\n",
    "n = 5\n",
    "if n == search(list,n):\n",
    "    print(\"the value is found :\",pos)\n",
    "else:\n",
    "    print(\"the value is not found : \")\n",
    "\n",
    "\n"
   ]
  },
  {
   "cell_type": "code",
   "execution_count": 154,
   "metadata": {},
   "outputs": [
    {
     "name": "stdout",
     "output_type": "stream",
     "text": [
      "[1, 3, 5, 7, 8, 10, 20]\n"
     ]
    }
   ],
   "source": [
    "# sort by function \n",
    "nums = [ 1,20,3,7,5,8,10]\n",
    "jiya = nums.sort()\n",
    "print(nums)"
   ]
  },
  {
   "cell_type": "code",
   "execution_count": 155,
   "metadata": {},
   "outputs": [
    {
     "name": "stdout",
     "output_type": "stream",
     "text": [
      "[2, 3, 5, 7, 8]\n"
     ]
    }
   ],
   "source": [
    "# sort by buble sort\n",
    "def sort(nums):\n",
    "    for i in range(len(nums)-1,0,-1):\n",
    "        for j in range(i):\n",
    "            if nums[j]>nums[j+1]:\n",
    "                temp = nums[j]\n",
    "                nums[j] = nums[j+1]\n",
    "                nums[j+1] =temp\n",
    "                \n",
    "                \n",
    "nums = [5,3,8,7,2]\n",
    "sort(nums)\n",
    "print(nums)"
   ]
  },
  {
   "cell_type": "code",
   "execution_count": 156,
   "metadata": {},
   "outputs": [
    {
     "ename": "UnboundLocalError",
     "evalue": "local variable 'minpos' referenced before assignment",
     "output_type": "error",
     "traceback": [
      "\u001b[1;31m---------------------------------------------------------------------------\u001b[0m",
      "\u001b[1;31mUnboundLocalError\u001b[0m                         Traceback (most recent call last)",
      "\u001b[1;32m<ipython-input-156-9230b2895e20>\u001b[0m in \u001b[0;36m<module>\u001b[1;34m\u001b[0m\n\u001b[0;32m     18\u001b[0m \u001b[1;33m\u001b[0m\u001b[0m\n\u001b[0;32m     19\u001b[0m \u001b[0mnums\u001b[0m \u001b[1;33m=\u001b[0m \u001b[1;33m[\u001b[0m\u001b[1;36m5\u001b[0m\u001b[1;33m,\u001b[0m\u001b[1;36m3\u001b[0m\u001b[1;33m,\u001b[0m\u001b[1;36m8\u001b[0m\u001b[1;33m,\u001b[0m\u001b[1;36m7\u001b[0m\u001b[1;33m,\u001b[0m\u001b[1;36m2\u001b[0m\u001b[1;33m]\u001b[0m\u001b[1;33m\u001b[0m\u001b[1;33m\u001b[0m\u001b[0m\n\u001b[1;32m---> 20\u001b[1;33m \u001b[0msort\u001b[0m\u001b[1;33m(\u001b[0m\u001b[0mnums\u001b[0m\u001b[1;33m)\u001b[0m\u001b[1;33m\u001b[0m\u001b[1;33m\u001b[0m\u001b[0m\n\u001b[0m\u001b[0;32m     21\u001b[0m \u001b[0mprint\u001b[0m\u001b[1;33m(\u001b[0m\u001b[0mnums\u001b[0m\u001b[1;33m)\u001b[0m\u001b[1;33m\u001b[0m\u001b[1;33m\u001b[0m\u001b[0m\n",
      "\u001b[1;32m<ipython-input-156-9230b2895e20>\u001b[0m in \u001b[0;36msort\u001b[1;34m(nums)\u001b[0m\n\u001b[0;32m      5\u001b[0m         \u001b[0mmimpos\u001b[0m \u001b[1;33m=\u001b[0m \u001b[0mnums\u001b[0m\u001b[1;33m[\u001b[0m\u001b[0mi\u001b[0m\u001b[1;33m]\u001b[0m\u001b[1;33m\u001b[0m\u001b[1;33m\u001b[0m\u001b[0m\n\u001b[0;32m      6\u001b[0m         \u001b[1;32mfor\u001b[0m \u001b[0mj\u001b[0m \u001b[1;32min\u001b[0m \u001b[0mrange\u001b[0m\u001b[1;33m(\u001b[0m\u001b[0mi\u001b[0m\u001b[1;33m,\u001b[0m\u001b[1;36m6\u001b[0m\u001b[1;33m)\u001b[0m\u001b[1;33m:\u001b[0m\u001b[1;33m\u001b[0m\u001b[1;33m\u001b[0m\u001b[0m\n\u001b[1;32m----> 7\u001b[1;33m             \u001b[1;32mif\u001b[0m \u001b[0mnums\u001b[0m\u001b[1;33m[\u001b[0m\u001b[0mj\u001b[0m\u001b[1;33m]\u001b[0m \u001b[1;33m<\u001b[0m \u001b[0mnums\u001b[0m\u001b[1;33m[\u001b[0m\u001b[0mminpos\u001b[0m\u001b[1;33m]\u001b[0m\u001b[1;33m:\u001b[0m\u001b[1;33m\u001b[0m\u001b[1;33m\u001b[0m\u001b[0m\n\u001b[0m\u001b[0;32m      8\u001b[0m                 \u001b[0mminpos\u001b[0m \u001b[1;33m=\u001b[0m \u001b[0mj\u001b[0m\u001b[1;33m\u001b[0m\u001b[1;33m\u001b[0m\u001b[0m\n\u001b[0;32m      9\u001b[0m \u001b[1;33m\u001b[0m\u001b[0m\n",
      "\u001b[1;31mUnboundLocalError\u001b[0m: local variable 'minpos' referenced before assignment"
     ]
    }
   ],
   "source": [
    "# selection sort\n",
    "def sort(nums):\n",
    "    \n",
    "    for i in range(5):\n",
    "        mimpos = nums[i]\n",
    "        for j in range(i,6):\n",
    "            if nums[j] < nums[minpos]:\n",
    "                minpos = j\n",
    "                \n",
    "                \n",
    "        temp = nums[i]\n",
    "        nums[i]= nums[minpos]\n",
    "        nums[minpos] = temp\n",
    "    \n",
    "    \n",
    "    \n",
    "    \n",
    "    \n",
    "nums = [5,3,8,7,2]\n",
    "sort(nums)\n",
    "print(nums)"
   ]
  },
  {
   "cell_type": "code",
   "execution_count": 157,
   "metadata": {},
   "outputs": [
    {
     "ename": "ModuleNotFoundError",
     "evalue": "No module named 'mysql'",
     "output_type": "error",
     "traceback": [
      "\u001b[1;31m---------------------------------------------------------------------------\u001b[0m",
      "\u001b[1;31mModuleNotFoundError\u001b[0m                       Traceback (most recent call last)",
      "\u001b[1;32m<ipython-input-157-9cd6224ba968>\u001b[0m in \u001b[0;36m<module>\u001b[1;34m\u001b[0m\n\u001b[1;32m----> 1\u001b[1;33m \u001b[1;32mimport\u001b[0m \u001b[0mmysql\u001b[0m\u001b[1;33m.\u001b[0m\u001b[0mconnector\u001b[0m\u001b[1;33m\u001b[0m\u001b[1;33m\u001b[0m\u001b[0m\n\u001b[0m",
      "\u001b[1;31mModuleNotFoundError\u001b[0m: No module named 'mysql'"
     ]
    }
   ],
   "source": [
    "import mysql.connector"
   ]
  },
  {
   "cell_type": "code",
   "execution_count": null,
   "metadata": {},
   "outputs": [],
   "source": []
  },
  {
   "cell_type": "markdown",
   "metadata": {},
   "source": [
    "hiu"
   ]
  }
 ],
 "metadata": {
  "kernelspec": {
   "display_name": "Python 3",
   "language": "python",
   "name": "python3"
  },
  "language_info": {
   "codemirror_mode": {
    "name": "ipython",
    "version": 3
   },
   "file_extension": ".py",
   "mimetype": "text/x-python",
   "name": "python",
   "nbconvert_exporter": "python",
   "pygments_lexer": "ipython3",
   "version": "3.8.3"
  }
 },
 "nbformat": 4,
 "nbformat_minor": 4
}
