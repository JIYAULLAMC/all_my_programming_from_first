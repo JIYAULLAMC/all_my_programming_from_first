{
 "cells": [
  {
   "cell_type": "code",
   "execution_count": 1,
   "metadata": {},
   "outputs": [
    {
     "name": "stdout",
     "output_type": "stream",
     "text": [
      " data structure can be defined as : way to store and organize the data so that it can be accessed effectively\n",
      "for retriving essaly and minimum time work can done\n",
      "types of data structre one is primitive and other one non primitive : in the primitive we have the basic data types such\n",
      "as list tuple dictionary and string set. in the used defined data structure contain the stack queue linked list and tree \n",
      "graph\n"
     ]
    }
   ],
   "source": [
    "# 1 tutorial\n",
    "print(\"\"\" data structure can be defined as : way to store and organize the data so that it can be accessed effectively\n",
    "for retriving essaly and minimum time work can done\n",
    "types of data structre one is primitive and other one non primitive : in the primitive we have the basic data types such\n",
    "as list tuple dictionary and string set. in the used defined data structure contain the stack queue linked list and tree \n",
    "graph\"\"\")"
   ]
  },
  {
   "cell_type": "code",
   "execution_count": 2,
   "metadata": {},
   "outputs": [
    {
     "name": "stdout",
     "output_type": "stream",
     "text": [
      "[]\n",
      "False\n",
      "1\n",
      "[[1, 2], ['hi', 'jiya']]\n"
     ]
    }
   ],
   "source": [
    "# 2 tutorial\n",
    "list1 = list()\n",
    "print(list1)\n",
    "# list can store the  different data types such as int float and char and string\n",
    "list1 = [1,2,3,4,5]\n",
    "list2 = [5,2,1,4,3]\n",
    "print(list1 == list2)\n",
    "# indexing is defined as the accessig the elements from the list\n",
    "print(list1[0])\n",
    "# nested list that means a list contain another list\n",
    "\n",
    "list3 = [[1,2],[\"hi\",\"jiya\"]]\n",
    "print(list3)\n",
    "# list are dynamic in natre means it resize according to the elements of it, mean it will grow when we add the elements\n",
    "# it will shrink when we remove element or items from the list.\n"
   ]
  },
  {
   "cell_type": "code",
   "execution_count": 21,
   "metadata": {},
   "outputs": [
    {
     "name": "stdout",
     "output_type": "stream",
     "text": [
      "(1, 2, 3, 4, 5)\n",
      "(6, 7, 8, 9, 10)\n",
      "()\n",
      "<class 'int'>\n",
      "<class 'tuple'>\n"
     ]
    },
    {
     "ename": "NameError",
     "evalue": "name 'tup' is not defined",
     "output_type": "error",
     "traceback": [
      "\u001b[1;31m---------------------------------------------------------------------------\u001b[0m",
      "\u001b[1;31mNameError\u001b[0m                                 Traceback (most recent call last)",
      "\u001b[1;32m<ipython-input-21-2553cdbb0aa6>\u001b[0m in \u001b[0;36m<module>\u001b[1;34m\u001b[0m\n\u001b[0;32m     12\u001b[0m \u001b[0mprint\u001b[0m\u001b[1;33m(\u001b[0m\u001b[0mtype\u001b[0m\u001b[1;33m(\u001b[0m\u001b[0mtuple5\u001b[0m\u001b[1;33m)\u001b[0m\u001b[1;33m)\u001b[0m\u001b[1;33m\u001b[0m\u001b[1;33m\u001b[0m\u001b[0m\n\u001b[0;32m     13\u001b[0m \u001b[0mtuple6\u001b[0m \u001b[1;33m=\u001b[0m \u001b[1;33m(\u001b[0m\u001b[1;33m)\u001b[0m\u001b[1;33m\u001b[0m\u001b[1;33m\u001b[0m\u001b[0m\n\u001b[1;32m---> 14\u001b[1;33m \u001b[0mprint\u001b[0m\u001b[1;33m(\u001b[0m\u001b[0mtype\u001b[0m\u001b[1;33m(\u001b[0m\u001b[0mtup\u001b[0m\u001b[1;33m)\u001b[0m\u001b[1;33m)\u001b[0m\u001b[1;33m\u001b[0m\u001b[1;33m\u001b[0m\u001b[0m\n\u001b[0m",
      "\u001b[1;31mNameError\u001b[0m: name 'tup' is not defined"
     ]
    }
   ],
   "source": [
    "# tuples are data stypes which store the un changeble data here the elements are enclose within the paranthesis\n",
    "tuple1 = 1,2,3,4,5\n",
    "print(tuple1)\n",
    "tuple2 = (6,7,8,9,10)\n",
    "print(tuple2)\n",
    "# tuples are always immutable mean will not change the items of it\n",
    "tuple3 = ()\n",
    "print(tuple3)\n",
    "tuple4 = (5)\n",
    "print(type(tuple4))\n",
    "tuple5 = (4,)\n",
    "print(type(tuple5))\n",
    "tuple6 = ()\n",
    "print(type(tup))"
   ]
  },
  {
   "cell_type": "code",
   "execution_count": 4,
   "metadata": {},
   "outputs": [
    {
     "name": "stdout",
     "output_type": "stream",
     "text": [
      "[10, 20, 30]\n",
      "30\n",
      "20\n",
      "10\n",
      "True\n",
      "True\n",
      "50\n"
     ]
    }
   ],
   "source": [
    "# user defined data structure\n",
    "# stack is collection of data in where insert and delet of elements is takes at same place at top\n",
    "# different operation performed in stack are : push(inserting an element), pop(remonving an element), peek or top(know mximum no of elements),\n",
    "# isempty(to the stack is empty)\n",
    "\n",
    "# inplimentation of the stack\n",
    "# method 1 :(using built in data structue list)\n",
    "\n",
    "stack = []\n",
    "stack.append(10)\n",
    "stack.append(20)\n",
    "stack.append(30)\n",
    "print(stack)\n",
    "print(stack.pop())\n",
    "print(stack.pop())\n",
    "print(stack.pop())\n",
    "\n",
    "# know the stack is empty or not\n",
    "print(len(stack)==0)\n",
    "print(not stack)\n",
    "\n",
    "# help to know the last element of the list\n",
    "stack.append(20)\n",
    "stack.append(40)\n",
    "stack.append(50)\n",
    "\n",
    "print(stack[-1])\n",
    "\n"
   ]
  },
  {
   "cell_type": "code",
   "execution_count": 5,
   "metadata": {},
   "outputs": [
    {
     "name": "stdout",
     "output_type": "stream",
     "text": [
      "Select the operation 1.push  2.pop   3.quit\n",
      "1\n",
      "Enter the element to insert : 2\n",
      "['2']\n",
      "Select the operation 1.push  2.pop   3.quit\n",
      "3\n"
     ]
    }
   ],
   "source": [
    "# overall explanation with the help of program\n",
    "\n",
    "stack= []\n",
    "def push():\n",
    "    element1 = input(\"Enter the element to insert : \")\n",
    "    stack.append(element1)\n",
    "    print(stack)\n",
    "\n",
    "\n",
    "def pop():\n",
    "    if not stack:\n",
    "        print(\"stack is empty\")\n",
    "    else :\n",
    "        element2 = input(\"Enter the element to remove : \")\n",
    "        stack.pop(element2)\n",
    "        print(stack)\n",
    "        \n",
    "        \n",
    "while True:\n",
    "    print(\"Select the operation 1.push  2.pop   3.quit\")\n",
    "    choice = int(input())\n",
    "    if choice==1:\n",
    "        push()\n",
    "    elif choice==2:\n",
    "        pop()\n",
    "    elif choice==3:\n",
    "        break\n",
    "    else:\n",
    "        print(\"Enter the correct operation!\")\n",
    "        "
   ]
  },
  {
   "cell_type": "code",
   "execution_count": 7,
   "metadata": {},
   "outputs": [
    {
     "name": "stdout",
     "output_type": "stream",
     "text": [
      "Ener the limit : 5\n",
      "Select the operation 1.push  2.pop   3.quit\n",
      "2\n",
      "stack is empty\n",
      "Select the operation 1.push  2.pop   3.quit\n",
      "4\n",
      "Enter the correct operation!\n",
      "Select the operation 1.push  2.pop   3.quit\n",
      "5\n",
      "Enter the correct operation!\n",
      "Select the operation 1.push  2.pop   3.quit\n",
      "5\n",
      "Enter the correct operation!\n",
      "Select the operation 1.push  2.pop   3.quit\n",
      "23\n",
      "Enter the correct operation!\n",
      "Select the operation 1.push  2.pop   3.quit\n",
      "2\n",
      "stack is empty\n",
      "Select the operation 1.push  2.pop   3.quit\n",
      "4\n",
      "Enter the correct operation!\n",
      "Select the operation 1.push  2.pop   3.quit\n",
      "3\n"
     ]
    }
   ],
   "source": [
    "# overall explanation with the help of program\n",
    "\n",
    "stack= []\n",
    "def push():\n",
    "    if len(stack)==n:\n",
    "        print(\"the stack is full\")\n",
    "        jump\n",
    "        \n",
    "    else:\n",
    "        element1 = input(\"Enter the element to insert : \")\n",
    "        stack.append(element1)\n",
    "        print(stack)\n",
    "\n",
    "\n",
    "def pop():\n",
    "    if not stack:\n",
    "        print(\"stack is empty\")\n",
    "    else :\n",
    "        element2 = input(\"Enter the element to remove : \")\n",
    "        stack.pop(element2)\n",
    "        print(stack)\n",
    "        \n",
    "n= int(input(\"Ener the limit : \"))       \n",
    "while True:\n",
    "    print(\"Select the operation 1.push  2.pop   3.quit\")\n",
    "    choice = int(input())\n",
    "    if choice==1:\n",
    "        push()\n",
    "    elif choice==2:\n",
    "        pop()\n",
    "    elif choice==3:\n",
    "        break\n",
    "    else:\n",
    "        print(\"Enter the correct operation!\")\n",
    "        "
   ]
  },
  {
   "cell_type": "code",
   "execution_count": 8,
   "metadata": {},
   "outputs": [
    {
     "name": "stdout",
     "output_type": "stream",
     "text": [
      "deque([])\n",
      "deque([10, 20, 30])\n",
      "deque([10, 20])\n",
      "deque([10])\n",
      "deque([])\n"
     ]
    }
   ],
   "source": [
    "## stack using the collections module\n",
    "import collections\n",
    "stack = collections.deque()\n",
    "print(stack)\n",
    "stack.append(10)\n",
    "stack.append(20)\n",
    "stack.append(30)\n",
    "print(stack)\n",
    "stack.pop()\n",
    "print(stack)\n",
    "stack.pop()\n",
    "print(stack)\n",
    "stack.pop()\n",
    "print(stack)\n"
   ]
  },
  {
   "cell_type": "code",
   "execution_count": 9,
   "metadata": {},
   "outputs": [
    {
     "name": "stdout",
     "output_type": "stream",
     "text": [
      "<queue.LifoQueue object at 0x00000261546B7AC0>\n",
      "<queue.LifoQueue object at 0x00000261546B7AC0>\n",
      "<queue.LifoQueue object at 0x00000261546B7AC0>\n",
      "<queue.LifoQueue object at 0x00000261546B7AC0>\n"
     ]
    }
   ],
   "source": [
    "# ctreating stack by queue module\n",
    "import queue\n",
    "stack = queue.LifoQueue()\n",
    "\n",
    "stack.put(10)\n",
    "stack.put(20)\n",
    "stack.put(30)\n",
    "print(stack)\n",
    "stack.get() \n",
    "print(stack)\n",
    "stack.get()\n",
    "print(stack)\n",
    "stack.get()\n",
    "print(stack)\n"
   ]
  },
  {
   "cell_type": "code",
   "execution_count": 10,
   "metadata": {},
   "outputs": [],
   "source": [
    "# queue is type of data structure in chich the elemets are added and removed at both the ends\n",
    "\n",
    "# the nomincluture of  the queue is that the section at whick we are inseting element called as front or top \n",
    "# the section at which we are removing the data called as back or rear\n",
    "# the queue fallow the fifo method or lilo methode\n",
    "# implimentation of queue by using llist and module\n",
    "# the process of adding the element called as enqueue\n",
    "# the process of removing the element called as dequeue\n"
   ]
  },
  {
   "cell_type": "code",
   "execution_count": 11,
   "metadata": {},
   "outputs": [
    {
     "name": "stdout",
     "output_type": "stream",
     "text": [
      "[]\n",
      "[10]\n",
      "[10, 20]\n",
      "[10, 20, 30]\n",
      "[20, 30]\n",
      "[30]\n",
      "[]\n"
     ]
    }
   ],
   "source": [
    "# append method help to add the elements and pop(0) will help remove the element from the first as shown below\n",
    "# declaration of the queue\n",
    "queue = []\n",
    "print(queue)\n",
    "\n",
    "#inseting element to the queue\n",
    "queue.append(10)\n",
    "print(queue)\n",
    "queue.append(20)\n",
    "print(queue)\n",
    "queue.append(30)\n",
    "print(queue)\n",
    "\n",
    "# removing the element from the que\n",
    "queue.pop(0)\n",
    "print(queue)\n",
    "queue.pop(0)\n",
    "print(queue)\n",
    "queue.pop(0)\n",
    "print(queue)\n",
    "\n",
    "\n"
   ]
  },
  {
   "cell_type": "code",
   "execution_count": 12,
   "metadata": {},
   "outputs": [
    {
     "name": "stdout",
     "output_type": "stream",
     "text": [
      "[]\n",
      "[10]\n",
      "[20, 10]\n",
      "[30, 20, 10]\n",
      "[30, 20]\n",
      "[30]\n",
      "[]\n",
      "True\n",
      "True\n"
     ]
    }
   ],
   "source": [
    "# adding and removing the elemet by the help of insert and delete method\n",
    "\n",
    "#declaration of the queue\n",
    "queue = []\n",
    "print(queue)\n",
    "#insertinf the element at left end\n",
    "queue.insert(0,10)\n",
    "print(queue)\n",
    "queue.insert(0,20)\n",
    "print(queue)\n",
    "queue.insert(0,30)\n",
    "print(queue)\n",
    "\n",
    "#removing the element from the right end\n",
    "queue.pop()\n",
    "print(queue)\n",
    "queue.pop()\n",
    "print(queue)\n",
    "queue.pop()\n",
    "print(queue)\n",
    "\n",
    "# checking whether the queue is empty or not\n",
    "print(not queue)\n",
    "\n",
    "print(len(queue)==0)"
   ]
  },
  {
   "cell_type": "code",
   "execution_count": 22,
   "metadata": {},
   "outputs": [
    {
     "name": "stdout",
     "output_type": "stream",
     "text": [
      "select the operation 1.add   2.remove  3.show 4.quit\n",
      "1\n",
      "Enter the element to be add in the queue : 5\n",
      "5 is added to the queue !\n",
      "select the operation 1.add   2.remove  3.show 4.quit\n",
      "3\n",
      "['5']\n",
      "select the operation 1.add   2.remove  3.show 4.quit\n",
      "1\n",
      "Enter the element to be add in the queue : 152\n",
      "152 is added to the queue !\n",
      "select the operation 1.add   2.remove  3.show 4.quit\n",
      "1\n",
      "Enter the element to be add in the queue : 56243\n",
      "56243 is added to the queue !\n",
      "select the operation 1.add   2.remove  3.show 4.quit\n",
      "4\n",
      "thank you the operation is stoped\n"
     ]
    }
   ],
   "source": [
    "# comlplete explanation of the queue with the help of the program\n",
    "queue = []\n",
    "def enqueue():\n",
    "    element = input(\"Enter the element to be add in the queue : \")\n",
    "    queue.append(element)\n",
    "    print(element,\"is added to the queue !\")\n",
    "    \n",
    "def dequeue():\n",
    "    if not queue:\n",
    "        print(\"queue ia empty !\")\n",
    "    else:\n",
    "        ele = queue.pop(0)\n",
    "        print(\"reomved elment is \", ele)\n",
    "        \n",
    "def display():\n",
    "    print(queue)\n",
    "    \n",
    "    \n",
    "while True:\n",
    "    print(\"select the operation 1.add   2.remove  3.show 4.quit\")\n",
    "    choice = int(input())\n",
    "    if choice == 1:\n",
    "        enqueue()\n",
    "    elif choice == 2:\n",
    "        dequeue()\n",
    "    elif choice == 3:\n",
    "        display()\n",
    "    elif choice == 4:\n",
    "        print(\"thank you the operation is stoped\")\n",
    "        break\n",
    "    else:\n",
    "        print(\"Enter the correct operation !\")\n",
    "        "
   ]
  },
  {
   "cell_type": "code",
   "execution_count": 14,
   "metadata": {},
   "outputs": [
    {
     "name": "stdout",
     "output_type": "stream",
     "text": [
      "<queue.Queue object at 0x0000026154687F70>\n",
      "<queue.Queue object at 0x0000026154687F70>\n",
      "<queue.Queue object at 0x0000026154687F70>\n",
      "<queue.Queue object at 0x0000026154687F70>\n",
      "<queue.Queue object at 0x0000026154687F70>\n",
      "<queue.Queue object at 0x0000026154687F70>\n"
     ]
    }
   ],
   "source": [
    "# implimentaiion of queue using the queue class\n",
    "import queue\n",
    "q = queue.Queue()\n",
    "q.put(10)\n",
    "print(q)\n",
    "q.put(20)\n",
    "print(q)\n",
    "q.put(30)\n",
    "print(q)\n",
    "\n",
    "# removing the element from the queue\n",
    "q.get()\n",
    "print(q)\n",
    "q.get()\n",
    "print(q)\n",
    "q.get()\n",
    "print(q)"
   ]
  },
  {
   "cell_type": "code",
   "execution_count": 15,
   "metadata": {},
   "outputs": [
    {
     "name": "stdout",
     "output_type": "stream",
     "text": [
      "deque([])\n",
      "deque([10])\n",
      "deque([20, 10])\n",
      "deque([30, 20, 10])\n",
      "deque([30, 20])\n",
      "deque([30])\n",
      "deque([])\n"
     ]
    }
   ],
   "source": [
    "# implimetation fo ques by modules\n",
    "import collections\n",
    "q = collections.deque()\n",
    "print(q)\n",
    "q.appendleft(10)\n",
    "print(q)\n",
    "q.appendleft(20)\n",
    "print(q)\n",
    "q.appendleft(30)\n",
    "print(q)\n",
    "# removing the elements\n",
    "q.pop()\n",
    "print(q)\n",
    "q.pop()\n",
    "print(q)\n",
    "q.pop()\n",
    "print(q)\n"
   ]
  },
  {
   "cell_type": "code",
   "execution_count": 16,
   "metadata": {},
   "outputs": [
    {
     "name": "stdout",
     "output_type": "stream",
     "text": [
      "deque([])\n",
      "deque([10])\n",
      "deque([10, 20])\n",
      "deque([10, 20, 30])\n",
      "deque([20, 30])\n",
      "deque([30])\n",
      "deque([])\n",
      "True\n"
     ]
    }
   ],
   "source": [
    "# implimetation fo ques by modules\n",
    "import collections\n",
    "q = collections.deque()\n",
    "print(q)\n",
    "q.append(10)\n",
    "print(q)\n",
    "q.append(20)\n",
    "print(q)\n",
    "q.append(30)\n",
    "print(q)\n",
    "# removing the elements\n",
    "q.popleft()\n",
    "print(q)\n",
    "q.popleft()\n",
    "print(q)\n",
    "q.popleft()\n",
    "print(q)\n",
    "\n",
    "# chack the conditio of the queue \n",
    "print(not q)"
   ]
  },
  {
   "cell_type": "code",
   "execution_count": 17,
   "metadata": {},
   "outputs": [
    {
     "name": "stdout",
     "output_type": "stream",
     "text": [
      "deque([20, 10, 30])\n"
     ]
    },
    {
     "data": {
      "text/plain": [
       "30"
      ]
     },
     "execution_count": 17,
     "metadata": {},
     "output_type": "execute_result"
    }
   ],
   "source": [
    "q.append(20)\n",
    "q.append(10)\n",
    "q.append(30)\n",
    "print(q)\n",
    "q[-1]"
   ]
  },
  {
   "cell_type": "code",
   "execution_count": 18,
   "metadata": {},
   "outputs": [
    {
     "name": "stdout",
     "output_type": "stream",
     "text": [
      "[10, 20, 40]\n"
     ]
    },
    {
     "data": {
      "text/plain": [
       "10"
      ]
     },
     "execution_count": 18,
     "metadata": {},
     "output_type": "execute_result"
    }
   ],
   "source": [
    "# priority queue \n",
    "# modified version of queues each element is assosiated with the priority and if same priority then in order will assosiate\n",
    "# priority is value or in the form of tuple\n",
    "q = []\n",
    "q.append(10)\n",
    "q.append(40)\n",
    "q.sort()\n",
    "q.append(20)\n",
    "q.sort()\n",
    "print(q)\n",
    "q.pop()\n",
    "q.pop()\n",
    "q.pop()"
   ]
  },
  {
   "cell_type": "code",
   "execution_count": 19,
   "metadata": {},
   "outputs": [
    {
     "name": "stdout",
     "output_type": "stream",
     "text": [
      "<queue.PriorityQueue object at 0x0000026154687CA0>\n",
      "<queue.PriorityQueue object at 0x0000026154687CA0>\n",
      "<queue.PriorityQueue object at 0x0000026154687CA0>\n"
     ]
    },
    {
     "data": {
      "text/plain": [
       "40"
      ]
     },
     "execution_count": 19,
     "metadata": {},
     "output_type": "execute_result"
    }
   ],
   "source": [
    "import queue\n",
    "q = queue.PriorityQueue()\n",
    "q.put(10)\n",
    "q.put(60)\n",
    "q.put(20)\n",
    "q.put(40)\n",
    "q.put(40)\n",
    "q.put(40)\n",
    "print(q)\n",
    "q.get()\n",
    "\n",
    "print(q)\n",
    "q.get()\n",
    "\n",
    "print(q)\n",
    "q.get()"
   ]
  },
  {
   "cell_type": "code",
   "execution_count": 20,
   "metadata": {},
   "outputs": [
    {
     "name": "stdout",
     "output_type": "stream",
     "text": [
      "[(5, 'alexa'), (3, 'alexa'), (2, 'alexa'), (1, 'alexa')]\n"
     ]
    },
    {
     "data": {
      "text/plain": [
       "(1, 'alexa')"
      ]
     },
     "execution_count": 20,
     "metadata": {},
     "output_type": "execute_result"
    }
   ],
   "source": [
    "q = []\n",
    "q.append((1,\"alexa\"))\n",
    "q.append((3,\"alexa\"))\n",
    "q.append((5,\"alexa\"))\n",
    "q.append((2,\"alexa\"))\n",
    "q.sort(reverse= True)\n",
    "print(q)\n",
    "q.pop(0)\n",
    "q.pop(0)\n",
    "q.pop(0)\n",
    "q.pop(0)"
   ]
  },
  {
   "cell_type": "code",
   "execution_count": null,
   "metadata": {},
   "outputs": [],
   "source": [
    "# linked list it is called as chain of nodes\n",
    "# contain the data field and reference variables"
   ]
  },
  {
   "cell_type": "code",
   "execution_count": null,
   "metadata": {},
   "outputs": [],
   "source": [
    "# "
   ]
  },
  {
   "cell_type": "code",
   "execution_count": null,
   "metadata": {},
   "outputs": [],
   "source": []
  },
  {
   "cell_type": "code",
   "execution_count": null,
   "metadata": {},
   "outputs": [],
   "source": []
  },
  {
   "cell_type": "code",
   "execution_count": null,
   "metadata": {},
   "outputs": [],
   "source": []
  },
  {
   "cell_type": "code",
   "execution_count": null,
   "metadata": {},
   "outputs": [],
   "source": []
  },
  {
   "cell_type": "code",
   "execution_count": null,
   "metadata": {},
   "outputs": [],
   "source": []
  }
 ],
 "metadata": {
  "kernelspec": {
   "display_name": "Python 3",
   "language": "python",
   "name": "python3"
  },
  "language_info": {
   "codemirror_mode": {
    "name": "ipython",
    "version": 3
   },
   "file_extension": ".py",
   "mimetype": "text/x-python",
   "name": "python",
   "nbconvert_exporter": "python",
   "pygments_lexer": "ipython3",
   "version": "3.8.3"
  }
 },
 "nbformat": 4,
 "nbformat_minor": 4
}
