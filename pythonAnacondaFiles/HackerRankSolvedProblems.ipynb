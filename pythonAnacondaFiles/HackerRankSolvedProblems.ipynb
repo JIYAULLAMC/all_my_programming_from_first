{
 "cells": [
  {
   "cell_type": "code",
   "execution_count": 5,
   "metadata": {},
   "outputs": [
    {
     "name": "stdout",
     "output_type": "stream",
     "text": [
      "dfsdfdsfdsdjkfsd\n",
      "df\n",
      "2\n"
     ]
    }
   ],
   "source": [
    "def count_substring(string, sub_string):\n",
    "    count = 0\n",
    "    for i in range(len(string)):\n",
    "        if string[i:].startswith(sub_string):\n",
    "            count += 1\n",
    "        \n",
    "    return count\n",
    "    \n",
    "\n",
    "    \n",
    "  \n",
    "    return count\n",
    "\n",
    "if __name__ == '__main__':\n",
    "    string = input().strip()\n",
    "    sub_string = input().strip()\n",
    "    \n",
    "    count = count_substring(string, sub_string)\n",
    "    print(count)"
   ]
  },
  {
   "cell_type": "code",
   "execution_count": 4,
   "metadata": {},
   "outputs": [
    {
     "name": "stdout",
     "output_type": "stream",
     "text": [
      "abldfosfsdfdasdfadsffdgfdgdfdfsdsfdsfsdfffdsfsdfsfsdfdsfsdfff\n",
      "aff\n",
      "8\n"
     ]
    }
   ],
   "source": [
    "def count_substring(string, sub_string):\n",
    "    \n",
    "    count = 0\n",
    "    \n",
    "    for i in range(len(string)):\n",
    "        \n",
    "        test_str = \"\"\n",
    "        for j in range(len(sub_string)):\n",
    "            test_str += string[i-j]\n",
    "        \n",
    "            \n",
    "        # print(test_str)\n",
    "        \n",
    "        if test_str == sub_string:\n",
    "            count += 1\n",
    "    \n",
    "    for i in range(len(string)-len(sub_string)-1):\n",
    "        \n",
    "        value = string[i] + string[i+1]\n",
    "        \n",
    "        if test_str == value:\n",
    "            count = count + 1\n",
    "    \n",
    "            \n",
    "    \n",
    "  \n",
    "    return count\n",
    "\n",
    "string = input(\"abldfosfsdf\")\n",
    "sub_string = input(\"a\")\n",
    "count = count_substring(string, sub_string)\n",
    "print(count)"
   ]
  },
  {
   "cell_type": "code",
   "execution_count": null,
   "metadata": {},
   "outputs": [],
   "source": []
  },
  {
   "cell_type": "code",
   "execution_count": null,
   "metadata": {},
   "outputs": [],
   "source": []
  },
  {
   "cell_type": "code",
   "execution_count": null,
   "metadata": {},
   "outputs": [],
   "source": []
  },
  {
   "cell_type": "code",
   "execution_count": null,
   "metadata": {},
   "outputs": [],
   "source": []
  },
  {
   "cell_type": "code",
   "execution_count": 25,
   "metadata": {},
   "outputs": [],
   "source": [
    "import itertools as IT"
   ]
  },
  {
   "cell_type": "code",
   "execution_count": 26,
   "metadata": {},
   "outputs": [],
   "source": [
    "num1 = [1, 1, 6, 7, 3]\n",
    "num2 = [5, 7, 2, 9, 3]"
   ]
  },
  {
   "cell_type": "code",
   "execution_count": 29,
   "metadata": {},
   "outputs": [],
   "source": [
    "def chain(*iterables):\n",
    "    # chain('ABC', 'DEF') --> A B C D E F\n",
    "    for it in iterables:\n",
    "        for element in it:\n",
    "            yield element"
   ]
  },
  {
   "cell_type": "code",
   "execution_count": 30,
   "metadata": {},
   "outputs": [
    {
     "data": {
      "text/plain": [
       "<generator object chain at 0x0000027A3F82E120>"
      ]
     },
     "execution_count": 30,
     "metadata": {},
     "output_type": "execute_result"
    }
   ],
   "source": [
    "chain(num1,num2)\n"
   ]
  },
  {
   "cell_type": "code",
   "execution_count": null,
   "metadata": {},
   "outputs": [],
   "source": []
  },
  {
   "cell_type": "code",
   "execution_count": null,
   "metadata": {},
   "outputs": [],
   "source": []
  },
  {
   "cell_type": "code",
   "execution_count": null,
   "metadata": {},
   "outputs": [],
   "source": []
  },
  {
   "cell_type": "code",
   "execution_count": null,
   "metadata": {},
   "outputs": [],
   "source": []
  },
  {
   "cell_type": "code",
   "execution_count": 10,
   "metadata": {},
   "outputs": [
    {
     "name": "stdout",
     "output_type": "stream",
     "text": [
      "insert 0 10\n",
      "3\n",
      "insert(0,10)\n"
     ]
    },
    {
     "ename": "AttributeError",
     "evalue": "'list' object has no attribute 'operation'",
     "output_type": "error",
     "traceback": [
      "\u001b[1;31m---------------------------------------------------------------------------\u001b[0m",
      "\u001b[1;31mAttributeError\u001b[0m                            Traceback (most recent call last)",
      "\u001b[1;32m<ipython-input-10-4667a408306f>\u001b[0m in \u001b[0;36m<module>\u001b[1;34m\u001b[0m\n\u001b[0;32m      8\u001b[0m         \u001b[0moperation\u001b[0m \u001b[1;33m=\u001b[0m \u001b[1;34mf\"{my_input[0]}({my_input[1]},{my_input[2]})\"\u001b[0m\u001b[1;33m\u001b[0m\u001b[1;33m\u001b[0m\u001b[0m\n\u001b[0;32m      9\u001b[0m         \u001b[0mprint\u001b[0m\u001b[1;33m(\u001b[0m\u001b[0moperation\u001b[0m\u001b[1;33m)\u001b[0m\u001b[1;33m\u001b[0m\u001b[1;33m\u001b[0m\u001b[0m\n\u001b[1;32m---> 10\u001b[1;33m         \u001b[0mvalue\u001b[0m \u001b[1;33m=\u001b[0m \u001b[0mlist1\u001b[0m\u001b[1;33m.\u001b[0m\u001b[0moperation\u001b[0m\u001b[1;33m\u001b[0m\u001b[1;33m\u001b[0m\u001b[0m\n\u001b[0m\u001b[0;32m     11\u001b[0m         \u001b[0mprint\u001b[0m\u001b[1;33m(\u001b[0m\u001b[0mvalue\u001b[0m\u001b[1;33m)\u001b[0m\u001b[1;33m\u001b[0m\u001b[1;33m\u001b[0m\u001b[0m\n\u001b[0;32m     12\u001b[0m \u001b[1;33m\u001b[0m\u001b[0m\n",
      "\u001b[1;31mAttributeError\u001b[0m: 'list' object has no attribute 'operation'"
     ]
    }
   ],
   "source": [
    "my_input = []\n",
    "list1 =[]\n",
    "my_input1 = input()\n",
    "my_input = my_input1.split(\" \")\n",
    "print(len(my_input))    \n",
    "\n",
    "if len(my_input)==3:\n",
    "        operation = f\"{my_input[0]}({my_input[1]},{my_input[2]})\"\n",
    "        print(operation)\n",
    "        value = list1.operation\n",
    "        print(value)\n",
    "    \n"
   ]
  },
  {
   "cell_type": "code",
   "execution_count": 22,
   "metadata": {},
   "outputs": [
    {
     "name": "stdout",
     "output_type": "stream",
     "text": [
      "jiya 23.5\n",
      "monoj 20.0\n",
      "shivu 65.23\n",
      "manasa 20.0\n",
      "malik 10.12\n"
     ]
    }
   ],
   "source": [
    "records = [[\"jiya\",23.50],[\"monoj\",20.00],[\"shivu\",65.23],[\"manasa\",20.00],[\"malik\",10.12]]\n",
    "\n",
    "for name, score in records:\n",
    "    print(name, score)\n",
    "\n",
    "\n",
    "\n"
   ]
  },
  {
   "cell_type": "code",
   "execution_count": 28,
   "metadata": {},
   "outputs": [
    {
     "name": "stdout",
     "output_type": "stream",
     "text": [
      "25\n",
      "36\n",
      "14\n",
      "25\n",
      "18\n",
      "{25, 18, 36, 14}\n",
      "18\n"
     ]
    }
   ],
   "source": [
    "values = set()\n",
    "for i in range(5):\n",
    "    value = int(input())\n",
    "    values.add(value)\n",
    "    \n",
    "print(values)\n",
    "\n",
    "\n",
    "sorted_values = sorted(values)[1]\n",
    "print(sorted_values)\n",
    "    "
   ]
  },
  {
   "cell_type": "code",
   "execution_count": 2,
   "metadata": {},
   "outputs": [
    {
     "ename": "NameError",
     "evalue": "name 'Harry' is not defined",
     "output_type": "error",
     "traceback": [
      "\u001b[1;31m---------------------------------------------------------------------------\u001b[0m",
      "\u001b[1;31mNameError\u001b[0m                                 Traceback (most recent call last)",
      "\u001b[1;32m<ipython-input-2-0debd3fdfcce>\u001b[0m in \u001b[0;36m<module>\u001b[1;34m\u001b[0m\n\u001b[0;32m      1\u001b[0m \u001b[1;36m5\u001b[0m\u001b[1;33m\u001b[0m\u001b[1;33m\u001b[0m\u001b[0m\n\u001b[1;32m----> 2\u001b[1;33m \u001b[0mHarry\u001b[0m\u001b[1;33m\u001b[0m\u001b[1;33m\u001b[0m\u001b[0m\n\u001b[0m\u001b[0;32m      3\u001b[0m \u001b[1;36m37.21\u001b[0m\u001b[1;33m\u001b[0m\u001b[1;33m\u001b[0m\u001b[0m\n\u001b[0;32m      4\u001b[0m \u001b[0mBerry\u001b[0m\u001b[1;33m\u001b[0m\u001b[1;33m\u001b[0m\u001b[0m\n\u001b[0;32m      5\u001b[0m \u001b[1;36m37.21\u001b[0m\u001b[1;33m\u001b[0m\u001b[1;33m\u001b[0m\u001b[0m\n",
      "\u001b[1;31mNameError\u001b[0m: name 'Harry' is not defined"
     ]
    }
   ],
   "source": [
    "5\n",
    "Harry\n",
    "37.21\n",
    "Berry\n",
    "37.21\n",
    "Tina\n",
    "37.2\n",
    "Akriti\n",
    "41\n",
    "Harsh\n",
    "39"
   ]
  },
  {
   "cell_type": "code",
   "execution_count": null,
   "metadata": {},
   "outputs": [],
   "source": [
    "if __name__ == '__main__':\n",
    "    # all records\n",
    "    records = []\n",
    "    \n",
    "    names = []\n",
    "    scores = []\n",
    "    \n",
    "     \n",
    "    for i in range(int(input())):\n",
    "        name = input()\n",
    "        score = float(input())\n",
    "        names.append(name)\n",
    "        scores.append(score)\n",
    "        i_items = []\n",
    "        i_items.append(name)\n",
    "        i_items.append(score)\n",
    "        records.append(i_items)\n",
    "       \n",
    "    lowest_score = scores[0]   \n",
    "    for j in scores:\n",
    "        if j < lowest_score:\n",
    "            lowest_score = j\n",
    "            \n",
    "\n",
    "        \n",
    "    second_lowest_score = scores[0]\n",
    "    for k in scores:\n",
    "        if k < second_lowest_score and k != lowest_score and k > lowest_score:\n",
    "            k = second_lowest_score\n",
    "            \n",
    "    # print(\"second\", second_lowest_score)\n",
    "    \n",
    "    list_tresult = [ ]\n",
    "    \n",
    "    for i in range(len(records)):\n",
    "        for j in range(2):\n",
    "            \n",
    "            if records[i][j] == second_lowest_score:\n",
    "                 result = records[i][j-1]\n",
    "                 list_tresult.append(result)\n",
    "                 \n",
    "    reversed_list = list_tresult.reverse\n",
    "    \n",
    "    for i in reversed_list:\n",
    "        print(i)\n",
    "    \n",
    "    \n"
   ]
  },
  {
   "cell_type": "code",
   "execution_count": 23,
   "metadata": {},
   "outputs": [
    {
     "name": "stdout",
     "output_type": "stream",
     "text": [
      "5\n",
      "dsfjkf\n",
      "5\n",
      "dsfjkf\n",
      "52\n",
      "dfkdfd\n",
      "95\n",
      "dskfjklf\n",
      "54\n",
      "sdklfjsdklf\n",
      "98\n",
      "l [['dsfjkf', 5.0], ['dsfjkf', 52.0], ['dfkdfd', 95.0], ['dskfjklf', 54.0], ['sdklfjsdklf', 98.0]]\n",
      "second_lowest_names []\n",
      "scores {98.0, 5.0, 52.0, 54.0, 95.0}\n",
      "dsfjkf\n"
     ]
    }
   ],
   "source": [
    "l = []\n",
    "second_lowest_names = []\n",
    "scores = set()\n",
    "\n",
    "for _ in range(int(input())):\n",
    "    name = input(\"name\")\n",
    "    score = float(input(\"score\"))\n",
    "    l.append([name, score])\n",
    "    scores.add(score)\n",
    "    \n",
    "print(\"l\",l)\n",
    "\n",
    "print(\"scores\",scores)\n",
    "\n",
    "        \n",
    "second_lowest = sorted(scores)[1]\n",
    "print(second_lowest,\"second_lowest\")\n",
    "\n",
    "for name, score in l:\n",
    "    if score == second_lowest:\n",
    "        second_lowest_names.append(name)\n",
    "\n",
    "print(\"second_lowest_names\", second_lowest_names)\n",
    "\n",
    "for name in sorted(second_lowest_names):\n",
    "    print(name, end='\\n')"
   ]
  }
 ],
 "metadata": {
  "kernelspec": {
   "display_name": "Python 3",
   "language": "python",
   "name": "python3"
  },
  "language_info": {
   "codemirror_mode": {
    "name": "ipython",
    "version": 3
   },
   "file_extension": ".py",
   "mimetype": "text/x-python",
   "name": "python",
   "nbconvert_exporter": "python",
   "pygments_lexer": "ipython3",
   "version": "3.8.3"
  }
 },
 "nbformat": 4,
 "nbformat_minor": 4
}
