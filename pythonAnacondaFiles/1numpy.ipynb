{
 "cells": [
  {
   "cell_type": "code",
   "execution_count": 7,
   "metadata": {},
   "outputs": [
    {
     "name": "stdout",
     "output_type": "stream",
     "text": [
      "hi\n"
     ]
    }
   ],
   "source": [
    "# TUTORIAL 1 (INTRODUCTION OT NUMPY)\n",
    "# Numpy stands for numerical python and\n",
    "# scipy- scientific python\n",
    "# fundamental python pakages used mainly for the scientific computation and programming\n",
    "# scientific programming deals with the solving scintific or mathematical problems with the\n",
    "# -help of computers\n",
    "# scientifc languages - MATLAB FORTRAN ALGOL APL\n",
    "# Basic operation are - array, matrix, linear equation,random number, integration, differential Equation, Statistics more\n",
    "print(\"hi\")"
   ]
  },
  {
   "cell_type": "code",
   "execution_count": null,
   "metadata": {},
   "outputs": [],
   "source": [
    "# TUTORIAL 2 (HOW TO INSTALL NUMPY AND SCIPY AND PANDAS)\n",
    "# how to install  the numpy scipy and the matplotlib and pands\n",
    "# first you have to check the pip in cmd prompt \n",
    "# if not re-install the python\n",
    "# you should check the version by the  pip --version\n",
    "# then write the pip install numpy, pip install scipy , pip install matplotlib ,pip install pandas\n",
    "# for verify the come ide and type import numpy ,import scipy, import matpotlib ,import pandas\n",
    "# you donot get any error means your work is succesfull"
   ]
  },
  {
   "cell_type": "code",
   "execution_count": null,
   "metadata": {},
   "outputs": [],
   "source": [
    "# TUTORIAL 3 (INTRODUCTION OT NUMPY)\n",
    "# NumPy:\n",
    "# numpy stands for Numerical Python\n",
    "# Fundamental Python Package for scientific computing \n",
    "# contain several funtion help to solve the maths Engineering , scintific equation in computer.\n",
    "# HISTORY - contribution by jim huguinin, travis oliphant\n"
   ]
  },
  {
   "cell_type": "code",
   "execution_count": null,
   "metadata": {},
   "outputs": [],
   "source": [
    "# TUTORIAL 4 (SIMILARITY AND DIFFERENCE BETWEEN ARRAY AND LIST)\n",
    "# Similarity\n",
    "# both or mutable , or  store ,or index ,slice.\n",
    "# Difference\n",
    "# list : array difference\n",
    "# different data type : similar data type\n",
    "# we can not diveid the list : here we can\n",
    "# buil in : instal numpy libra\n",
    "# require more memory :  less \n",
    "# slow in calculation : have some high speed in calcultion comparitivily\n",
    "# every where we can use : array used in precision work"
   ]
  },
  {
   "cell_type": "code",
   "execution_count": null,
   "metadata": {},
   "outputs": [],
   "source": [
    "# TUTORIAL 5 (DEFINITION AND TYPES OF ARRAY)\n",
    "# Array : is the collection of elements of same type\n",
    "# they are most commen in other lang but not in python\n",
    "# one dimensional array\n",
    "# two dimensional array , threen dimensional array,  n dimemsional array\n"
   ]
  },
  {
   "cell_type": "code",
   "execution_count": 2,
   "metadata": {},
   "outputs": [
    {
     "name": "stdout",
     "output_type": "stream",
     "text": [
      "result one :  [1 2 3 4]\n",
      "\n",
      "result two :  [[1 2]\n",
      " [3 4]]\n",
      "\n",
      "two dimentional with complex data type :  [[1.+0.j 2.+0.j 3.+0.j]\n",
      " [5.+0.j 6.+0.j 7.+0.j]]\n",
      "\n",
      "array by the tuple [1 2 3 4 5]\n"
     ]
    }
   ],
   "source": [
    "# TUTORIAL 6 (ARRAY FUNTION)\n",
    "# how to creat the array\n",
    "# many funtions help to creat the array like Array(), Zero(), Ones(), Linspace(), Random(), Array\n",
    "# we can also create the array by the help of list and tuple and dictionaries\n",
    "import numpy as np\n",
    "# help(np.array)\n",
    "\n",
    "a = np.array([1, 2, 3, 4])\n",
    "print(\"result one : \",a)\n",
    "print()\n",
    "\n",
    "b = np.array([[1,2], [3,4]])\n",
    "print(\"result two : \",b)\n",
    "print()\n",
    "\n",
    "c = np.array([[1,2,3],[5,6,7]],dtype=\"complex\")\n",
    "print(\"two dimentional with complex data type : \",c)\n",
    "\n",
    "# creating the array using the tuple\n",
    "d = (1,2,3,4,5)\n",
    "print()\n",
    "print(\"array by the tuple\",np.array(d))"
   ]
  },
  {
   "cell_type": "code",
   "execution_count": 5,
   "metadata": {},
   "outputs": [
    {
     "name": "stdout",
     "output_type": "stream",
     "text": [
      "with start and stop : [1 2 3 4 5 6 7 8 9]\n",
      "\n",
      "without start :  [0. 1. 2.]\n",
      "\n",
      "with step as 2 [1 3 5 7 9]\n",
      "\n",
      "with complex data type :  [0.+0.j 1.+0.j 2.+0.j 3.+0.j 4.+0.j 5.+0.j 6.+0.j 7.+0.j 8.+0.j 9.+0.j]\n",
      "\n",
      "all the parametres  [1. 3. 5. 7. 9.]\n"
     ]
    }
   ],
   "source": [
    "# TUTORIAL 7 (ARRANGE FUNITON)\n",
    "# `simply called array range funtion ,\"creates array of evenly spaces values within inteval\"\n",
    "#help(np.arrange)\n",
    "print(\"with start and stop :\",np.arange(1,10))\n",
    "print()\n",
    "\n",
    "print(\"without start : \",np.arange(3.0))\n",
    "print()\n",
    "\n",
    "print(\"with step as 2\",np.arange(1,10,2))\n",
    "print()\n",
    "\n",
    "print(\"with complex data type : \",np.arange(10,dtype=\"complex\"))\n",
    "print()\n",
    "\n",
    "print(\"all the parametres \",np.arange(1, 10, 2, dtype=\"float\"))"
   ]
  },
  {
   "cell_type": "code",
   "execution_count": 6,
   "metadata": {},
   "outputs": [
    {
     "name": "stdout",
     "output_type": "stream",
     "text": [
      "for one dimension zero values :  [0. 0. 0. 0. 0.]\n",
      "\n",
      "[0 0 0]\n",
      "\n",
      "[[0. 0. 0. 0.]\n",
      " [0. 0. 0. 0.]\n",
      " [0. 0. 0. 0.]]\n",
      "\n",
      "order change :  [[0.+0.j 0.+0.j 0.+0.j 0.+0.j 0.+0.j]\n",
      " [0.+0.j 0.+0.j 0.+0.j 0.+0.j 0.+0.j]\n",
      " [0.+0.j 0.+0.j 0.+0.j 0.+0.j 0.+0.j]\n",
      " [0.+0.j 0.+0.j 0.+0.j 0.+0.j 0.+0.j]]\n"
     ]
    }
   ],
   "source": [
    "# TUTORIAL 8 (Zeros())\n",
    "# creates array filled with zeros\n",
    "import numpy as np\n",
    "print(\"for one dimension zero values : \",np.zeros(5))\n",
    "print()\n",
    "\n",
    "print(np.zeros(3,dtype=\"int\"))\n",
    "print()\n",
    "\n",
    "print(np.zeros((3,4)))\n",
    "print()\n",
    "\n",
    "print(\"order change : \",np.zeros((4,5),dtype=\"complex\",order=\"f\"))"
   ]
  },
  {
   "cell_type": "code",
   "execution_count": 7,
   "metadata": {},
   "outputs": [
    {
     "name": "stdout",
     "output_type": "stream",
     "text": [
      "\n",
      "one dimesional array :  [1. 1. 1. 1. 1. 1. 1. 1.]\n",
      "\n",
      "two dimensional:  [[1 1 1 1]\n",
      " [1 1 1 1]\n",
      " [1 1 1 1]]\n",
      "\n"
     ]
    }
   ],
   "source": [
    "# TUTORIAL 9 (ones())\n",
    "# similar ot zeros here we create the array of ones\n",
    "import numpy as np\n",
    "# print(help(np.ones))\n",
    "print()\n",
    "print(\"one dimesional array : \",np.ones(8))\n",
    "print()\n",
    "\n",
    "print(\"two dimensional: \",np.ones((3,4),dtype=\"int\"))\n",
    "print()\n",
    "\n",
    "\n",
    "\n"
   ]
  },
  {
   "cell_type": "code",
   "execution_count": 8,
   "metadata": {},
   "outputs": [
    {
     "name": "stdout",
     "output_type": "stream",
     "text": [
      "[[1 1 1 1]\n",
      " [1 1 1 1]\n",
      " [1 1 1 1]]\n"
     ]
    }
   ],
   "source": [
    "# TUTORIAL 10 (EMPTY()\n",
    "#help to creat on uninitialized array of the values\n",
    "print(np.empty((3,4),dtype=\"int\"))"
   ]
  },
  {
   "cell_type": "code",
   "execution_count": 10,
   "metadata": {},
   "outputs": [
    {
     "name": "stdout",
     "output_type": "stream",
     "text": [
      "[  0.  25.  50.  75. 100.]\n",
      "\n",
      "will not give the end point :  [ 0. 20. 40. 60. 80.]\n",
      "\n",
      "give the step: (array([ 0., 20., 40., 60., 80.]), 20.0)\n",
      "\n",
      "(array([  0.,  25.,  50.,  75., 100.]), 25.0)\n",
      "\n",
      "change the data type [  0.+0.j  25.+0.j  50.+0.j  75.+0.j 100.+0.j]\n"
     ]
    }
   ],
   "source": [
    "# TUTORIAL 11 (linspace()) liner space\n",
    "# lide arange() in different manner\n",
    "# creates array filled evenly spaced values help to break poits\n",
    "# linspce (start, stop, num=50,endpoin=True)\n",
    "print(np.linspace(0,100,num=5))\n",
    "print()\n",
    "\n",
    "print(\"will not give the end point : \",np.linspace(0,100,num=5,endpoint=False))\n",
    "print()\n",
    "\n",
    "print(\"give the step:\",np.linspace(0,100,num=5,endpoint=False,retstep=True))\n",
    "print()\n",
    "\n",
    "print(np.linspace(0,100,num=5,retstep=True))\n",
    "print()\n",
    "\n",
    "print(\"change the data type\",np.linspace(0,100,num=5,dtype=\"complex\"))"
   ]
  },
  {
   "cell_type": "code",
   "execution_count": 11,
   "metadata": {},
   "outputs": [
    {
     "name": "stdout",
     "output_type": "stream",
     "text": [
      "general [[1. 0. 0. 0. 0.]\n",
      " [0. 1. 0. 0. 0.]\n",
      " [0. 0. 1. 0. 0.]\n",
      " [0. 0. 0. 1. 0.]\n",
      " [0. 0. 0. 0. 1.]]\n",
      "\n",
      "genral row and column with int data type  [[1 0 0 0]\n",
      " [0 1 0 0]]\n",
      "\n",
      "genral row and column with int data type  with k value [[0 0 1 0]\n",
      " [0 0 0 1]]\n"
     ]
    }
   ],
   "source": [
    "# TUTORIAL 12 (Eye()) \n",
    "# above funtion return the k th (k means which diagnal we want) diagnal matrix\n",
    "import numpy as np\n",
    "#help(np.eye)\n",
    "print(\"general\",np.eye(5))\n",
    "print()\n",
    "\n",
    "print(\"genral row and column with int data type \",np.eye(2,4,dtype=\"int\"))\n",
    "print()\n",
    "\n",
    "print(\"genral row and column with int data type  with k value\",np.eye(2,4,k=2,dtype=\"int\"))\n"
   ]
  },
  {
   "cell_type": "code",
   "execution_count": 12,
   "metadata": {},
   "outputs": [
    {
     "name": "stdout",
     "output_type": "stream",
     "text": [
      "[[1 0 0 0 0]\n",
      " [0 1 0 0 0]\n",
      " [0 0 1 0 0]\n",
      " [0 0 0 1 0]\n",
      " [0 0 0 0 1]]\n",
      "\n",
      "[[1. 0. 0. 0. 0.]\n",
      " [0. 1. 0. 0. 0.]\n",
      " [0. 0. 1. 0. 0.]\n",
      " [0. 0. 0. 1. 0.]\n",
      " [0. 0. 0. 0. 1.]]\n",
      "\n",
      "[[1.+0.j 0.+0.j 0.+0.j 0.+0.j]\n",
      " [0.+0.j 1.+0.j 0.+0.j 0.+0.j]\n",
      " [0.+0.j 0.+0.j 1.+0.j 0.+0.j]\n",
      " [0.+0.j 0.+0.j 0.+0.j 1.+0.j]]\n"
     ]
    }
   ],
   "source": [
    "# identity funtion\n",
    "print(np.identity(5,dtype=int))\n",
    "print()\n",
    "print(np.identity(5))\n",
    "print()\n",
    "print(np.identity(4,dtype=complex))"
   ]
  },
  {
   "cell_type": "code",
   "execution_count": 22,
   "metadata": {},
   "outputs": [
    {
     "name": "stdout",
     "output_type": "stream",
     "text": [
      "random 3*2 matrix [[0.44761232 0.25646739 0.53641966 0.32455721 0.93716441]\n",
      " [0.30999183 0.44396044 0.0982581  0.36928907 0.00883745]\n",
      " [0.23430655 0.1222885  0.91739405 0.21300575 0.09631211]\n",
      " [0.56709946 0.07351121 0.82873271 0.55817046 0.54633957]]\n",
      "\n",
      "random 3*2 matrix [[ 0.58677872 -0.0837412   0.04246448 -0.46880005  0.46895183]\n",
      " [ 1.07895041 -0.68159441 -2.17787468  1.73503161 -0.36958576]\n",
      " [-0.19290677 -0.54324673  0.22809631 -0.5019225  -0.00233068]\n",
      " [ 2.04702445 -0.53201609 -0.19070151  1.05851374 -0.56605588]]\n",
      "\n",
      "[2 3 3 3 3 2 3 2 3 3]\n"
     ]
    },
    {
     "ename": "AttributeError",
     "evalue": "module 'numpy' has no attribute 'randn'",
     "output_type": "error",
     "traceback": [
      "\u001b[1;31m---------------------------------------------------------------------------\u001b[0m",
      "\u001b[1;31mAttributeError\u001b[0m                            Traceback (most recent call last)",
      "\u001b[1;32m<ipython-input-22-b6fe41f36b34>\u001b[0m in \u001b[0;36m<module>\u001b[1;34m\u001b[0m\n\u001b[0;32m      9\u001b[0m \u001b[0mprint\u001b[0m\u001b[1;33m(\u001b[0m\u001b[0mnp\u001b[0m\u001b[1;33m.\u001b[0m\u001b[0mrandom\u001b[0m\u001b[1;33m.\u001b[0m\u001b[0mrandint\u001b[0m\u001b[1;33m(\u001b[0m\u001b[1;36m2\u001b[0m\u001b[1;33m,\u001b[0m\u001b[1;36m4\u001b[0m\u001b[1;33m,\u001b[0m \u001b[0msize\u001b[0m\u001b[1;33m=\u001b[0m\u001b[1;36m10\u001b[0m\u001b[1;33m)\u001b[0m\u001b[1;33m)\u001b[0m\u001b[1;33m\u001b[0m\u001b[1;33m\u001b[0m\u001b[0m\n\u001b[0;32m     10\u001b[0m \u001b[1;33m\u001b[0m\u001b[0m\n\u001b[1;32m---> 11\u001b[1;33m \u001b[0mprint\u001b[0m\u001b[1;33m(\u001b[0m\u001b[1;34m\"random 3*2 matrix\"\u001b[0m\u001b[1;33m,\u001b[0m\u001b[0mnp\u001b[0m\u001b[1;33m.\u001b[0m\u001b[0mrandn\u001b[0m\u001b[1;33m(\u001b[0m\u001b[1;36m4\u001b[0m\u001b[1;33m,\u001b[0m\u001b[1;36m5\u001b[0m\u001b[1;33m)\u001b[0m\u001b[1;33m)\u001b[0m\u001b[1;33m\u001b[0m\u001b[1;33m\u001b[0m\u001b[0m\n\u001b[0m",
      "\u001b[1;32m~\\anaconda3\\lib\\site-packages\\numpy\\__init__.py\u001b[0m in \u001b[0;36m__getattr__\u001b[1;34m(attr)\u001b[0m\n\u001b[0;32m    217\u001b[0m                 \u001b[1;32mreturn\u001b[0m \u001b[0mTester\u001b[0m\u001b[1;33m\u001b[0m\u001b[1;33m\u001b[0m\u001b[0m\n\u001b[0;32m    218\u001b[0m             \u001b[1;32melse\u001b[0m\u001b[1;33m:\u001b[0m\u001b[1;33m\u001b[0m\u001b[1;33m\u001b[0m\u001b[0m\n\u001b[1;32m--> 219\u001b[1;33m                 raise AttributeError(\"module {!r} has no attribute \"\n\u001b[0m\u001b[0;32m    220\u001b[0m                                      \"{!r}\".format(__name__, attr))\n\u001b[0;32m    221\u001b[0m \u001b[1;33m\u001b[0m\u001b[0m\n",
      "\u001b[1;31mAttributeError\u001b[0m: module 'numpy' has no attribute 'randn'"
     ]
    }
   ],
   "source": [
    "# TUTORIAL 13 (random()) liner space\n",
    "## help(np.random.rand)\n",
    "print(\"random 3*2 matrix\",np.random.rand(4,5))\n",
    "print()\n",
    "\n",
    "print(\"random 3*2 matrix\",np.random.randn(4,5))\n",
    "print()\n",
    "\n",
    "print(np.random.randint(2,4, size=10))\n",
    "\n",
    "print(\"random 3*2 matrix\",np.randn(4,5))"
   ]
  },
  {
   "cell_type": "code",
   "execution_count": 23,
   "metadata": {},
   "outputs": [
    {
     "name": "stdout",
     "output_type": "stream",
     "text": [
      "one dimensional array 1\n",
      "\n",
      "two dimesional array 2\n",
      "\n",
      "shape of the array\n",
      "shape of array a is :  (4,)\n",
      "\n",
      "shape of array b is :  (2, 3)\n",
      "[[[1. 1. 1. 1.]\n",
      "  [1. 1. 1. 1.]\n",
      "  [1. 1. 1. 1.]]\n",
      "\n",
      " [[1. 1. 1. 1.]\n",
      "  [1. 1. 1. 1.]\n",
      "  [1. 1. 1. 1.]]]\n",
      "shape of the array d is :  (2, 3, 4)\n",
      "size\n",
      "4\n",
      "\n",
      "tell you the data type of the array: \n",
      "int32\n",
      "\n",
      "the item size will give you in terms of the bytes \n",
      "\n",
      "4\n"
     ]
    }
   ],
   "source": [
    "# TUTORIAL 14  (attributes)\n",
    "# here we discus about the  dimension , shape ,size ,dtype, itemsize ;;\n",
    "# attributes of the array\n",
    "# ndim use to find the dimension\n",
    "a = np.array([1,2,3,4])\n",
    "print(\"one dimensional array\",a.ndim)\n",
    "print()\n",
    "\n",
    "b =np.array([[1,3,3],[1,2,4]])\n",
    "print(\"two dimesional array\",b.ndim)\n",
    "print()\n",
    "\n",
    "#shape\n",
    "\n",
    "\n",
    "print(\"shape of the array\")\n",
    "print(\"shape of array a is : \",a.shape)\n",
    "print()\n",
    "\n",
    "print(\"shape of array b is : \",b.shape)\n",
    "\n",
    "d=np.ones((2,3,4))\n",
    "print(d)\n",
    "print(\"shape of the array d is : \",np.shape(d))\n",
    "\n",
    "# size will tell you the number of elements of the array\n",
    "print(\"size\")\n",
    "print(a.size)\n",
    "print()\n",
    "\n",
    "\n",
    "# dtype will tell you the type of the data type\n",
    "print(\"tell you the data type of the array: \")\n",
    "print(b.dtype)\n",
    "print()\n",
    "\n",
    "# item size give  the size of the individual size fo the each item size\n",
    "print(\"the item size will give you in terms of the bytes \")\n",
    "print()\n",
    "print(b.itemsize)"
   ]
  },
  {
   "cell_type": "code",
   "execution_count": 24,
   "metadata": {},
   "outputs": [
    {
     "name": "stdout",
     "output_type": "stream",
     "text": [
      "float64\n",
      "\n",
      "[0 0 0 0 0]\n",
      "help to convert from one to another type\n",
      "[0. 0. 0. 0. 0.]\n"
     ]
    }
   ],
   "source": [
    "# TUTORIAL 15 data type\n",
    "a = np.zeros(5)\n",
    "print(a.dtype)\n",
    "b = np.zeros(6,dtype=np.int8)\n",
    "print()\n",
    "# astype used to change the data type\n",
    "print(a.astype(int))\n",
    "print(\"help to convert from one to another type\")\n",
    "print(np.float64(a))"
   ]
  },
  {
   "cell_type": "code",
   "execution_count": 1,
   "metadata": {},
   "outputs": [
    {
     "name": "stdout",
     "output_type": "stream",
     "text": [
      "[1 2 3 4 5]\n",
      "to access the index of 4  :  4\n",
      "access 4 index by negative value :  4\n",
      "\n",
      "two dimensional array is given by \n",
      "\n",
      "[[ 1  2  3  4]\n",
      " [ 4  5  6  7]\n",
      " [13  7  8  6]]\n",
      "single index :  [1 2 3 4]\n",
      "positive index :  6\n",
      "negative index is :  6\n",
      "two dimensional array is given by \n",
      "\n",
      "[[[  1   2   3   4]\n",
      "  [  4   5   6   7]\n",
      "  [  7   8   9   6]]\n",
      "\n",
      " [[  8   9  10  11]\n",
      "  [  9  10  99 100]\n",
      "  [  4   5   6   7]]]\n",
      "1\n",
      "7\n"
     ]
    }
   ],
   "source": [
    "# TUTORIAL 16 (slicing and indexing )help to create sub array from the array\n",
    "# indexing help to acces the elements of the array\n",
    "# accesing the elements form the one dimesional array \n",
    "import numpy as np\n",
    "a = np.array([1,2,3,4,5])\n",
    "print(a)\n",
    "print(\"to access the index of 4  : \",a[3])\n",
    "print(\"access 4 index by negative value : \",a[-2])\n",
    "print()\n",
    "print(\"two dimensional array is given by \")\n",
    "print()\n",
    "\n",
    "b = np.array([[1,2,3,4],[4,5,6,7],[13,7,8,6]])\n",
    "print(b)\n",
    "print(\"single index : \",b[0])\n",
    "print(\"positive index : \",b[1][2])\n",
    "print(\"negative index is : \",b[-1][-1])\n",
    "print(\"two dimensional array is given by \")\n",
    "print()\n",
    "\n",
    "c = np.array([\n",
    "    [\n",
    "        [1, 2, 3, 4],\n",
    "        [4, 5, 6, 7],\n",
    "        [7, 8, 9, 6]\n",
    "    ],\n",
    "    [\n",
    "        [8, 9, 10 , 11],\n",
    "        [9, 10, 99, 100],\n",
    "        [4, 5, 6, 7]\n",
    "    ]\n",
    "    \n",
    "])\n",
    "\n",
    "print(c)\n",
    "print(c[0][0][0])\n",
    "print(c[-1][-1][-1])"
   ]
  },
  {
   "cell_type": "code",
   "execution_count": 2,
   "metadata": {},
   "outputs": [
    {
     "name": "stdout",
     "output_type": "stream",
     "text": [
      "\n",
      "slicing in one dimensional array \n",
      "the array is [1 2 3 4 5]\n",
      "the elements within the 1 to 5 [2 3 4 5]\n",
      "give all the elements in the array :  [1 2 3 4 5]\n",
      "give the elements in the step 2 [2 4]\n",
      "\n",
      "slicing two dimensional array\n",
      "syntax is : array_name[start:end:step,start:end:step]\n",
      "[[ 1  2  3  4]\n",
      " [ 4  5  6  7]\n",
      " [13  7  8  6]]\n",
      "[[5]\n",
      " [7]]\n",
      "[[5 6 7]\n",
      " [7 8 6]]\n",
      "[[ 1  3]\n",
      " [ 4  6]\n",
      " [13  8]]\n",
      "\n",
      "slcing the three dimensional array\n",
      "array_name[start:end:step, start:end:step, start:end:step\n",
      "[[[  1   2   3   4]\n",
      "  [  4   5   6   7]\n",
      "  [  7   8   9   6]]\n",
      "\n",
      " [[  8   9  10  11]\n",
      "  [  9  10  99 100]\n",
      "  [  4   5   6   7]]]\n",
      "[[[  1   2   3   4]\n",
      "  [  4   5   6   7]\n",
      "  [  7   8   9   6]]\n",
      "\n",
      " [[  8   9  10  11]\n",
      "  [  9  10  99 100]\n",
      "  [  4   5   6   7]]]\n",
      "[[[ 4  6]\n",
      "  [ 7  9]]\n",
      "\n",
      " [[ 9 99]\n",
      "  [ 4  6]]]\n"
     ]
    }
   ],
   "source": [
    "# TUTORIAL 16 slicing operation\n",
    "# used to retrive the collection of values\n",
    "# syntax is given by the array_name[start:end:step], start->inclusive, starting index\n",
    "# end->exclusive, ending incex step -> difference between index\n",
    "print()\n",
    "print(\"slicing in one dimensional array \")\n",
    "print(\"the array is\",a)\n",
    "print(\"the elements within the 1 to 5\",a[1:5])\n",
    "print(\"give all the elements in the array : \",a[:])\n",
    "print(\"give the elements in the step 2\",a[1::2])\n",
    "print()\n",
    "\n",
    "print(\"slicing two dimensional array\")\n",
    "print(\"syntax is : array_name[start:end:step,start:end:step]\")\n",
    "print(b)\n",
    "print(b[1:,1:2])\n",
    "print(b[1:,1:])\n",
    "print(b[::,::2])\n",
    "print()\n",
    "\n",
    "print(\"slcing the three dimensional array\")\n",
    "print(\"array_name[start:end:step, start:end:step, start:end:step\")\n",
    "print(c)\n",
    "print(c[:,:,0:])\n",
    "print(c[:, 1:, 0:4:2])"
   ]
  },
  {
   "cell_type": "code",
   "execution_count": 3,
   "metadata": {},
   "outputs": [
    {
     "name": "stdout",
     "output_type": "stream",
     "text": [
      "integer indexing in one dimensional array :\n",
      "[1 2 3 4 5]\n",
      "[1 2 3 4 5 6 7 8 9]\n",
      "[2 5 6]\n",
      "[2, 4, 5]\n",
      "\n",
      "intger indexing in two dimensional array : \n"
     ]
    },
    {
     "ename": "NameError",
     "evalue": "name 'nparray' is not defined",
     "output_type": "error",
     "traceback": [
      "\u001b[1;31m---------------------------------------------------------------------------\u001b[0m",
      "\u001b[1;31mNameError\u001b[0m                                 Traceback (most recent call last)",
      "\u001b[1;32m<ipython-input-3-0d63bc05773e>\u001b[0m in \u001b[0;36m<module>\u001b[1;34m\u001b[0m\n\u001b[0;32m     12\u001b[0m \u001b[1;33m\u001b[0m\u001b[0m\n\u001b[0;32m     13\u001b[0m \u001b[0mprint\u001b[0m\u001b[1;33m(\u001b[0m\u001b[1;34m\"intger indexing in two dimensional array : \"\u001b[0m\u001b[1;33m)\u001b[0m\u001b[1;33m\u001b[0m\u001b[1;33m\u001b[0m\u001b[0m\n\u001b[1;32m---> 14\u001b[1;33m \u001b[0mb\u001b[0m \u001b[1;33m=\u001b[0m \u001b[0mnparray\u001b[0m\u001b[1;33m(\u001b[0m\u001b[1;33m[\u001b[0m\u001b[1;33m[\u001b[0m\u001b[1;36m1\u001b[0m\u001b[1;33m,\u001b[0m\u001b[1;36m2\u001b[0m\u001b[1;33m,\u001b[0m\u001b[1;36m3\u001b[0m\u001b[1;33m]\u001b[0m\u001b[1;33m,\u001b[0m\u001b[1;33m[\u001b[0m\u001b[1;36m4\u001b[0m\u001b[1;33m,\u001b[0m\u001b[1;36m5\u001b[0m\u001b[1;33m,\u001b[0m\u001b[1;36m6\u001b[0m\u001b[1;33m]\u001b[0m\u001b[1;33m,\u001b[0m\u001b[1;33m[\u001b[0m\u001b[1;36m7\u001b[0m\u001b[1;33m,\u001b[0m\u001b[1;36m8\u001b[0m\u001b[1;33m,\u001b[0m\u001b[1;36m9\u001b[0m\u001b[1;33m]\u001b[0m\u001b[1;33m]\u001b[0m\u001b[1;33m)\u001b[0m\u001b[1;33m\u001b[0m\u001b[1;33m\u001b[0m\u001b[0m\n\u001b[0m\u001b[0;32m     15\u001b[0m \u001b[0mprint\u001b[0m\u001b[1;33m(\u001b[0m\u001b[0mb\u001b[0m\u001b[1;33m)\u001b[0m\u001b[1;33m\u001b[0m\u001b[1;33m\u001b[0m\u001b[0m\n\u001b[0;32m     16\u001b[0m \u001b[0mprint\u001b[0m\u001b[1;33m(\u001b[0m\u001b[1;34m\"boolean indexing in the operation :\"\u001b[0m\u001b[1;33m)\u001b[0m\u001b[1;33m\u001b[0m\u001b[1;33m\u001b[0m\u001b[0m\n",
      "\u001b[1;31mNameError\u001b[0m: name 'nparray' is not defined"
     ]
    }
   ],
   "source": [
    "# TUTORIAL 17 advanced slicing \n",
    "# help to get the copy of the data\n",
    "# type of the advanced indexing (intger indexiing ,boolean indexing)\n",
    "print(\"integer indexing in one dimensional array :\")\n",
    "print(a)\n",
    "a = np.arange(1,10)\n",
    "print(a)\n",
    "index = np.array([1,4,5])\n",
    "print(a[index])\n",
    "print([2,4,5])\n",
    "print()\n",
    "\n",
    "print(\"intger indexing in two dimensional array : \")\n",
    "b = nparray([[1,2,3],[4,5,6],[7,8,9]])\n",
    "print(b)\n",
    "print(\"boolean indexing in the operation :\")\n",
    "print(a[a<4])\n",
    "print(b[[0,2],[2,0]])"
   ]
  },
  {
   "cell_type": "code",
   "execution_count": 4,
   "metadata": {},
   "outputs": [
    {
     "name": "stdout",
     "output_type": "stream",
     "text": [
      "[[1. 1. 1.]\n",
      " [1. 1. 1.]]\n",
      "scalar operation in arrays\n",
      "[1 2 3 4]\n",
      "adding scalar 2 to array a [3 4 5 6]\n",
      "multipling scalar 2 to array a [2 4 6 8]\n",
      "subtracting scalar 2 to array a [-1  0  1  2]\n",
      "division scalar 2 to array a [0.5 1.  1.5 2. ]\n",
      "power of  scalar 2 to array a [ 1  4  9 16]\n",
      "\n",
      "adding scalar 2 to array to two dimesional array b [[2. 2. 2.]\n",
      " [2. 2. 2.]]\n",
      "\n",
      "operation between two arrays\n",
      "adition of two different one dimentional array: [3 5 7 9]\n",
      "multiplication of two differen one dimensional array : [ 2  6 12 20]\n",
      "subtracriont of two differen one dimensional array : [-1 -1 -1 -1]\n",
      " division of two differen one dimensional array : [0.5        0.66666667 0.75       0.8       ]\n",
      "modulous of two differen one dimensional array : [1 2 3 4]\n",
      "power of the  of two differen one dimensional array : [   1    8   81 1024]\n",
      "subtracrion of two differen one dimensional array : [-1 -1 -1 -1]\n",
      "\n",
      "\n",
      "\n",
      "\n",
      "[[1 2]\n",
      " [3 4]]\n",
      "[[6 7]\n",
      " [8 9]]\n",
      "adition of two different        two dimentional array: [[ 7  9]\n",
      " [11 13]]\n",
      "\n",
      "\n",
      "multiplication of two differen  two dimensional array : [[ 6 14]\n",
      " [24 36]]\n",
      "\n",
      "\n",
      "subtracriont of two differen    two dimensional array : [[-5 -5]\n",
      " [-5 -5]]\n",
      "\n",
      "\n",
      " division of two differen       two dimensional array : [[0.16666667 0.28571429]\n",
      " [0.375      0.44444444]]\n",
      "\n",
      "\n",
      "modulous of two differen        two dimensional array : [[1 2]\n",
      " [3 4]]\n",
      "\n",
      "\n",
      "power of the  of two differen   two dimensional array : [[     1    128]\n",
      " [  6561 262144]]\n",
      "\n",
      "\n",
      "subtracrion of two differen     two dimensional array : [[-5 -5]\n",
      " [-5 -5]]\n",
      "\n",
      "\n"
     ]
    }
   ],
   "source": [
    "# airthmetic operation is numpy\n",
    "# using scalars\n",
    "import numpy as np\n",
    "a = np.arange(1,5)\n",
    "b = np.ones((2,3))\n",
    "print(b)\n",
    "print(\"scalar operation in arrays\")\n",
    "print(a)\n",
    "print(\"adding scalar 2 to array a\",a+2)\n",
    "print(\"multipling scalar 2 to array a\",a*2)\n",
    "print(\"subtracting scalar 2 to array a\",a-2)\n",
    "print(\"division scalar 2 to array a\",a/2)\n",
    "print(\"power of  scalar 2 to array a\",a**2)\n",
    "print()\n",
    "print(\"adding scalar 2 to array to two dimesional array b\",b*2)\n",
    "print()\n",
    "print(\"operation between two arrays\")\n",
    "c=np.arange(2,6)\n",
    "print(\"adition of two different one dimentional array:\",a+c)\n",
    "print(\"multiplication of two differen one dimensional array :\",a*c)\n",
    "print(\"subtracriont of two differen one dimensional array :\",a-c)\n",
    "print(\" division of two differen one dimensional array :\",a/c)\n",
    "print(\"modulous of two differen one dimensional array :\",a%c)\n",
    "print(\"power of the  of two differen one dimensional array :\",a**c)\n",
    "print(\"subtracrion of two differen one dimensional array :\",a-c)\n",
    "print(\"\\n\")\n",
    "print(\"\\n\")\n",
    "x=np.array([[1,2],[3,4]])\n",
    "y=np.array([[6,7],[8,9]])\n",
    "print(x)\n",
    "print(y)\n",
    "print(\"adition of two different        two dimentional array:\",       x+y)\n",
    "print(\"\\n\")\n",
    "print(\"multiplication of two differen  two dimensional array :\",x*y)\n",
    "print(\"\\n\")\n",
    "print(\"subtracriont of two differen    two dimensional array :\",  x-y)\n",
    "print(\"\\n\")\n",
    "\n",
    "print(\" division of two differen       two dimensional array :\",     x/y)\n",
    "print(\"\\n\")\n",
    "print(\"modulous of two differen        two dimensional array :\",      x%y)\n",
    "print(\"\\n\")\n",
    "print(\"power of the  of two differen   two dimensional array :\", x**y)\n",
    "print(\"\\n\")\n",
    "print(\"subtracrion of two differen     two dimensional array :\",   x-y)\n",
    "print(\"\\n\")"
   ]
  },
  {
   "cell_type": "code",
   "execution_count": 6,
   "metadata": {},
   "outputs": [
    {
     "name": "stdout",
     "output_type": "stream",
     "text": [
      "addition of the array of different size :\n",
      "[1 1 1 1 1]\n",
      "[1 2 3 4 5]\n",
      "[2 3 4 5 6]\n"
     ]
    }
   ],
   "source": [
    "# 19 TUTORIAL (BRODCASTING)\n",
    "# broadcasting will adjust the required element  in oreder to  do the operation \n",
    "# like it will strech the scalar and add with the array give the result\n",
    "print(\"addition of the array of different size :\")\n",
    "a= np.ones(5,dtype=int)\n",
    "print(a)\n",
    "b = np.array([1,2,3,4,5])\n",
    "print(b)\n",
    "print(a+b)\n",
    "# broadcast rules says the shape shoulb same or the one of any one"
   ]
  },
  {
   "cell_type": "code",
   "execution_count": null,
   "metadata": {},
   "outputs": [],
   "source": [
    "# TUTORIAL 20 (RESHAPE ,RESIZE)\n",
    "import numpy as np\n",
    "print()\n",
    "print(\"reshaping array\")\n",
    "print()\n",
    "\n",
    "# using reshape funtion : give new array without chaging the data\n",
    "# syntax numpy.reshape(array,shape,order)\n",
    "a = np.arange(10)\n",
    "print(a)\n",
    "print(\"shape\",a.shape)\n",
    "b=np.reshape(a,(5,2))\n",
    "print(\"reshape of the array is given by\",b)\n",
    "c=np.reshape(a,(5,2),order=\"f\")\n",
    "print(c)\n",
    "print(a.reshape((2,5)))\n",
    "print()\n",
    "print(\"resize array is given \")\n",
    "print(np.resize(a,(4,3)))\n",
    "print(np.resize(a,(4,4)))\n",
    "\n",
    "\n",
    "\n",
    "#help(np.reshpae)"
   ]
  },
  {
   "cell_type": "code",
   "execution_count": 1,
   "metadata": {},
   "outputs": [
    {
     "name": "stdout",
     "output_type": "stream",
     "text": [
      "array flatening\n"
     ]
    },
    {
     "ename": "NameError",
     "evalue": "name 'b' is not defined",
     "output_type": "error",
     "traceback": [
      "\u001b[1;31m---------------------------------------------------------------------------\u001b[0m",
      "\u001b[1;31mNameError\u001b[0m                                 Traceback (most recent call last)",
      "\u001b[1;32m<ipython-input-1-4132477b9050>\u001b[0m in \u001b[0;36m<module>\u001b[1;34m\u001b[0m\n\u001b[0;32m      3\u001b[0m \u001b[1;31m#flaten by using flaten method\u001b[0m\u001b[1;33m\u001b[0m\u001b[1;33m\u001b[0m\u001b[1;33m\u001b[0m\u001b[0m\n\u001b[0;32m      4\u001b[0m \u001b[1;31m# syntax arrayname.flatten(oreder)\u001b[0m\u001b[1;33m\u001b[0m\u001b[1;33m\u001b[0m\u001b[1;33m\u001b[0m\u001b[0m\n\u001b[1;32m----> 5\u001b[1;33m \u001b[0mprint\u001b[0m\u001b[1;33m(\u001b[0m\u001b[0mb\u001b[0m\u001b[1;33m)\u001b[0m\u001b[1;33m\u001b[0m\u001b[1;33m\u001b[0m\u001b[0m\n\u001b[0m\u001b[0;32m      6\u001b[0m \u001b[0mprint\u001b[0m\u001b[1;33m(\u001b[0m\u001b[1;34m\"flatten the array is\"\u001b[0m\u001b[1;33m,\u001b[0m\u001b[0mb\u001b[0m\u001b[1;33m.\u001b[0m\u001b[0mflatten\u001b[0m\u001b[1;33m(\u001b[0m\u001b[1;33m)\u001b[0m\u001b[1;33m)\u001b[0m\u001b[1;33m\u001b[0m\u001b[1;33m\u001b[0m\u001b[0m\n\u001b[0;32m      7\u001b[0m \u001b[0mprint\u001b[0m\u001b[1;33m(\u001b[0m\u001b[1;34m\"flatten coloumn wise\"\u001b[0m\u001b[1;33m,\u001b[0m\u001b[0mb\u001b[0m\u001b[1;33m.\u001b[0m\u001b[0mflatten\u001b[0m\u001b[1;33m(\u001b[0m\u001b[0morder\u001b[0m\u001b[1;33m=\u001b[0m\u001b[1;34m\"f\"\u001b[0m\u001b[1;33m)\u001b[0m\u001b[1;33m)\u001b[0m\u001b[1;33m\u001b[0m\u001b[1;33m\u001b[0m\u001b[0m\n",
      "\u001b[1;31mNameError\u001b[0m: name 'b' is not defined"
     ]
    }
   ],
   "source": [
    "# TUTORIAL 21 (flatten and ravel funtions)\n",
    "print(\"array flatening\")\n",
    "#flaten by using flaten method\n",
    "# syntax arrayname.flatten(oreder)\n",
    "print(b)\n",
    "print(\"flatten the array is\",b.flatten())\n",
    "print(\"flatten coloumn wise\",b.flatten(order=\"f\"))\n",
    "print()\n",
    "\n",
    "print(\"ravel\")\n",
    "#syntax is numpy.ravel(a,oreder=\"f\")\n",
    "a = np.array([[1,2,3],[4,5,6]])\n",
    "print(a)\n",
    "print(np.ravel(a,order=\"f\"))\n",
    "b=np.array([[2,4,6],[7,433,2]])\n",
    "print(b.ravel(order=\"c\"))\n",
    "print()\n",
    "\n"
   ]
  },
  {
   "cell_type": "code",
   "execution_count": 7,
   "metadata": {},
   "outputs": [
    {
     "name": "stdout",
     "output_type": "stream",
     "text": [
      "[[ 1  2]\n",
      " [ 3  4]\n",
      " [ 5  6]\n",
      " [ 7  8]\n",
      " [ 9 10]]\n",
      "\n",
      "the trancpose is : [[ 1  3  5  7  9]\n",
      " [ 2  4  6  8 10]]\n",
      "shape (2, 3, 4)\n",
      "[[[ 1  2  3  4]\n",
      "  [ 5  6  7  8]\n",
      "  [ 9 10 11 12]]\n",
      "\n",
      " [[13 14 15 16]\n",
      "  [17 18 19 20]\n",
      "  [21 22 23 24]]]\n",
      "transpose is:  [[[ 1 13]\n",
      "  [ 5 17]\n",
      "  [ 9 21]]\n",
      "\n",
      " [[ 2 14]\n",
      "  [ 6 18]\n",
      "  [10 22]]\n",
      "\n",
      " [[ 3 15]\n",
      "  [ 7 19]\n",
      "  [11 23]]\n",
      "\n",
      " [[ 4 16]\n",
      "  [ 8 20]\n",
      "  [12 24]]]\n",
      "for two rows transpose is:  [[[ 1  2  3  4]\n",
      "  [ 5  6  7  8]\n",
      "  [ 9 10 11 12]]\n",
      "\n",
      " [[13 14 15 16]\n",
      "  [17 18 19 20]\n",
      "  [21 22 23 24]]]\n",
      "for three rows transpose is:  [[[ 1 13]\n",
      "  [ 2 14]\n",
      "  [ 3 15]\n",
      "  [ 4 16]]\n",
      "\n",
      " [[ 5 17]\n",
      "  [ 6 18]\n",
      "  [ 7 19]\n",
      "  [ 8 20]]\n",
      "\n",
      " [[ 9 21]\n",
      "  [10 22]\n",
      "  [11 23]\n",
      "  [12 24]]]\n",
      "shape (4, 3, 2)\n",
      "\n",
      "gives reverse of the array [[ 1  3  5  7  9]\n",
      " [ 2  4  6  8 10]]\n",
      "gives the same [[ 1  2]\n",
      " [ 3  4]\n",
      " [ 5  6]\n",
      " [ 7  8]\n",
      " [ 9 10]]\n",
      "\n"
     ]
    }
   ],
   "source": [
    "# TUTORIAL 22 (transpose and swapaxes)\n",
    "# trancepose funtion\n",
    "# syntax numpy.transpose(array,axes=none)\n",
    "array1 = np.arange(1,11).reshape(5,2)\n",
    "print(array1)\n",
    "print()\n",
    "print(\"the trancpose is :\",np.transpose(array1))\n",
    "\n",
    "# transpose of 3d array\n",
    "a=np.arange(1,25).reshape(2,3,4)\n",
    "print(\"shape\",np.shape(a))\n",
    "print(a)\n",
    "print(\"transpose is: \",np.transpose(a))\n",
    "print(\"for two rows transpose is: \",np.transpose(a,(0,1,2)))\n",
    "print(\"for three rows transpose is: \",np.transpose(a,(1,2,0)))\n",
    "print(\"shape\",np.shape(np.transpose(a)))\n",
    "print()\n",
    "print(\"gives reverse of the array\",np.transpose(array1,axes=(1,0)))\n",
    "print(\"gives the same\",np.transpose(array1,axes=(0,1)))\n",
    "print()\n",
    "#syntax name.transpose(axie)"
   ]
  },
  {
   "cell_type": "code",
   "execution_count": 8,
   "metadata": {},
   "outputs": [
    {
     "name": "stdout",
     "output_type": "stream",
     "text": [
      "[[1 2]\n",
      " [3 4]]\n",
      "[[1 3]\n",
      " [2 4]]\n",
      "[[1 3]\n",
      " [2 4]]\n"
     ]
    }
   ],
   "source": [
    "a = np.array([[1,2],[3,4]])\n",
    "print(a)\n",
    "print(a.transpose())\n",
    "print(a.T)"
   ]
  },
  {
   "cell_type": "code",
   "execution_count": 2,
   "metadata": {},
   "outputs": [
    {
     "ename": "NameError",
     "evalue": "name 'np' is not defined",
     "output_type": "error",
     "traceback": [
      "\u001b[1;31m---------------------------------------------------------------------------\u001b[0m",
      "\u001b[1;31mNameError\u001b[0m                                 Traceback (most recent call last)",
      "\u001b[1;32m<ipython-input-2-2304ce304f17>\u001b[0m in \u001b[0;36m<module>\u001b[1;34m\u001b[0m\n\u001b[0;32m      1\u001b[0m \u001b[1;31m# swap axes funtion use to interchage the array\u001b[0m\u001b[1;33m\u001b[0m\u001b[1;33m\u001b[0m\u001b[1;33m\u001b[0m\u001b[0m\n\u001b[0;32m      2\u001b[0m \u001b[1;31m# numpy.swaxes(array,axis)\u001b[0m\u001b[1;33m\u001b[0m\u001b[1;33m\u001b[0m\u001b[1;33m\u001b[0m\u001b[0m\n\u001b[1;32m----> 3\u001b[1;33m \u001b[0mprint\u001b[0m\u001b[1;33m(\u001b[0m\u001b[1;34m\"the array after swap is\"\u001b[0m\u001b[1;33m,\u001b[0m\u001b[0mnp\u001b[0m\u001b[1;33m.\u001b[0m\u001b[0mswapaxes\u001b[0m\u001b[1;33m(\u001b[0m\u001b[0ma\u001b[0m\u001b[1;33m,\u001b[0m\u001b[1;36m0\u001b[0m\u001b[1;33m,\u001b[0m\u001b[1;36m1\u001b[0m\u001b[1;33m)\u001b[0m\u001b[1;33m)\u001b[0m\u001b[1;33m\u001b[0m\u001b[1;33m\u001b[0m\u001b[0m\n\u001b[0m\u001b[0;32m      4\u001b[0m \u001b[0mprint\u001b[0m\u001b[1;33m(\u001b[0m\u001b[1;34m\"the array after swap is\"\u001b[0m\u001b[1;33m,\u001b[0m\u001b[0mnp\u001b[0m\u001b[1;33m.\u001b[0m\u001b[0mswapaxes\u001b[0m\u001b[1;33m(\u001b[0m\u001b[0ma\u001b[0m\u001b[1;33m,\u001b[0m\u001b[1;36m0\u001b[0m\u001b[1;33m,\u001b[0m\u001b[1;36m1\u001b[0m\u001b[1;33m)\u001b[0m\u001b[1;33m)\u001b[0m\u001b[1;33m\u001b[0m\u001b[1;33m\u001b[0m\u001b[0m\n\u001b[0;32m      5\u001b[0m \u001b[0mprint\u001b[0m\u001b[1;33m(\u001b[0m\u001b[1;34m\"array a is \"\u001b[0m\u001b[1;33m,\u001b[0m\u001b[0mnp\u001b[0m\u001b[1;33m.\u001b[0m\u001b[0marange\u001b[0m\u001b[1;33m(\u001b[0m\u001b[1;36m1\u001b[0m\u001b[1;33m,\u001b[0m\u001b[1;36m25\u001b[0m\u001b[1;33m)\u001b[0m\u001b[1;33m.\u001b[0m\u001b[0mreshape\u001b[0m\u001b[1;33m(\u001b[0m\u001b[1;36m2\u001b[0m\u001b[1;33m,\u001b[0m\u001b[1;36m3\u001b[0m\u001b[1;33m,\u001b[0m\u001b[1;36m4\u001b[0m\u001b[1;33m)\u001b[0m\u001b[1;33m)\u001b[0m\u001b[1;33m\u001b[0m\u001b[1;33m\u001b[0m\u001b[0m\n",
      "\u001b[1;31mNameError\u001b[0m: name 'np' is not defined"
     ]
    }
   ],
   "source": [
    "# swap axes funtion use to interchage the array\n",
    "# numpy.swaxes(array,axis)\n",
    "print(\"the array after swap is\",np.swapaxes(a,0,1))\n",
    "print(\"the array after swap is\",np.swapaxes(a,0,1))\n",
    "print(\"array a is \",np.arange(1,25).reshape(2,3,4))\n",
    "print()\n"
   ]
  },
  {
   "cell_type": "code",
   "execution_count": 3,
   "metadata": {},
   "outputs": [
    {
     "ename": "NameError",
     "evalue": "name 'np' is not defined",
     "output_type": "error",
     "traceback": [
      "\u001b[1;31m---------------------------------------------------------------------------\u001b[0m",
      "\u001b[1;31mNameError\u001b[0m                                 Traceback (most recent call last)",
      "\u001b[1;32m<ipython-input-3-939fffa852b4>\u001b[0m in \u001b[0;36m<module>\u001b[1;34m\u001b[0m\n\u001b[0;32m      2\u001b[0m \u001b[1;31m# concatinate help to join two array\u001b[0m\u001b[1;33m\u001b[0m\u001b[1;33m\u001b[0m\u001b[1;33m\u001b[0m\u001b[0m\n\u001b[0;32m      3\u001b[0m \u001b[1;31m# syntax numpy.concatenate(arrays,axis=0,out=None)\u001b[0m\u001b[1;33m\u001b[0m\u001b[1;33m\u001b[0m\u001b[1;33m\u001b[0m\u001b[0m\n\u001b[1;32m----> 4\u001b[1;33m \u001b[0ma\u001b[0m \u001b[1;33m=\u001b[0m \u001b[0mnp\u001b[0m\u001b[1;33m.\u001b[0m\u001b[0marange\u001b[0m\u001b[1;33m(\u001b[0m\u001b[1;36m1\u001b[0m\u001b[1;33m,\u001b[0m\u001b[1;36m5\u001b[0m\u001b[1;33m)\u001b[0m\u001b[1;33m\u001b[0m\u001b[1;33m\u001b[0m\u001b[0m\n\u001b[0m\u001b[0;32m      5\u001b[0m \u001b[0mb\u001b[0m \u001b[1;33m=\u001b[0m \u001b[0mnp\u001b[0m\u001b[1;33m.\u001b[0m\u001b[0marange\u001b[0m\u001b[1;33m(\u001b[0m\u001b[1;36m6\u001b[0m\u001b[1;33m)\u001b[0m\u001b[1;33m\u001b[0m\u001b[1;33m\u001b[0m\u001b[0m\n\u001b[0;32m      6\u001b[0m \u001b[0mc\u001b[0m \u001b[1;33m=\u001b[0m \u001b[0mnp\u001b[0m\u001b[1;33m.\u001b[0m\u001b[0marange\u001b[0m\u001b[1;33m(\u001b[0m\u001b[1;36m4\u001b[0m\u001b[1;33m)\u001b[0m\u001b[1;33m\u001b[0m\u001b[1;33m\u001b[0m\u001b[0m\n",
      "\u001b[1;31mNameError\u001b[0m: name 'np' is not defined"
     ]
    }
   ],
   "source": [
    "#TUTORIAL (SPLITING AND JOINING ARRAY)\n",
    "# concatinate help to join two array\n",
    "# syntax numpy.concatenate(arrays,axis=0,out=None)\n",
    "a = np.arange(1,5)\n",
    "b = np.arange(6)\n",
    "c = np.arange(4)\n",
    "print(\"joined array is\",np.concatenate((a,b)))\n",
    "\n",
    "print(\"joining two or more array\",np.concatenate((a,b,c)))\n",
    "c = np.zeros(10)\n",
    "print(\"the result is stored in c array\",np.concatenate((a,b),out=c))\n"
   ]
  },
  {
   "cell_type": "code",
   "execution_count": 9,
   "metadata": {},
   "outputs": [
    {
     "name": "stdout",
     "output_type": "stream",
     "text": [
      "conacatenated 2d array is [[1 2]\n",
      " [2 3]\n",
      " [5 6]]\n",
      "vstack\n",
      "vstack output is [[0 1 2 3 4]\n",
      " [0 1 2 3 4]]\n",
      "hstack\n",
      "\n",
      "hstack output is : [0 1 2 3 4 5 0 1 2 3 4]\n"
     ]
    }
   ],
   "source": [
    "# joining two dimensional array\n",
    "a = np.array([[1,2],[2,3]])\n",
    "b = np.array([[5,6]])\n",
    "print(\"conacatenated 2d array is\",np.concatenate((a,b)))\n",
    "# vstack\n",
    "print(\"vstack\")\n",
    "# syntax ;numpy.vstack(tuple)\n",
    "a = np.arange(6)\n",
    "n = np.arange(5)\n",
    "c = np.arange(5)\n",
    "#print(\"vstack output is :\",np.vstack((n,a)))\n",
    "print(\"vstack output is\",np.vstack((n,c)))\n",
    "# hstack\n",
    "print(\"hstack\")\n",
    "print()\n",
    "print(\"hstack output is :\",np.hstack((a,n)))"
   ]
  },
  {
   "cell_type": "code",
   "execution_count": 5,
   "metadata": {},
   "outputs": [
    {
     "name": "stdout",
     "output_type": "stream",
     "text": [
      "give 3 array [array([1, 2, 3]), array([4, 5, 6]), array([7, 8, 9])]\n",
      "\n",
      "give 2 array [array([[0, 1],\n",
      "       [2, 3],\n",
      "       [4, 5]]), array([[ 6,  7],\n",
      "       [ 8,  9],\n",
      "       [10, 11]])]\n",
      "\n",
      "[array([[0, 1],\n",
      "       [2, 3],\n",
      "       [4, 5]]), array([[ 6,  7],\n",
      "       [ 8,  9],\n",
      "       [10, 11]])]\n"
     ]
    }
   ],
   "source": [
    "#split the array\n",
    "#syntax numpy.split(array,section,axis=0)\n",
    "import numpy as np\n",
    "a = np.arange(1,10)\n",
    "print(\"give 3 array\",np.split(a,3))\n",
    "print()\n",
    "a = np.arange(0,12).reshape(6,2)\n",
    "print(\"give 2 array\",np.split(a,2))\n",
    "print()\n",
    "print(np.vsplit(a,2))\n"
   ]
  },
  {
   "cell_type": "code",
   "execution_count": 6,
   "metadata": {},
   "outputs": [
    {
     "name": "stdout",
     "output_type": "stream",
     "text": [
      "array a is [1 2 3 4]\n",
      "the updated array is : [ 1 50  2  3  4]\n",
      "when we insert the floating value : [ 1 50  2  3  4]\n",
      "inserting the value in different places : [ 1 50  2  3 50  4]\n",
      "\n",
      "[[1 2]\n",
      " [3 4]]\n",
      "\n",
      "the 2d updated array is : [  1 230   2   3   4]\n",
      "the 2d array is : [[ 1  2]\n",
      " [55 55]\n",
      " [ 3  4]]\n",
      "the 2d array is : [[ 1 55  2]\n",
      " [ 3 55  4]]\n",
      "the 2d array is : [[ 1  2]\n",
      " [55 25]\n",
      " [ 3  4]]\n"
     ]
    }
   ],
   "source": [
    "# TOTORIAL 27 (INSERT AND DELETE THE ELEMENTS)\n",
    "#INSERT help to add the elemets in the array\n",
    "#syntax is numpy.insert(array,index,values,axis=None)\n",
    "import numpy as np\n",
    "a = np.arange(1,5)\n",
    "print(\"array a is\",a)\n",
    "print(\"the updated array is :\",np.insert(a,1,50))\n",
    "print(\"when we insert the floating value :\",np.insert(a,1,50.00))\n",
    "# it will convert it into int and the insert\n",
    "print(\"inserting the value in different places :\",np.insert(a,(1,3),50))\n",
    "print()\n",
    "a = np.array([[1,2],[3,4]])\n",
    "print(a)\n",
    "print()\n",
    "print(\"the 2d updated array is :\",np.insert(a,1,230))\n",
    "print(\"the 2d array is :\",np.insert(a,1,55,axis=0))\n",
    "print(\"the 2d array is :\",np.insert(a,1,55,axis=1))\n",
    "print(\"the 2d array is :\",np.insert(a,1,[55,25],axis=0))\n",
    "# print(\"the 2d array is :\",np.insert(a,1,[25,35,55],axis=0))\n"
   ]
  },
  {
   "cell_type": "code",
   "execution_count": 2,
   "metadata": {},
   "outputs": [
    {
     "ename": "SyntaxError",
     "evalue": "unexpected EOF while parsing (<ipython-input-2-e6d00f91db25>, line 10)",
     "output_type": "error",
     "traceback": [
      "\u001b[1;36m  File \u001b[1;32m\"<ipython-input-2-e6d00f91db25>\"\u001b[1;36m, line \u001b[1;32m10\u001b[0m\n\u001b[1;33m    # numpy.delet(array,obj,axis=none)\u001b[0m\n\u001b[1;37m                                      ^\u001b[0m\n\u001b[1;31mSyntaxError\u001b[0m\u001b[1;31m:\u001b[0m unexpected EOF while parsing\n"
     ]
    }
   ],
   "source": [
    "# append funtion help to add the values at the end of the array\n",
    "# syntax is numpy.append(array, vlues, axis=none)\n",
    "import numpy as np\n",
    "z = np.array([4,4,3,3])\n",
    "print(z)\n",
    "print(\"the 25 added at the end is \",np.append(z,55)\n",
    "# c = np.array([[2,3],[9,8]])\n",
    "#print(\"the 25 added in 2d array \",np.append(z,[[4,5]],axis=0))\n",
    "# delet funtion help to remove the elements from theliat \n",
    "# numpy.delet(array,obj,axis=none)"
   ]
  },
  {
   "cell_type": "code",
   "execution_count": 11,
   "metadata": {},
   "outputs": [
    {
     "name": "stdout",
     "output_type": "stream",
     "text": [
      "[4 4 3 3]\n",
      "the 25 added at the end is  [ 4  4  3  3 55]\n"
     ]
    }
   ],
   "source": [
    "import numpy as np\n",
    "z = np.array([4,4,3,3])\n",
    "print(z)\n",
    "print(\"the 25 added at the end is \",np.append(z,55))"
   ]
  },
  {
   "cell_type": "code",
   "execution_count": 12,
   "metadata": {},
   "outputs": [
    {
     "name": "stdout",
     "output_type": "stream",
     "text": [
      "remove 2 from the a [1 2 4]\n",
      "[[1 2 3 4]]\n"
     ]
    }
   ],
   "source": [
    "# delete will\n",
    "import numpy as np\n",
    "a = np.array([[1,2,3,4]])\n",
    "print(\"remove 2 from the a\",np.delete(a,2))\n",
    "print(a)"
   ]
  },
  {
   "cell_type": "code",
   "execution_count": 4,
   "metadata": {},
   "outputs": [
    {
     "name": "stdout",
     "output_type": "stream",
     "text": [
      "the addintion (a+b) is : [[11 22]\n",
      " [33 44]]\n",
      "multiplication of the matrix and b is: [[ 70 100]\n",
      " [150 220]]\n",
      "multiplication of the matrix and b is: [[ 70 100]\n",
      " [150 220]]\n",
      "trancepose of the matrix [[1 3]\n",
      " [2 4]]\n"
     ]
    }
   ],
   "source": [
    "# TUTORIAL 25 (MATRIX I)\n",
    "# rectangular arangement of data is called matrix \n",
    "# horizotal ar called rows and the vertical is called the columns\n",
    "# numpy is the library used to creat the matrix\n",
    "# addition of matrix\n",
    "import numpy as np \n",
    "a = np.array([[1,2],[3,4]])\n",
    "b = np.array([[10,20],[30,40]])\n",
    "print(\"the addintion (a+b) is :\",a+b)\n",
    "# multiplication of the matrix\n",
    "print(\"multiplication of the matrix and b is:\",a.dot(b))\n",
    "print(\"multiplication of the matrix and b is:\",np.dot(a,b))\n",
    "# help(np.dot)\n",
    "print(\"trancepose of the matrix\",np.transpose(a))"
   ]
  },
  {
   "cell_type": "code",
   "execution_count": 12,
   "metadata": {},
   "outputs": [
    {
     "name": "stdout",
     "output_type": "stream",
     "text": [
      "type one [[1 2]\n",
      " [3 4]]\n",
      "type two [[10 20]\n",
      " [30 40]]\n",
      "the addintion (a+b) is : [[11 22]\n",
      " [33 44]]\n",
      "type one matrix multipllication: [[ 70 100]\n",
      " [150 220]]\n",
      "type one matrix multipllication: [[ 70 100]\n",
      " [150 220]]\n",
      "type one matrix multipllication: [[ 70 100]\n",
      " [150 220]]\n",
      "type one of trancepose of the matrix [[1 3]\n",
      " [2 4]]\n",
      "type two of trancepose of the matrix [[1 3]\n",
      " [2 4]]\n",
      "to know more about the matrix\n"
     ]
    }
   ],
   "source": [
    "# TUTORIAL 26 (MATRIX class)\n",
    "#syntax numpy.matrix(data,dtype=none,copy=True)\n",
    "a = np.matrix(\"1 2 ;3 4\")\n",
    "print(\"type one\",a)\n",
    "b = np.matrix([[10,20],[30,40]])\n",
    "print(\"type two\",b)\n",
    "\n",
    "print(\"the addintion (a+b) is :\",a+b)\n",
    "# multiplication of the matrix\n",
    "print(\"type one matrix multipllication:\",a*b)\n",
    "print(\"type one matrix multipllication:\",np.dot(a,b))\n",
    "print(\"type one matrix multipllication:\",a.dot(b))\n",
    "# help(np.dot)\n",
    "print(\"type one of trancepose of the matrix\",a.T)\n",
    "print(\"type two of trancepose of the matrix\",np.transpose(a))\n",
    "\n",
    "#print(\"type one of trancepose of the matrix\",matrix.T(a))\n",
    "print(\"to know more about the matrix\")\n",
    "# help(np.matrix)"
   ]
  },
  {
   "cell_type": "code",
   "execution_count": 2,
   "metadata": {},
   "outputs": [
    {
     "name": "stdout",
     "output_type": "stream",
     "text": [
      "[[1 2]\n",
      " [3 4]]\n",
      "inverse of matrix [[-2.   1. ]\n",
      " [ 1.5 -0.5]]\n"
     ]
    }
   ],
   "source": [
    "# TUTORIAL 27 (INVERSE OF MATRIX)\n",
    "# we can solve te lineat algebric equation\n",
    "# here we can alsp perform the inverse ,power of matrix, and solve the liner equation and determinants\n",
    "#syntax to inverse the matrix numpy.linalg.inv(matrix)\n",
    "import numpy as np\n",
    "a = np.array([[1,2],[3,4]])\n",
    "print(a)\n",
    "print(\"inverse of matrix\",np.linalg.inv(a))\n",
    "# help(np.linalg.inv())\n",
    "\n"
   ]
  },
  {
   "cell_type": "code",
   "execution_count": 6,
   "metadata": {},
   "outputs": [
    {
     "name": "stdout",
     "output_type": "stream",
     "text": [
      "matrix a is : [[1 2]\n",
      " [3 4]]\n",
      "matrix of power 2 is: [[ 7 10]\n",
      " [15 22]]\n",
      "matrix power 3 is: [[ 37  54]\n",
      " [ 81 118]]\n",
      "\n",
      "matrix power 0 is: [[1 0]\n",
      " [0 1]]\n",
      "\n",
      "matrix power -2 is: [[ 5.5  -2.5 ]\n",
      " [-3.75  1.75]]\n",
      "\n",
      "the dot product of the a with a is : [[ 7 10]\n",
      " [15 22]]\n"
     ]
    }
   ],
   "source": [
    "# TUTORIAL 28 (power  OF MATRIX)\n",
    "# matrix power funtion\n",
    "# syntax numpy.linalg.matrix_power(a,n)\n",
    "print(\"matrix a is :\",a)\n",
    "print(\"matrix of power 2 is:\",np.linalg.matrix_power(a,2))\n",
    "print(\"matrix power 3 is:\",np.linalg.matrix_power(a,3))\n",
    "print()\n",
    "print(\"matrix power 0 is:\",np.linalg.matrix_power(a,0))\n",
    "print()\n",
    "print(\"matrix power -2 is:\",np.linalg.matrix_power(a,-2))\n",
    "print()\n",
    "print(\"the dot product of the a with a is :\",np.dot(a,a))"
   ]
  },
  {
   "cell_type": "code",
   "execution_count": 8,
   "metadata": {},
   "outputs": [
    {
     "name": "stdout",
     "output_type": "stream",
     "text": [
      "the value the x and y is given by  [2. 3.]\n",
      "the value of x and y and z is given by  [2. 3. 1.]\n"
     ]
    }
   ],
   "source": [
    "# TUTORIAL 29 (linear equation)\n",
    "# syntax : numpy.linalg.solve(a,b)\n",
    "# solve the following eqjuation 3x+y=9,x+2y=8\n",
    "a = np.array([[3,1],[1,2]])\n",
    "b = np.array([9,8])\n",
    "print(\"the value the x and y is given by \",np.linalg.solve(a,b))\n",
    "# solve the following equation 6x+2y-5z=13, 3x+3y-2z=13, 7x+5y-3z=26\n",
    "a = np.array([[6,2,-5],[3,3,-2],[7,5,-3]])\n",
    "c = np.array([13,13,26])\n",
    "print(\"the value of x and y and z is given by \",np.linalg.solve(a,c))"
   ]
  },
  {
   "cell_type": "code",
   "execution_count": 12,
   "metadata": {},
   "outputs": [
    {
     "name": "stdout",
     "output_type": "stream",
     "text": [
      "[[1 2]\n",
      " [3 4]]\n",
      "determinant of the matrix a is :  -2.0000000000000004\n",
      "-2.0\n",
      "[[1 2 3]\n",
      " [3 4 5]\n",
      " [7 8 9]]\n",
      "determinant of the matrix a is :  -1.4591502609359235e-15\n",
      "-0.0\n"
     ]
    }
   ],
   "source": [
    "# TUTORIAL 30  (determinant of the matrix)\n",
    "# syntax numpy.linalg.det(a)\n",
    "a = np.array([[1,2],[3,4]])\n",
    "print(a)\n",
    "d =np.linalg.det(a)\n",
    "print(\"determinant of the matrix a is : \",d)\n",
    "print(round(d))\n",
    "\n",
    "b = np.array([[1,2,3],[3,4,5],[7,8,9]])\n",
    "print(b)\n",
    "d =np.linalg.det(b)\n",
    "print(\"determinant of the matrix a is : \",d)\n",
    "print(round(d))[[1 2]\n",
    " [3 4]]\n",
    "determinant of the matrix a is :  -2.0000000000000004\n",
    "-2.0\n",
    "[[1 2 3]\n",
    " [3 4 5]\n",
    " [7 8 9]]\n",
    "determinant of the matrix a is :  -1.4591502609359235e-15\n",
    "-0.0\n"
   ]
  },
  {
   "cell_type": "code",
   "execution_count": 29,
   "metadata": {},
   "outputs": [
    {
     "name": "stdout",
     "output_type": "stream",
     "text": [
      "Enter the value of items : 1\n",
      "Enter the value of items : 2\n",
      "Enter the value of items : 3\n",
      "Enter the value of items : 4\n",
      "[1. 2. 3. 4.]\n"
     ]
    },
    {
     "ename": "ValueError",
     "evalue": "Non-string object detected for the array ordering. Please pass in 'C', 'F', 'A', or 'K' instead",
     "output_type": "error",
     "traceback": [
      "\u001b[1;31m---------------------------------------------------------------------------\u001b[0m",
      "\u001b[1;31mValueError\u001b[0m                                Traceback (most recent call last)",
      "\u001b[1;32m<ipython-input-29-3f65582caf42>\u001b[0m in \u001b[0;36m<module>\u001b[1;34m\u001b[0m\n\u001b[0;32m     13\u001b[0m \u001b[1;33m\u001b[0m\u001b[0m\n\u001b[0;32m     14\u001b[0m \u001b[0mprint\u001b[0m\u001b[1;33m(\u001b[0m\u001b[0mmatrix\u001b[0m\u001b[1;33m)\u001b[0m\u001b[1;33m\u001b[0m\u001b[1;33m\u001b[0m\u001b[0m\n\u001b[1;32m---> 15\u001b[1;33m \u001b[0mmat\u001b[0m \u001b[1;33m=\u001b[0m \u001b[0mnp\u001b[0m\u001b[1;33m.\u001b[0m\u001b[0mreshape\u001b[0m\u001b[1;33m(\u001b[0m\u001b[1;36m2\u001b[0m\u001b[1;33m,\u001b[0m\u001b[1;36m2\u001b[0m\u001b[1;33m,\u001b[0m\u001b[0mmatrix\u001b[0m\u001b[1;33m)\u001b[0m\u001b[1;33m\u001b[0m\u001b[1;33m\u001b[0m\u001b[0m\n\u001b[0m",
      "\u001b[1;32m<__array_function__ internals>\u001b[0m in \u001b[0;36mreshape\u001b[1;34m(*args, **kwargs)\u001b[0m\n",
      "\u001b[1;32m~\\anaconda3\\lib\\site-packages\\numpy\\core\\fromnumeric.py\u001b[0m in \u001b[0;36mreshape\u001b[1;34m(a, newshape, order)\u001b[0m\n\u001b[0;32m    299\u001b[0m            [5, 6]])\n\u001b[0;32m    300\u001b[0m     \"\"\"\n\u001b[1;32m--> 301\u001b[1;33m     \u001b[1;32mreturn\u001b[0m \u001b[0m_wrapfunc\u001b[0m\u001b[1;33m(\u001b[0m\u001b[0ma\u001b[0m\u001b[1;33m,\u001b[0m \u001b[1;34m'reshape'\u001b[0m\u001b[1;33m,\u001b[0m \u001b[0mnewshape\u001b[0m\u001b[1;33m,\u001b[0m \u001b[0morder\u001b[0m\u001b[1;33m=\u001b[0m\u001b[0morder\u001b[0m\u001b[1;33m)\u001b[0m\u001b[1;33m\u001b[0m\u001b[1;33m\u001b[0m\u001b[0m\n\u001b[0m\u001b[0;32m    302\u001b[0m \u001b[1;33m\u001b[0m\u001b[0m\n\u001b[0;32m    303\u001b[0m \u001b[1;33m\u001b[0m\u001b[0m\n",
      "\u001b[1;32m~\\anaconda3\\lib\\site-packages\\numpy\\core\\fromnumeric.py\u001b[0m in \u001b[0;36m_wrapfunc\u001b[1;34m(obj, method, *args, **kwds)\u001b[0m\n\u001b[0;32m     56\u001b[0m     \u001b[0mbound\u001b[0m \u001b[1;33m=\u001b[0m \u001b[0mgetattr\u001b[0m\u001b[1;33m(\u001b[0m\u001b[0mobj\u001b[0m\u001b[1;33m,\u001b[0m \u001b[0mmethod\u001b[0m\u001b[1;33m,\u001b[0m \u001b[1;32mNone\u001b[0m\u001b[1;33m)\u001b[0m\u001b[1;33m\u001b[0m\u001b[1;33m\u001b[0m\u001b[0m\n\u001b[0;32m     57\u001b[0m     \u001b[1;32mif\u001b[0m \u001b[0mbound\u001b[0m \u001b[1;32mis\u001b[0m \u001b[1;32mNone\u001b[0m\u001b[1;33m:\u001b[0m\u001b[1;33m\u001b[0m\u001b[1;33m\u001b[0m\u001b[0m\n\u001b[1;32m---> 58\u001b[1;33m         \u001b[1;32mreturn\u001b[0m \u001b[0m_wrapit\u001b[0m\u001b[1;33m(\u001b[0m\u001b[0mobj\u001b[0m\u001b[1;33m,\u001b[0m \u001b[0mmethod\u001b[0m\u001b[1;33m,\u001b[0m \u001b[1;33m*\u001b[0m\u001b[0margs\u001b[0m\u001b[1;33m,\u001b[0m \u001b[1;33m**\u001b[0m\u001b[0mkwds\u001b[0m\u001b[1;33m)\u001b[0m\u001b[1;33m\u001b[0m\u001b[1;33m\u001b[0m\u001b[0m\n\u001b[0m\u001b[0;32m     59\u001b[0m \u001b[1;33m\u001b[0m\u001b[0m\n\u001b[0;32m     60\u001b[0m     \u001b[1;32mtry\u001b[0m\u001b[1;33m:\u001b[0m\u001b[1;33m\u001b[0m\u001b[1;33m\u001b[0m\u001b[0m\n",
      "\u001b[1;32m~\\anaconda3\\lib\\site-packages\\numpy\\core\\fromnumeric.py\u001b[0m in \u001b[0;36m_wrapit\u001b[1;34m(obj, method, *args, **kwds)\u001b[0m\n\u001b[0;32m     45\u001b[0m     \u001b[1;32mexcept\u001b[0m \u001b[0mAttributeError\u001b[0m\u001b[1;33m:\u001b[0m\u001b[1;33m\u001b[0m\u001b[1;33m\u001b[0m\u001b[0m\n\u001b[0;32m     46\u001b[0m         \u001b[0mwrap\u001b[0m \u001b[1;33m=\u001b[0m \u001b[1;32mNone\u001b[0m\u001b[1;33m\u001b[0m\u001b[1;33m\u001b[0m\u001b[0m\n\u001b[1;32m---> 47\u001b[1;33m     \u001b[0mresult\u001b[0m \u001b[1;33m=\u001b[0m \u001b[0mgetattr\u001b[0m\u001b[1;33m(\u001b[0m\u001b[0masarray\u001b[0m\u001b[1;33m(\u001b[0m\u001b[0mobj\u001b[0m\u001b[1;33m)\u001b[0m\u001b[1;33m,\u001b[0m \u001b[0mmethod\u001b[0m\u001b[1;33m)\u001b[0m\u001b[1;33m(\u001b[0m\u001b[1;33m*\u001b[0m\u001b[0margs\u001b[0m\u001b[1;33m,\u001b[0m \u001b[1;33m**\u001b[0m\u001b[0mkwds\u001b[0m\u001b[1;33m)\u001b[0m\u001b[1;33m\u001b[0m\u001b[1;33m\u001b[0m\u001b[0m\n\u001b[0m\u001b[0;32m     48\u001b[0m     \u001b[1;32mif\u001b[0m \u001b[0mwrap\u001b[0m\u001b[1;33m:\u001b[0m\u001b[1;33m\u001b[0m\u001b[1;33m\u001b[0m\u001b[0m\n\u001b[0;32m     49\u001b[0m         \u001b[1;32mif\u001b[0m \u001b[1;32mnot\u001b[0m \u001b[0misinstance\u001b[0m\u001b[1;33m(\u001b[0m\u001b[0mresult\u001b[0m\u001b[1;33m,\u001b[0m \u001b[0mmu\u001b[0m\u001b[1;33m.\u001b[0m\u001b[0mndarray\u001b[0m\u001b[1;33m)\u001b[0m\u001b[1;33m:\u001b[0m\u001b[1;33m\u001b[0m\u001b[1;33m\u001b[0m\u001b[0m\n",
      "\u001b[1;31mValueError\u001b[0m: Non-string object detected for the array ordering. Please pass in 'C', 'F', 'A', or 'K' instead"
     ]
    }
   ],
   "source": [
    "import numpy as np\n",
    "r = 2\n",
    "l = 2\n",
    "matrix = np.array([])\n",
    "\n",
    "for i in range(r):\n",
    "    \n",
    "    a = np.array([])    \n",
    "    for j in range(l):\n",
    "        val = int(input(\"Enter the value of items : \"))\n",
    "        a = np.append(a, val)\n",
    "    matrix = np.append(matrix, a)\n",
    "    \n"
   ]
  }
 ],
 "metadata": {
  "kernelspec": {
   "display_name": "Python 3",
   "language": "python",
   "name": "python3"
  },
  "language_info": {
   "codemirror_mode": {
    "name": "ipython",
    "version": 3
   },
   "file_extension": ".py",
   "mimetype": "text/x-python",
   "name": "python",
   "nbconvert_exporter": "python",
   "pygments_lexer": "ipython3",
   "version": "3.8.3"
  }
 },
 "nbformat": 4,
 "nbformat_minor": 4
}
